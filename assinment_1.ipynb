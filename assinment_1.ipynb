{
  "nbformat": 4,
  "nbformat_minor": 0,
  "metadata": {
    "colab": {
      "provenance": [],
      "collapsed_sections": []
    },
    "kernelspec": {
      "name": "python3",
      "display_name": "Python 3"
    },
    "language_info": {
      "name": "python"
    },
    "accelerator": "GPU",
    "gpuClass": "standard"
  },
  "cells": [
    {
      "cell_type": "markdown",
      "source": [
        "# **First Project - ML**\n",
        "\n",
        "*Shir Sharoni, Itamar Avieli, Omer Abraham, Mor Baruch*"
      ],
      "metadata": {
        "id": "nIVnJLNFW7d0"
      }
    },
    {
      "cell_type": "code",
      "source": [
        "from sklearn import datasets\n",
        "from sklearn.model_selection import train_test_split, KFold, cross_val_score\n",
        "from sklearn.ensemble import RandomForestClassifier\n",
        "from sklearn.linear_model import LinearRegression\n",
        "from sklearn.metrics import classification_report, confusion_matrix, ConfusionMatrixDisplay\n",
        "\n",
        "import pandas as pd\n",
        "import numpy as np\n",
        "import math\n",
        "\n",
        "\n",
        "import matplotlib.pyplot as plt\n",
        "import seaborn as sns\n",
        "\n",
        "from tqdm.notebook import tqdm as notebook_tqdm"
      ],
      "metadata": {
        "id": "9cNSQ65NTnUV"
      },
      "execution_count": 1,
      "outputs": []
    },
    {
      "cell_type": "markdown",
      "source": [
        "# **Exploring the Data**"
      ],
      "metadata": {
        "id": "fpkocut7drc-"
      }
    },
    {
      "cell_type": "code",
      "source": [
        "df = pd.read_csv('https://github.com/odedovadia/AdvancedMLDLCourse/blob/main/Assignments/Assignment%20I/train.csv?raw=true')\n",
        "df"
      ],
      "metadata": {
        "colab": {
          "base_uri": "https://localhost:8080/",
          "height": 835
        },
        "id": "TUDf8JCrWGE2",
        "outputId": "eab6e2c9-60d8-435b-d33a-d1299ed68cdc"
      },
      "execution_count": 2,
      "outputs": [
        {
          "output_type": "execute_result",
          "data": {
            "text/plain": [
              "                 datetime  season  holiday  workingday  weather   temp  \\\n",
              "0     2011-07-11 00:00:00       3        0           1        1  28.70   \n",
              "1     2012-05-18 22:00:00       2        0           1        1  22.96   \n",
              "2     2011-04-01 23:00:00       2        0           1        1  12.30   \n",
              "3     2012-09-16 09:00:00       3        0           0        1  23.78   \n",
              "4     2011-02-01 23:00:00       1        0           1        3   8.20   \n",
              "...                   ...     ...      ...         ...      ...    ...   \n",
              "8159  2012-01-14 02:00:00       1        0           0        1   6.56   \n",
              "8160  2011-12-10 09:00:00       4        0           0        1  11.48   \n",
              "8161  2011-12-18 16:00:00       4        0           0        1  11.48   \n",
              "8162  2011-02-19 07:00:00       1        0           0        1  15.58   \n",
              "8163  2012-05-02 07:00:00       2        0           1        2  22.14   \n",
              "\n",
              "       atemp  humidity  windspeed  pollution  sunlight   traffic  count  \n",
              "0     32.575        65    12.9980   5.354100    28.701  0.000000     35  \n",
              "1     26.515        52    22.0028  85.425233    22.961  0.004489    251  \n",
              "2     15.910        61     6.0032   2.040899    12.301  0.000242     53  \n",
              "3     27.275        60     8.9981  26.682772    23.781  0.004489    296  \n",
              "4      9.850        93    12.9980   5.851754     8.201  0.000000     16  \n",
              "...      ...       ...        ...        ...       ...       ...    ...  \n",
              "8159   8.335        47    11.0014  14.953355     6.561  0.004489     38  \n",
              "8160  12.880        61    19.0012   7.977025    11.481  0.000000    149  \n",
              "8161  13.635        48    16.9979   6.916512    11.481  0.015615    234  \n",
              "8162  19.695        17    35.0008   0.095445    15.581  0.000242     22  \n",
              "8163  25.760        88    12.9980  81.965417    22.141  0.015615    358  \n",
              "\n",
              "[8164 rows x 13 columns]"
            ],
            "text/html": [
              "\n",
              "  <div id=\"df-3855799d-59c3-4e93-b690-09fc447aaa74\">\n",
              "    <div class=\"colab-df-container\">\n",
              "      <div>\n",
              "<style scoped>\n",
              "    .dataframe tbody tr th:only-of-type {\n",
              "        vertical-align: middle;\n",
              "    }\n",
              "\n",
              "    .dataframe tbody tr th {\n",
              "        vertical-align: top;\n",
              "    }\n",
              "\n",
              "    .dataframe thead th {\n",
              "        text-align: right;\n",
              "    }\n",
              "</style>\n",
              "<table border=\"1\" class=\"dataframe\">\n",
              "  <thead>\n",
              "    <tr style=\"text-align: right;\">\n",
              "      <th></th>\n",
              "      <th>datetime</th>\n",
              "      <th>season</th>\n",
              "      <th>holiday</th>\n",
              "      <th>workingday</th>\n",
              "      <th>weather</th>\n",
              "      <th>temp</th>\n",
              "      <th>atemp</th>\n",
              "      <th>humidity</th>\n",
              "      <th>windspeed</th>\n",
              "      <th>pollution</th>\n",
              "      <th>sunlight</th>\n",
              "      <th>traffic</th>\n",
              "      <th>count</th>\n",
              "    </tr>\n",
              "  </thead>\n",
              "  <tbody>\n",
              "    <tr>\n",
              "      <th>0</th>\n",
              "      <td>2011-07-11 00:00:00</td>\n",
              "      <td>3</td>\n",
              "      <td>0</td>\n",
              "      <td>1</td>\n",
              "      <td>1</td>\n",
              "      <td>28.70</td>\n",
              "      <td>32.575</td>\n",
              "      <td>65</td>\n",
              "      <td>12.9980</td>\n",
              "      <td>5.354100</td>\n",
              "      <td>28.701</td>\n",
              "      <td>0.000000</td>\n",
              "      <td>35</td>\n",
              "    </tr>\n",
              "    <tr>\n",
              "      <th>1</th>\n",
              "      <td>2012-05-18 22:00:00</td>\n",
              "      <td>2</td>\n",
              "      <td>0</td>\n",
              "      <td>1</td>\n",
              "      <td>1</td>\n",
              "      <td>22.96</td>\n",
              "      <td>26.515</td>\n",
              "      <td>52</td>\n",
              "      <td>22.0028</td>\n",
              "      <td>85.425233</td>\n",
              "      <td>22.961</td>\n",
              "      <td>0.004489</td>\n",
              "      <td>251</td>\n",
              "    </tr>\n",
              "    <tr>\n",
              "      <th>2</th>\n",
              "      <td>2011-04-01 23:00:00</td>\n",
              "      <td>2</td>\n",
              "      <td>0</td>\n",
              "      <td>1</td>\n",
              "      <td>1</td>\n",
              "      <td>12.30</td>\n",
              "      <td>15.910</td>\n",
              "      <td>61</td>\n",
              "      <td>6.0032</td>\n",
              "      <td>2.040899</td>\n",
              "      <td>12.301</td>\n",
              "      <td>0.000242</td>\n",
              "      <td>53</td>\n",
              "    </tr>\n",
              "    <tr>\n",
              "      <th>3</th>\n",
              "      <td>2012-09-16 09:00:00</td>\n",
              "      <td>3</td>\n",
              "      <td>0</td>\n",
              "      <td>0</td>\n",
              "      <td>1</td>\n",
              "      <td>23.78</td>\n",
              "      <td>27.275</td>\n",
              "      <td>60</td>\n",
              "      <td>8.9981</td>\n",
              "      <td>26.682772</td>\n",
              "      <td>23.781</td>\n",
              "      <td>0.004489</td>\n",
              "      <td>296</td>\n",
              "    </tr>\n",
              "    <tr>\n",
              "      <th>4</th>\n",
              "      <td>2011-02-01 23:00:00</td>\n",
              "      <td>1</td>\n",
              "      <td>0</td>\n",
              "      <td>1</td>\n",
              "      <td>3</td>\n",
              "      <td>8.20</td>\n",
              "      <td>9.850</td>\n",
              "      <td>93</td>\n",
              "      <td>12.9980</td>\n",
              "      <td>5.851754</td>\n",
              "      <td>8.201</td>\n",
              "      <td>0.000000</td>\n",
              "      <td>16</td>\n",
              "    </tr>\n",
              "    <tr>\n",
              "      <th>...</th>\n",
              "      <td>...</td>\n",
              "      <td>...</td>\n",
              "      <td>...</td>\n",
              "      <td>...</td>\n",
              "      <td>...</td>\n",
              "      <td>...</td>\n",
              "      <td>...</td>\n",
              "      <td>...</td>\n",
              "      <td>...</td>\n",
              "      <td>...</td>\n",
              "      <td>...</td>\n",
              "      <td>...</td>\n",
              "      <td>...</td>\n",
              "    </tr>\n",
              "    <tr>\n",
              "      <th>8159</th>\n",
              "      <td>2012-01-14 02:00:00</td>\n",
              "      <td>1</td>\n",
              "      <td>0</td>\n",
              "      <td>0</td>\n",
              "      <td>1</td>\n",
              "      <td>6.56</td>\n",
              "      <td>8.335</td>\n",
              "      <td>47</td>\n",
              "      <td>11.0014</td>\n",
              "      <td>14.953355</td>\n",
              "      <td>6.561</td>\n",
              "      <td>0.004489</td>\n",
              "      <td>38</td>\n",
              "    </tr>\n",
              "    <tr>\n",
              "      <th>8160</th>\n",
              "      <td>2011-12-10 09:00:00</td>\n",
              "      <td>4</td>\n",
              "      <td>0</td>\n",
              "      <td>0</td>\n",
              "      <td>1</td>\n",
              "      <td>11.48</td>\n",
              "      <td>12.880</td>\n",
              "      <td>61</td>\n",
              "      <td>19.0012</td>\n",
              "      <td>7.977025</td>\n",
              "      <td>11.481</td>\n",
              "      <td>0.000000</td>\n",
              "      <td>149</td>\n",
              "    </tr>\n",
              "    <tr>\n",
              "      <th>8161</th>\n",
              "      <td>2011-12-18 16:00:00</td>\n",
              "      <td>4</td>\n",
              "      <td>0</td>\n",
              "      <td>0</td>\n",
              "      <td>1</td>\n",
              "      <td>11.48</td>\n",
              "      <td>13.635</td>\n",
              "      <td>48</td>\n",
              "      <td>16.9979</td>\n",
              "      <td>6.916512</td>\n",
              "      <td>11.481</td>\n",
              "      <td>0.015615</td>\n",
              "      <td>234</td>\n",
              "    </tr>\n",
              "    <tr>\n",
              "      <th>8162</th>\n",
              "      <td>2011-02-19 07:00:00</td>\n",
              "      <td>1</td>\n",
              "      <td>0</td>\n",
              "      <td>0</td>\n",
              "      <td>1</td>\n",
              "      <td>15.58</td>\n",
              "      <td>19.695</td>\n",
              "      <td>17</td>\n",
              "      <td>35.0008</td>\n",
              "      <td>0.095445</td>\n",
              "      <td>15.581</td>\n",
              "      <td>0.000242</td>\n",
              "      <td>22</td>\n",
              "    </tr>\n",
              "    <tr>\n",
              "      <th>8163</th>\n",
              "      <td>2012-05-02 07:00:00</td>\n",
              "      <td>2</td>\n",
              "      <td>0</td>\n",
              "      <td>1</td>\n",
              "      <td>2</td>\n",
              "      <td>22.14</td>\n",
              "      <td>25.760</td>\n",
              "      <td>88</td>\n",
              "      <td>12.9980</td>\n",
              "      <td>81.965417</td>\n",
              "      <td>22.141</td>\n",
              "      <td>0.015615</td>\n",
              "      <td>358</td>\n",
              "    </tr>\n",
              "  </tbody>\n",
              "</table>\n",
              "<p>8164 rows × 13 columns</p>\n",
              "</div>\n",
              "      <button class=\"colab-df-convert\" onclick=\"convertToInteractive('df-3855799d-59c3-4e93-b690-09fc447aaa74')\"\n",
              "              title=\"Convert this dataframe to an interactive table.\"\n",
              "              style=\"display:none;\">\n",
              "        \n",
              "  <svg xmlns=\"http://www.w3.org/2000/svg\" height=\"24px\"viewBox=\"0 0 24 24\"\n",
              "       width=\"24px\">\n",
              "    <path d=\"M0 0h24v24H0V0z\" fill=\"none\"/>\n",
              "    <path d=\"M18.56 5.44l.94 2.06.94-2.06 2.06-.94-2.06-.94-.94-2.06-.94 2.06-2.06.94zm-11 1L8.5 8.5l.94-2.06 2.06-.94-2.06-.94L8.5 2.5l-.94 2.06-2.06.94zm10 10l.94 2.06.94-2.06 2.06-.94-2.06-.94-.94-2.06-.94 2.06-2.06.94z\"/><path d=\"M17.41 7.96l-1.37-1.37c-.4-.4-.92-.59-1.43-.59-.52 0-1.04.2-1.43.59L10.3 9.45l-7.72 7.72c-.78.78-.78 2.05 0 2.83L4 21.41c.39.39.9.59 1.41.59.51 0 1.02-.2 1.41-.59l7.78-7.78 2.81-2.81c.8-.78.8-2.07 0-2.86zM5.41 20L4 18.59l7.72-7.72 1.47 1.35L5.41 20z\"/>\n",
              "  </svg>\n",
              "      </button>\n",
              "      \n",
              "  <style>\n",
              "    .colab-df-container {\n",
              "      display:flex;\n",
              "      flex-wrap:wrap;\n",
              "      gap: 12px;\n",
              "    }\n",
              "\n",
              "    .colab-df-convert {\n",
              "      background-color: #E8F0FE;\n",
              "      border: none;\n",
              "      border-radius: 50%;\n",
              "      cursor: pointer;\n",
              "      display: none;\n",
              "      fill: #1967D2;\n",
              "      height: 32px;\n",
              "      padding: 0 0 0 0;\n",
              "      width: 32px;\n",
              "    }\n",
              "\n",
              "    .colab-df-convert:hover {\n",
              "      background-color: #E2EBFA;\n",
              "      box-shadow: 0px 1px 2px rgba(60, 64, 67, 0.3), 0px 1px 3px 1px rgba(60, 64, 67, 0.15);\n",
              "      fill: #174EA6;\n",
              "    }\n",
              "\n",
              "    [theme=dark] .colab-df-convert {\n",
              "      background-color: #3B4455;\n",
              "      fill: #D2E3FC;\n",
              "    }\n",
              "\n",
              "    [theme=dark] .colab-df-convert:hover {\n",
              "      background-color: #434B5C;\n",
              "      box-shadow: 0px 1px 3px 1px rgba(0, 0, 0, 0.15);\n",
              "      filter: drop-shadow(0px 1px 2px rgba(0, 0, 0, 0.3));\n",
              "      fill: #FFFFFF;\n",
              "    }\n",
              "  </style>\n",
              "\n",
              "      <script>\n",
              "        const buttonEl =\n",
              "          document.querySelector('#df-3855799d-59c3-4e93-b690-09fc447aaa74 button.colab-df-convert');\n",
              "        buttonEl.style.display =\n",
              "          google.colab.kernel.accessAllowed ? 'block' : 'none';\n",
              "\n",
              "        async function convertToInteractive(key) {\n",
              "          const element = document.querySelector('#df-3855799d-59c3-4e93-b690-09fc447aaa74');\n",
              "          const dataTable =\n",
              "            await google.colab.kernel.invokeFunction('convertToInteractive',\n",
              "                                                     [key], {});\n",
              "          if (!dataTable) return;\n",
              "\n",
              "          const docLinkHtml = 'Like what you see? Visit the ' +\n",
              "            '<a target=\"_blank\" href=https://colab.research.google.com/notebooks/data_table.ipynb>data table notebook</a>'\n",
              "            + ' to learn more about interactive tables.';\n",
              "          element.innerHTML = '';\n",
              "          dataTable['output_type'] = 'display_data';\n",
              "          await google.colab.output.renderOutput(dataTable, element);\n",
              "          const docLink = document.createElement('div');\n",
              "          docLink.innerHTML = docLinkHtml;\n",
              "          element.appendChild(docLink);\n",
              "        }\n",
              "      </script>\n",
              "    </div>\n",
              "  </div>\n",
              "  "
            ]
          },
          "metadata": {},
          "execution_count": 2
        }
      ]
    },
    {
      "cell_type": "markdown",
      "source": [
        "# Features Explanation\n",
        "1. **datetime** - time of rental\n",
        "2. **season** - (1:winter, 2:spring, 3:summer, 4:fall)\n",
        "3. **holiday** - (Is it a bank holiday? If so: 1, else 0)\n",
        "4. **workingday** - (Is it a working day? If so: 1, else 0)\n",
        "5. **weather** - \n",
        "          1: Clear, Few clouds, Partly cloudy, Partly cloudy\n",
        "         2: Mist + Cloudy, Mist + Broken clouds, Mist + Few clouds, Mist\n",
        "         3: Light Snow, Light Rain + Thunderstorm + Scattered clouds, Light Rain + Scattered clouds\n",
        "         4: Heavy Rain + Ice Pallets + Thunderstorm + Mist, Snow + Fog\n",
        "6. **temp** - temperature \n",
        "7. **atemp** - average temperature \n",
        "\n",
        "The rest are self explanatory:\n",
        "8. humidity\n",
        "9. windspeed\n",
        "10. pollution\n",
        "11. sunlight\n",
        "12. traffic\n",
        "13. count\n",
        "\n",
        "\n"
      ],
      "metadata": {
        "id": "FRy3SVayZzyY"
      }
    },
    {
      "cell_type": "markdown",
      "source": [
        "## **Description tables**"
      ],
      "metadata": {
        "id": "ZS0Yszt3pOFH"
      }
    },
    {
      "cell_type": "code",
      "source": [
        "def Describe_data (data : pd.DataFrame) : \n",
        "  columns_lst = ['Feature Name', 'Null', 'Type','Unique Values']\n",
        "  final = pd.DataFrame (columns = columns_lst)\n",
        "  for column in data.columns[:] : \n",
        "    cur_row =[column, data[column].isna().sum(), data[column].dtypes ,data[column].nunique()]\n",
        "    final.loc[final.shape[0]] = cur_row\n",
        "  return (final)\n",
        "\n",
        "Describe_data(df)"
      ],
      "metadata": {
        "colab": {
          "base_uri": "https://localhost:8080/",
          "height": 457
        },
        "id": "RgOEaxSycVQW",
        "outputId": "74c82ce9-6121-45a3-b219-23540d84de78"
      },
      "execution_count": 3,
      "outputs": [
        {
          "output_type": "execute_result",
          "data": {
            "text/plain": [
              "   Feature Name Null     Type Unique Values\n",
              "0      datetime    0   object          8164\n",
              "1        season    0    int64             4\n",
              "2       holiday    0    int64             2\n",
              "3    workingday    0    int64             2\n",
              "4       weather    0    int64             4\n",
              "5          temp    0  float64            49\n",
              "6         atemp    0  float64            60\n",
              "7      humidity    0    int64            87\n",
              "8     windspeed    0  float64            28\n",
              "9     pollution    0  float64          8164\n",
              "10     sunlight    0  float64            49\n",
              "11      traffic    0  float64             4\n",
              "12        count    0    int64           789"
            ],
            "text/html": [
              "\n",
              "  <div id=\"df-6519c1bb-a12b-4c6c-9820-8ab0880a4170\">\n",
              "    <div class=\"colab-df-container\">\n",
              "      <div>\n",
              "<style scoped>\n",
              "    .dataframe tbody tr th:only-of-type {\n",
              "        vertical-align: middle;\n",
              "    }\n",
              "\n",
              "    .dataframe tbody tr th {\n",
              "        vertical-align: top;\n",
              "    }\n",
              "\n",
              "    .dataframe thead th {\n",
              "        text-align: right;\n",
              "    }\n",
              "</style>\n",
              "<table border=\"1\" class=\"dataframe\">\n",
              "  <thead>\n",
              "    <tr style=\"text-align: right;\">\n",
              "      <th></th>\n",
              "      <th>Feature Name</th>\n",
              "      <th>Null</th>\n",
              "      <th>Type</th>\n",
              "      <th>Unique Values</th>\n",
              "    </tr>\n",
              "  </thead>\n",
              "  <tbody>\n",
              "    <tr>\n",
              "      <th>0</th>\n",
              "      <td>datetime</td>\n",
              "      <td>0</td>\n",
              "      <td>object</td>\n",
              "      <td>8164</td>\n",
              "    </tr>\n",
              "    <tr>\n",
              "      <th>1</th>\n",
              "      <td>season</td>\n",
              "      <td>0</td>\n",
              "      <td>int64</td>\n",
              "      <td>4</td>\n",
              "    </tr>\n",
              "    <tr>\n",
              "      <th>2</th>\n",
              "      <td>holiday</td>\n",
              "      <td>0</td>\n",
              "      <td>int64</td>\n",
              "      <td>2</td>\n",
              "    </tr>\n",
              "    <tr>\n",
              "      <th>3</th>\n",
              "      <td>workingday</td>\n",
              "      <td>0</td>\n",
              "      <td>int64</td>\n",
              "      <td>2</td>\n",
              "    </tr>\n",
              "    <tr>\n",
              "      <th>4</th>\n",
              "      <td>weather</td>\n",
              "      <td>0</td>\n",
              "      <td>int64</td>\n",
              "      <td>4</td>\n",
              "    </tr>\n",
              "    <tr>\n",
              "      <th>5</th>\n",
              "      <td>temp</td>\n",
              "      <td>0</td>\n",
              "      <td>float64</td>\n",
              "      <td>49</td>\n",
              "    </tr>\n",
              "    <tr>\n",
              "      <th>6</th>\n",
              "      <td>atemp</td>\n",
              "      <td>0</td>\n",
              "      <td>float64</td>\n",
              "      <td>60</td>\n",
              "    </tr>\n",
              "    <tr>\n",
              "      <th>7</th>\n",
              "      <td>humidity</td>\n",
              "      <td>0</td>\n",
              "      <td>int64</td>\n",
              "      <td>87</td>\n",
              "    </tr>\n",
              "    <tr>\n",
              "      <th>8</th>\n",
              "      <td>windspeed</td>\n",
              "      <td>0</td>\n",
              "      <td>float64</td>\n",
              "      <td>28</td>\n",
              "    </tr>\n",
              "    <tr>\n",
              "      <th>9</th>\n",
              "      <td>pollution</td>\n",
              "      <td>0</td>\n",
              "      <td>float64</td>\n",
              "      <td>8164</td>\n",
              "    </tr>\n",
              "    <tr>\n",
              "      <th>10</th>\n",
              "      <td>sunlight</td>\n",
              "      <td>0</td>\n",
              "      <td>float64</td>\n",
              "      <td>49</td>\n",
              "    </tr>\n",
              "    <tr>\n",
              "      <th>11</th>\n",
              "      <td>traffic</td>\n",
              "      <td>0</td>\n",
              "      <td>float64</td>\n",
              "      <td>4</td>\n",
              "    </tr>\n",
              "    <tr>\n",
              "      <th>12</th>\n",
              "      <td>count</td>\n",
              "      <td>0</td>\n",
              "      <td>int64</td>\n",
              "      <td>789</td>\n",
              "    </tr>\n",
              "  </tbody>\n",
              "</table>\n",
              "</div>\n",
              "      <button class=\"colab-df-convert\" onclick=\"convertToInteractive('df-6519c1bb-a12b-4c6c-9820-8ab0880a4170')\"\n",
              "              title=\"Convert this dataframe to an interactive table.\"\n",
              "              style=\"display:none;\">\n",
              "        \n",
              "  <svg xmlns=\"http://www.w3.org/2000/svg\" height=\"24px\"viewBox=\"0 0 24 24\"\n",
              "       width=\"24px\">\n",
              "    <path d=\"M0 0h24v24H0V0z\" fill=\"none\"/>\n",
              "    <path d=\"M18.56 5.44l.94 2.06.94-2.06 2.06-.94-2.06-.94-.94-2.06-.94 2.06-2.06.94zm-11 1L8.5 8.5l.94-2.06 2.06-.94-2.06-.94L8.5 2.5l-.94 2.06-2.06.94zm10 10l.94 2.06.94-2.06 2.06-.94-2.06-.94-.94-2.06-.94 2.06-2.06.94z\"/><path d=\"M17.41 7.96l-1.37-1.37c-.4-.4-.92-.59-1.43-.59-.52 0-1.04.2-1.43.59L10.3 9.45l-7.72 7.72c-.78.78-.78 2.05 0 2.83L4 21.41c.39.39.9.59 1.41.59.51 0 1.02-.2 1.41-.59l7.78-7.78 2.81-2.81c.8-.78.8-2.07 0-2.86zM5.41 20L4 18.59l7.72-7.72 1.47 1.35L5.41 20z\"/>\n",
              "  </svg>\n",
              "      </button>\n",
              "      \n",
              "  <style>\n",
              "    .colab-df-container {\n",
              "      display:flex;\n",
              "      flex-wrap:wrap;\n",
              "      gap: 12px;\n",
              "    }\n",
              "\n",
              "    .colab-df-convert {\n",
              "      background-color: #E8F0FE;\n",
              "      border: none;\n",
              "      border-radius: 50%;\n",
              "      cursor: pointer;\n",
              "      display: none;\n",
              "      fill: #1967D2;\n",
              "      height: 32px;\n",
              "      padding: 0 0 0 0;\n",
              "      width: 32px;\n",
              "    }\n",
              "\n",
              "    .colab-df-convert:hover {\n",
              "      background-color: #E2EBFA;\n",
              "      box-shadow: 0px 1px 2px rgba(60, 64, 67, 0.3), 0px 1px 3px 1px rgba(60, 64, 67, 0.15);\n",
              "      fill: #174EA6;\n",
              "    }\n",
              "\n",
              "    [theme=dark] .colab-df-convert {\n",
              "      background-color: #3B4455;\n",
              "      fill: #D2E3FC;\n",
              "    }\n",
              "\n",
              "    [theme=dark] .colab-df-convert:hover {\n",
              "      background-color: #434B5C;\n",
              "      box-shadow: 0px 1px 3px 1px rgba(0, 0, 0, 0.15);\n",
              "      filter: drop-shadow(0px 1px 2px rgba(0, 0, 0, 0.3));\n",
              "      fill: #FFFFFF;\n",
              "    }\n",
              "  </style>\n",
              "\n",
              "      <script>\n",
              "        const buttonEl =\n",
              "          document.querySelector('#df-6519c1bb-a12b-4c6c-9820-8ab0880a4170 button.colab-df-convert');\n",
              "        buttonEl.style.display =\n",
              "          google.colab.kernel.accessAllowed ? 'block' : 'none';\n",
              "\n",
              "        async function convertToInteractive(key) {\n",
              "          const element = document.querySelector('#df-6519c1bb-a12b-4c6c-9820-8ab0880a4170');\n",
              "          const dataTable =\n",
              "            await google.colab.kernel.invokeFunction('convertToInteractive',\n",
              "                                                     [key], {});\n",
              "          if (!dataTable) return;\n",
              "\n",
              "          const docLinkHtml = 'Like what you see? Visit the ' +\n",
              "            '<a target=\"_blank\" href=https://colab.research.google.com/notebooks/data_table.ipynb>data table notebook</a>'\n",
              "            + ' to learn more about interactive tables.';\n",
              "          element.innerHTML = '';\n",
              "          dataTable['output_type'] = 'display_data';\n",
              "          await google.colab.output.renderOutput(dataTable, element);\n",
              "          const docLink = document.createElement('div');\n",
              "          docLink.innerHTML = docLinkHtml;\n",
              "          element.appendChild(docLink);\n",
              "        }\n",
              "      </script>\n",
              "    </div>\n",
              "  </div>\n",
              "  "
            ]
          },
          "metadata": {},
          "execution_count": 3
        }
      ]
    },
    {
      "cell_type": "code",
      "source": [
        "df.describe()"
      ],
      "metadata": {
        "colab": {
          "base_uri": "https://localhost:8080/",
          "height": 364
        },
        "id": "9IWuPm4nYMEn",
        "outputId": "8def6266-4a3e-409b-ab57-5a37cf058aa0"
      },
      "execution_count": 4,
      "outputs": [
        {
          "output_type": "execute_result",
          "data": {
            "text/plain": [
              "            season      holiday   workingday      weather         temp  \\\n",
              "count  8164.000000  8164.000000  8164.000000  8164.000000  8164.000000   \n",
              "mean      2.510289     0.029397     0.683244     1.415483    20.244980   \n",
              "std       1.117178     0.168928     0.465240     0.631242     7.796018   \n",
              "min       1.000000     0.000000     0.000000     1.000000     0.820000   \n",
              "25%       2.000000     0.000000     0.000000     1.000000    13.940000   \n",
              "50%       3.000000     0.000000     1.000000     1.000000    20.500000   \n",
              "75%       4.000000     0.000000     1.000000     2.000000    26.240000   \n",
              "max       4.000000     1.000000     1.000000     4.000000    41.000000   \n",
              "\n",
              "             atemp     humidity    windspeed    pollution     sunlight  \\\n",
              "count  8164.000000  8164.000000  8164.000000  8164.000000  8164.000000   \n",
              "mean     23.670160    61.835130    12.791334    47.152120    20.245980   \n",
              "std       8.468725    19.255791     8.213914    72.882602     7.796018   \n",
              "min       0.760000     0.000000     0.000000     0.000304     0.821000   \n",
              "25%      16.665000    47.000000     7.001500     3.693188    13.941000   \n",
              "50%      24.240000    62.000000    12.998000    17.684113    20.501000   \n",
              "75%      31.060000    77.000000    16.997900    59.257746    26.241000   \n",
              "max      45.455000   100.000000    56.996900   754.304876    41.001000   \n",
              "\n",
              "           traffic        count  \n",
              "count  8164.000000  8164.000000  \n",
              "mean      0.004986   191.339784  \n",
              "std       0.006319   181.143178  \n",
              "min       0.000000     1.000000  \n",
              "25%       0.000000    41.000000  \n",
              "50%       0.000242   145.000000  \n",
              "75%       0.004489   285.000000  \n",
              "max       0.015615   970.000000  "
            ],
            "text/html": [
              "\n",
              "  <div id=\"df-3b01369c-b288-4179-bdbc-32c683b8c381\">\n",
              "    <div class=\"colab-df-container\">\n",
              "      <div>\n",
              "<style scoped>\n",
              "    .dataframe tbody tr th:only-of-type {\n",
              "        vertical-align: middle;\n",
              "    }\n",
              "\n",
              "    .dataframe tbody tr th {\n",
              "        vertical-align: top;\n",
              "    }\n",
              "\n",
              "    .dataframe thead th {\n",
              "        text-align: right;\n",
              "    }\n",
              "</style>\n",
              "<table border=\"1\" class=\"dataframe\">\n",
              "  <thead>\n",
              "    <tr style=\"text-align: right;\">\n",
              "      <th></th>\n",
              "      <th>season</th>\n",
              "      <th>holiday</th>\n",
              "      <th>workingday</th>\n",
              "      <th>weather</th>\n",
              "      <th>temp</th>\n",
              "      <th>atemp</th>\n",
              "      <th>humidity</th>\n",
              "      <th>windspeed</th>\n",
              "      <th>pollution</th>\n",
              "      <th>sunlight</th>\n",
              "      <th>traffic</th>\n",
              "      <th>count</th>\n",
              "    </tr>\n",
              "  </thead>\n",
              "  <tbody>\n",
              "    <tr>\n",
              "      <th>count</th>\n",
              "      <td>8164.000000</td>\n",
              "      <td>8164.000000</td>\n",
              "      <td>8164.000000</td>\n",
              "      <td>8164.000000</td>\n",
              "      <td>8164.000000</td>\n",
              "      <td>8164.000000</td>\n",
              "      <td>8164.000000</td>\n",
              "      <td>8164.000000</td>\n",
              "      <td>8164.000000</td>\n",
              "      <td>8164.000000</td>\n",
              "      <td>8164.000000</td>\n",
              "      <td>8164.000000</td>\n",
              "    </tr>\n",
              "    <tr>\n",
              "      <th>mean</th>\n",
              "      <td>2.510289</td>\n",
              "      <td>0.029397</td>\n",
              "      <td>0.683244</td>\n",
              "      <td>1.415483</td>\n",
              "      <td>20.244980</td>\n",
              "      <td>23.670160</td>\n",
              "      <td>61.835130</td>\n",
              "      <td>12.791334</td>\n",
              "      <td>47.152120</td>\n",
              "      <td>20.245980</td>\n",
              "      <td>0.004986</td>\n",
              "      <td>191.339784</td>\n",
              "    </tr>\n",
              "    <tr>\n",
              "      <th>std</th>\n",
              "      <td>1.117178</td>\n",
              "      <td>0.168928</td>\n",
              "      <td>0.465240</td>\n",
              "      <td>0.631242</td>\n",
              "      <td>7.796018</td>\n",
              "      <td>8.468725</td>\n",
              "      <td>19.255791</td>\n",
              "      <td>8.213914</td>\n",
              "      <td>72.882602</td>\n",
              "      <td>7.796018</td>\n",
              "      <td>0.006319</td>\n",
              "      <td>181.143178</td>\n",
              "    </tr>\n",
              "    <tr>\n",
              "      <th>min</th>\n",
              "      <td>1.000000</td>\n",
              "      <td>0.000000</td>\n",
              "      <td>0.000000</td>\n",
              "      <td>1.000000</td>\n",
              "      <td>0.820000</td>\n",
              "      <td>0.760000</td>\n",
              "      <td>0.000000</td>\n",
              "      <td>0.000000</td>\n",
              "      <td>0.000304</td>\n",
              "      <td>0.821000</td>\n",
              "      <td>0.000000</td>\n",
              "      <td>1.000000</td>\n",
              "    </tr>\n",
              "    <tr>\n",
              "      <th>25%</th>\n",
              "      <td>2.000000</td>\n",
              "      <td>0.000000</td>\n",
              "      <td>0.000000</td>\n",
              "      <td>1.000000</td>\n",
              "      <td>13.940000</td>\n",
              "      <td>16.665000</td>\n",
              "      <td>47.000000</td>\n",
              "      <td>7.001500</td>\n",
              "      <td>3.693188</td>\n",
              "      <td>13.941000</td>\n",
              "      <td>0.000000</td>\n",
              "      <td>41.000000</td>\n",
              "    </tr>\n",
              "    <tr>\n",
              "      <th>50%</th>\n",
              "      <td>3.000000</td>\n",
              "      <td>0.000000</td>\n",
              "      <td>1.000000</td>\n",
              "      <td>1.000000</td>\n",
              "      <td>20.500000</td>\n",
              "      <td>24.240000</td>\n",
              "      <td>62.000000</td>\n",
              "      <td>12.998000</td>\n",
              "      <td>17.684113</td>\n",
              "      <td>20.501000</td>\n",
              "      <td>0.000242</td>\n",
              "      <td>145.000000</td>\n",
              "    </tr>\n",
              "    <tr>\n",
              "      <th>75%</th>\n",
              "      <td>4.000000</td>\n",
              "      <td>0.000000</td>\n",
              "      <td>1.000000</td>\n",
              "      <td>2.000000</td>\n",
              "      <td>26.240000</td>\n",
              "      <td>31.060000</td>\n",
              "      <td>77.000000</td>\n",
              "      <td>16.997900</td>\n",
              "      <td>59.257746</td>\n",
              "      <td>26.241000</td>\n",
              "      <td>0.004489</td>\n",
              "      <td>285.000000</td>\n",
              "    </tr>\n",
              "    <tr>\n",
              "      <th>max</th>\n",
              "      <td>4.000000</td>\n",
              "      <td>1.000000</td>\n",
              "      <td>1.000000</td>\n",
              "      <td>4.000000</td>\n",
              "      <td>41.000000</td>\n",
              "      <td>45.455000</td>\n",
              "      <td>100.000000</td>\n",
              "      <td>56.996900</td>\n",
              "      <td>754.304876</td>\n",
              "      <td>41.001000</td>\n",
              "      <td>0.015615</td>\n",
              "      <td>970.000000</td>\n",
              "    </tr>\n",
              "  </tbody>\n",
              "</table>\n",
              "</div>\n",
              "      <button class=\"colab-df-convert\" onclick=\"convertToInteractive('df-3b01369c-b288-4179-bdbc-32c683b8c381')\"\n",
              "              title=\"Convert this dataframe to an interactive table.\"\n",
              "              style=\"display:none;\">\n",
              "        \n",
              "  <svg xmlns=\"http://www.w3.org/2000/svg\" height=\"24px\"viewBox=\"0 0 24 24\"\n",
              "       width=\"24px\">\n",
              "    <path d=\"M0 0h24v24H0V0z\" fill=\"none\"/>\n",
              "    <path d=\"M18.56 5.44l.94 2.06.94-2.06 2.06-.94-2.06-.94-.94-2.06-.94 2.06-2.06.94zm-11 1L8.5 8.5l.94-2.06 2.06-.94-2.06-.94L8.5 2.5l-.94 2.06-2.06.94zm10 10l.94 2.06.94-2.06 2.06-.94-2.06-.94-.94-2.06-.94 2.06-2.06.94z\"/><path d=\"M17.41 7.96l-1.37-1.37c-.4-.4-.92-.59-1.43-.59-.52 0-1.04.2-1.43.59L10.3 9.45l-7.72 7.72c-.78.78-.78 2.05 0 2.83L4 21.41c.39.39.9.59 1.41.59.51 0 1.02-.2 1.41-.59l7.78-7.78 2.81-2.81c.8-.78.8-2.07 0-2.86zM5.41 20L4 18.59l7.72-7.72 1.47 1.35L5.41 20z\"/>\n",
              "  </svg>\n",
              "      </button>\n",
              "      \n",
              "  <style>\n",
              "    .colab-df-container {\n",
              "      display:flex;\n",
              "      flex-wrap:wrap;\n",
              "      gap: 12px;\n",
              "    }\n",
              "\n",
              "    .colab-df-convert {\n",
              "      background-color: #E8F0FE;\n",
              "      border: none;\n",
              "      border-radius: 50%;\n",
              "      cursor: pointer;\n",
              "      display: none;\n",
              "      fill: #1967D2;\n",
              "      height: 32px;\n",
              "      padding: 0 0 0 0;\n",
              "      width: 32px;\n",
              "    }\n",
              "\n",
              "    .colab-df-convert:hover {\n",
              "      background-color: #E2EBFA;\n",
              "      box-shadow: 0px 1px 2px rgba(60, 64, 67, 0.3), 0px 1px 3px 1px rgba(60, 64, 67, 0.15);\n",
              "      fill: #174EA6;\n",
              "    }\n",
              "\n",
              "    [theme=dark] .colab-df-convert {\n",
              "      background-color: #3B4455;\n",
              "      fill: #D2E3FC;\n",
              "    }\n",
              "\n",
              "    [theme=dark] .colab-df-convert:hover {\n",
              "      background-color: #434B5C;\n",
              "      box-shadow: 0px 1px 3px 1px rgba(0, 0, 0, 0.15);\n",
              "      filter: drop-shadow(0px 1px 2px rgba(0, 0, 0, 0.3));\n",
              "      fill: #FFFFFF;\n",
              "    }\n",
              "  </style>\n",
              "\n",
              "      <script>\n",
              "        const buttonEl =\n",
              "          document.querySelector('#df-3b01369c-b288-4179-bdbc-32c683b8c381 button.colab-df-convert');\n",
              "        buttonEl.style.display =\n",
              "          google.colab.kernel.accessAllowed ? 'block' : 'none';\n",
              "\n",
              "        async function convertToInteractive(key) {\n",
              "          const element = document.querySelector('#df-3b01369c-b288-4179-bdbc-32c683b8c381');\n",
              "          const dataTable =\n",
              "            await google.colab.kernel.invokeFunction('convertToInteractive',\n",
              "                                                     [key], {});\n",
              "          if (!dataTable) return;\n",
              "\n",
              "          const docLinkHtml = 'Like what you see? Visit the ' +\n",
              "            '<a target=\"_blank\" href=https://colab.research.google.com/notebooks/data_table.ipynb>data table notebook</a>'\n",
              "            + ' to learn more about interactive tables.';\n",
              "          element.innerHTML = '';\n",
              "          dataTable['output_type'] = 'display_data';\n",
              "          await google.colab.output.renderOutput(dataTable, element);\n",
              "          const docLink = document.createElement('div');\n",
              "          docLink.innerHTML = docLinkHtml;\n",
              "          element.appendChild(docLink);\n",
              "        }\n",
              "      </script>\n",
              "    </div>\n",
              "  </div>\n",
              "  "
            ]
          },
          "metadata": {},
          "execution_count": 4
        }
      ]
    },
    {
      "cell_type": "markdown",
      "source": [
        "## **Correlation & Distribution Plots**"
      ],
      "metadata": {
        "id": "T3YRwCSXpU0o"
      }
    },
    {
      "cell_type": "code",
      "source": [
        "corr_df = df.corr()\n",
        "mask = np.zeros_like(corr_df, dtype=bool)\n",
        "mask[np.triu_indices_from(mask, k=1)] = True\n",
        "\n",
        "fig, ax = plt.subplots(figsize=(16, 12))\n",
        "plt.title('Pearson Correlation Heatmap', fontsize=23)\n",
        "\n",
        "sns.heatmap(corr_df, linewidths=0.25, vmax=1.0, square=True, cmap=\"BuGn\",\n",
        "            linecolor='w', annot=True, mask=mask)"
      ],
      "metadata": {
        "colab": {
          "base_uri": "https://localhost:8080/",
          "height": 741
        },
        "id": "hA0ZkASKZGb-",
        "outputId": "62704500-00c3-4d32-d9b2-ba167db9a535"
      },
      "execution_count": 5,
      "outputs": [
        {
          "output_type": "execute_result",
          "data": {
            "text/plain": [
              "<matplotlib.axes._subplots.AxesSubplot at 0x7f8c28a5ab10>"
            ]
          },
          "metadata": {},
          "execution_count": 5
        },
        {
          "output_type": "display_data",
          "data": {
            "text/plain": [
              "<Figure size 1152x864 with 2 Axes>"
            ],
            "image/png": "[encoded data removed]"
          },
          "metadata": {
            "needs_background": "light"
          }
        }
      ]
    },
    {
      "cell_type": "markdown",
      "source": [
        "### **Few notes**\n",
        "#### **Correlation**\n",
        "1. Temp, atemp and sunlight have a high correlation between each other. Also, we can see that they have almost the same distirbution. We beleive that one feature will be enough. Hence, we deciced to drop \"atemp\" beacuse the data is separated by hours so a daily avarge will less fit in our opinion, same as for \"sunlight\". --->  We will choose \"temp\".\n",
        "2. Looking at our label \"Count\" we can see that it has a high correlation with \"pollution\". Small correlation with \"temp\" and a opposite correlation with \"humidity\", this all makes sense to us when we speak about bike rental. Therefore we assume that \"pollution\" we will be an important feature in our model.\n"
      ],
      "metadata": {
        "id": "zKxGleZ0phDR"
      }
    },
    {
      "cell_type": "markdown",
      "source": [
        "#### **Another look at the correlated features**"
      ],
      "metadata": {
        "id": "24PfdyUHsL8V"
      }
    },
    {
      "cell_type": "markdown",
      "source": [
        "Temp & Avg Temp"
      ],
      "metadata": {
        "id": "f0F6F9DVs-Ue"
      }
    },
    {
      "cell_type": "code",
      "source": [
        "sns.jointplot(x=df['temp'], \n",
        "              y=df['atemp'], \n",
        "              data=df, \n",
        "              kind=\"reg\")\n",
        "plt.show()"
      ],
      "metadata": {
        "colab": {
          "base_uri": "https://localhost:8080/",
          "height": 441
        },
        "id": "hVtwIHXLsxHr",
        "outputId": "b7fa9a4b-eed9-4f43-b1e8-c70185d6232c"
      },
      "execution_count": 6,
      "outputs": [
        {
          "output_type": "display_data",
          "data": {
            "text/plain": [
              "<Figure size 432x432 with 3 Axes>"
            ],
            "image/png": "[encoded data removed]"
          },
          "metadata": {
            "needs_background": "light"
          }
        }
      ]
    },
    {
      "cell_type": "markdown",
      "source": [
        "Temp & Sunlight"
      ],
      "metadata": {
        "id": "vJoKPilYtDFh"
      }
    },
    {
      "cell_type": "code",
      "source": [
        "sns.jointplot(x=df['temp'], \n",
        "              y=df['sunlight'], \n",
        "              data=df, \n",
        "              kind=\"reg\")\n",
        "plt.show()"
      ],
      "metadata": {
        "colab": {
          "base_uri": "https://localhost:8080/",
          "height": 441
        },
        "id": "tBNgkgystDPs",
        "outputId": "8f7c08ab-1e14-4c39-bb4c-c7a413dcf555"
      },
      "execution_count": 7,
      "outputs": [
        {
          "output_type": "display_data",
          "data": {
            "text/plain": [
              "<Figure size 432x432 with 3 Axes>"
            ],
            "image/png": "[encoded data removed]"
          },
          "metadata": {
            "needs_background": "light"
          }
        }
      ]
    },
    {
      "cell_type": "markdown",
      "source": [
        "#### **Correlation with the labels**"
      ],
      "metadata": {
        "id": "sgmZVmI0sWZR"
      }
    },
    {
      "cell_type": "markdown",
      "source": [
        "Count & Pollution"
      ],
      "metadata": {
        "id": "UiIVlTketwFs"
      }
    },
    {
      "cell_type": "code",
      "source": [
        "sns.jointplot(x=df['count'], \n",
        "              y=df['pollution'], \n",
        "              data=df, \n",
        "              kind=\"reg\")\n",
        "plt.show()"
      ],
      "metadata": {
        "colab": {
          "base_uri": "https://localhost:8080/",
          "height": 441
        },
        "id": "H-UcJOlCtZfj",
        "outputId": "50592d08-2630-4742-d12f-012d23f72de9"
      },
      "execution_count": 8,
      "outputs": [
        {
          "output_type": "display_data",
          "data": {
            "text/plain": [
              "<Figure size 432x432 with 3 Axes>"
            ],
            "image/png": "[encoded data removed]"
          },
          "metadata": {
            "needs_background": "light"
          }
        }
      ]
    },
    {
      "cell_type": "code",
      "source": [
        "df_wo_datetime = df.drop(['datetime'], axis = 1)\n",
        "figure, axes = plt.subplots(3, 4, figsize=(40, 20))\n",
        "# figure.delaxes(axes[2,3])\n",
        "\n",
        "def get_color(row):\n",
        "  if row == 0:\n",
        "    return 'lightblue'\n",
        "  if row == 1:\n",
        "    return 'red'\n",
        "  else:\n",
        "    return 'lightgreen'\n",
        "\n",
        "for i in range(3):\n",
        "  for j in range(4):\n",
        "    sns.histplot(df_wo_datetime[df_wo_datetime.columns[4 * i + j]], ax=axes[i, j], color=get_color(i))\n",
        "plt.show()"
      ],
      "metadata": {
        "id": "EpS2hfZ1jYSj",
        "colab": {
          "base_uri": "https://localhost:8080/",
          "height": 440
        },
        "outputId": "66434c89-bd0f-4f13-a8d3-77204d2a5185"
      },
      "execution_count": 9,
      "outputs": [
        {
          "output_type": "display_data",
          "data": {
            "text/plain": [
              "<Figure size 2880x1440 with 12 Axes>"
            ],
            "image/png": "[encoded data removed]"
          },
          "metadata": {
            "needs_background": "light"
          }
        }
      ]
    },
    {
      "cell_type": "markdown",
      "source": [
        "#### **Distribution**\n",
        "1. Most important thing when looking at features is to find the \"Categorical\" features. We can see that: \"season\", \"holdiay\", \"working day\", and \"weather\".\n",
        "Because \"season\" and \"weather\" have 4 unique values we will make it a dummy feature. \n",
        "2. We can see that \"pollution\" has outliers we can eliminate.\n",
        "3. \"traffic\" also seems a categorical feature (only four unique values) but it seems that every value displays the traffic size so we will keep it numrical. In addition it can be that in different datasets there will be more values.\n",
        "4. As we can see it looks like there is an exponenetial distribution in our label, we will consider deleting outilers there. \n"
      ],
      "metadata": {
        "id": "-aEzQ-qLubyF"
      }
    },
    {
      "cell_type": "markdown",
      "source": [
        "# Features Engineering\n"
      ],
      "metadata": {
        "id": "j8_QRvR8g7sF"
      }
    },
    {
      "cell_type": "markdown",
      "source": [
        "### Droping Features\n",
        "As we explained above we will drop both \"atemp\" and \"sunlight\". After we engineer new feature that combaine all together"
      ],
      "metadata": {
        "id": "Km3wtNyZxlCe"
      }
    },
    {
      "cell_type": "code",
      "source": [
        "df['ef'] = df['temp']**2 + df['atemp']**2 + df['sunlight']**2\n",
        "df = df.drop(['atemp'], axis=1)\n",
        "df = df.drop(['sunlight'], axis=1)\n",
        "df = df.drop(['temp'], axis=1)"
      ],
      "metadata": {
        "id": "L8ek2E-RxiME"
      },
      "execution_count": 10,
      "outputs": []
    },
    {
      "cell_type": "markdown",
      "source": [
        "### Outilers removing"
      ],
      "metadata": {
        "id": "kheXXwce6bgo"
      }
    },
    {
      "cell_type": "markdown",
      "source": [
        "We build a function that help us to locate outliers and then remove them by defining bounds to delete anomalies."
      ],
      "metadata": {
        "id": "A7s63qCl_vrI"
      }
    },
    {
      "cell_type": "code",
      "source": [
        "num_cols = ['humidity','windspeed','pollution']"
      ],
      "metadata": {
        "id": "PJIRpQS66754"
      },
      "execution_count": 11,
      "outputs": []
    },
    {
      "cell_type": "code",
      "source": [
        "def scatterplot_features (data ,features):\n",
        "    i,j=0,0\n",
        "    PLOTS_PER_ROW = 2\n",
        "    fig, axs = plt.subplots(math.ceil(len(features)/PLOTS_PER_ROW),PLOTS_PER_ROW, figsize=(10,15))\n",
        "    for col in features:\n",
        "        axs[i][j].scatter(data[col], data[col], color = 'g',alpha = 0.3)\n",
        "        axs[i][j].set_ylabel(col)\n",
        "        j+=1\n",
        "        if j%PLOTS_PER_ROW==0:\n",
        "            i+=1\n",
        "            j=0\n",
        "    plt.show()\n",
        "\n",
        "scatterplot_features(df ,num_cols)"
      ],
      "metadata": {
        "colab": {
          "base_uri": "https://localhost:8080/",
          "height": 863
        },
        "id": "To5X1JZe64xb",
        "outputId": "16cfcd9a-a4c5-4a9e-bdb8-720229fd08dd"
      },
      "execution_count": 12,
      "outputs": [
        {
          "output_type": "display_data",
          "data": {
            "text/plain": [
              "<Figure size 720x1080 with 4 Axes>"
            ],
            "image/png": "[encoded data removed]"
          },
          "metadata": {
            "needs_background": "light"
          }
        }
      ]
    },
    {
      "cell_type": "code",
      "source": [
        "def Remove_numeric_outliers (data,features):\n",
        "  for f in features : \n",
        "    if (data[f].nunique() > 30):\n",
        "      slices = (data[f].max() - data[f].min())/10\n",
        "      num = 0\n",
        "      for i in range(10):\n",
        "        lower_bound = data[f].min() + i * slices\n",
        "        upper_bound = lower_bound + slices\n",
        "        index = data[(lower_bound <= data[f]) & (data[f] <= upper_bound)].index\n",
        "        if len(index) < 15: \n",
        "          data.drop(index,inplace = True)\n",
        "          num += len(index)\n",
        "      print (f'Number of outliers removed in feature {f} : {num}')\n",
        "  return data\n",
        "\n",
        "df = Remove_numeric_outliers(df,num_cols)"
      ],
      "metadata": {
        "colab": {
          "base_uri": "https://localhost:8080/"
        },
        "id": "YhxlDHcZ6_Mz",
        "outputId": "fcf2615c-90cd-4a40-f011-59da06d87939"
      },
      "execution_count": 13,
      "outputs": [
        {
          "output_type": "stream",
          "name": "stdout",
          "text": [
            "Number of outliers removed in feature humidity : 0\n",
            "Number of outliers removed in feature pollution : 14\n"
          ]
        }
      ]
    },
    {
      "cell_type": "code",
      "source": [
        "scatterplot_features(df ,num_cols)"
      ],
      "metadata": {
        "colab": {
          "base_uri": "https://localhost:8080/",
          "height": 863
        },
        "id": "xFhUxJgu7LRe",
        "outputId": "2654d73c-b29e-4bda-e430-77058b7ebbd3"
      },
      "execution_count": 14,
      "outputs": [
        {
          "output_type": "display_data",
          "data": {
            "text/plain": [
              "<Figure size 720x1080 with 4 Axes>"
            ],
            "image/png": "[encoded data removed]"
          },
          "metadata": {
            "needs_background": "light"
          }
        }
      ]
    },
    {
      "cell_type": "markdown",
      "source": [
        "## Datetime\n",
        "\n",
        "As we can see in the data description above, each \"date time\" represents a unique row. Based on each sample, we will try to create new features. by the date and the time. \n",
        "1. We used for this purpose sinus anc cosinus functions.\n",
        "2. Wetake the day, month & year as they are \n"
      ],
      "metadata": {
        "id": "sonrEacLhhvw"
      }
    },
    {
      "cell_type": "code",
      "source": [
        "from datetime import datetime\n",
        "def discretize_date(current_date, t):\n",
        "    cdate = datetime.strptime(current_date, '%Y-%m-%d %H:%M:%S')\n",
        "    if t == 'hour_sin':\n",
        "        return np.sin(2 * np.pi * cdate.hour/24.0)\n",
        "    if t == 'hour_cos':\n",
        "        return np.cos(2 * np.pi * cdate.hour/24.0)\n",
        "    if t == 'day_sin':\n",
        "        return np.sin(2 * np.pi * cdate.timetuple().tm_yday/365.0)\n",
        "    if t == 'day_cos':\n",
        "        return np.cos(2 * np.pi * cdate.timetuple().tm_yday/365.0)\n",
        "    if t == 'day':\n",
        "      return cdate.day\n",
        "    if t == 'month':\n",
        "      return cdate.month\n",
        "    if t == 'year':\n",
        "      return cdate.year"
      ],
      "metadata": {
        "id": "PZmCeUtUnj7W"
      },
      "execution_count": 15,
      "outputs": []
    },
    {
      "cell_type": "code",
      "source": [
        "date_types = ['hour_sin', 'hour_cos', 'day_sin', 'day_cos','day','month','year']\n",
        "for dt in date_types:\n",
        "    df[dt] = df['datetime'].apply(lambda x : discretize_date(x, dt))\n",
        "df.drop(['datetime'],axis=1,inplace=True)\n"
      ],
      "metadata": {
        "id": "_4uCoNDLnkty"
      },
      "execution_count": 16,
      "outputs": []
    },
    {
      "cell_type": "code",
      "source": [
        "Describe_data(df)"
      ],
      "metadata": {
        "colab": {
          "base_uri": "https://localhost:8080/",
          "height": 582
        },
        "id": "95TlWQyn3AHT",
        "outputId": "a366988a-133f-493e-ebd0-c6fa7b6af50d"
      },
      "execution_count": 17,
      "outputs": [
        {
          "output_type": "execute_result",
          "data": {
            "text/plain": [
              "   Feature Name Null     Type Unique Values\n",
              "0        season    0    int64             4\n",
              "1       holiday    0    int64             2\n",
              "2    workingday    0    int64             2\n",
              "3       weather    0    int64             4\n",
              "4      humidity    0    int64            87\n",
              "5     windspeed    0  float64            28\n",
              "6     pollution    0  float64          8150\n",
              "7       traffic    0  float64             4\n",
              "8         count    0    int64           782\n",
              "9            ef    0  float64           250\n",
              "10     hour_sin    0  float64            22\n",
              "11     hour_cos    0  float64            22\n",
              "12      day_sin    0  float64           238\n",
              "13      day_cos    0  float64           230\n",
              "14          day    0    int64            19\n",
              "15        month    0    int64            12\n",
              "16         year    0    int64             2"
            ],
            "text/html": [
              "\n",
              "  <div id=\"df-6a6680d6-fa00-42d1-9090-74ee5ad45284\">\n",
              "    <div class=\"colab-df-container\">\n",
              "      <div>\n",
              "<style scoped>\n",
              "    .dataframe tbody tr th:only-of-type {\n",
              "        vertical-align: middle;\n",
              "    }\n",
              "\n",
              "    .dataframe tbody tr th {\n",
              "        vertical-align: top;\n",
              "    }\n",
              "\n",
              "    .dataframe thead th {\n",
              "        text-align: right;\n",
              "    }\n",
              "</style>\n",
              "<table border=\"1\" class=\"dataframe\">\n",
              "  <thead>\n",
              "    <tr style=\"text-align: right;\">\n",
              "      <th></th>\n",
              "      <th>Feature Name</th>\n",
              "      <th>Null</th>\n",
              "      <th>Type</th>\n",
              "      <th>Unique Values</th>\n",
              "    </tr>\n",
              "  </thead>\n",
              "  <tbody>\n",
              "    <tr>\n",
              "      <th>0</th>\n",
              "      <td>season</td>\n",
              "      <td>0</td>\n",
              "      <td>int64</td>\n",
              "      <td>4</td>\n",
              "    </tr>\n",
              "    <tr>\n",
              "      <th>1</th>\n",
              "      <td>holiday</td>\n",
              "      <td>0</td>\n",
              "      <td>int64</td>\n",
              "      <td>2</td>\n",
              "    </tr>\n",
              "    <tr>\n",
              "      <th>2</th>\n",
              "      <td>workingday</td>\n",
              "      <td>0</td>\n",
              "      <td>int64</td>\n",
              "      <td>2</td>\n",
              "    </tr>\n",
              "    <tr>\n",
              "      <th>3</th>\n",
              "      <td>weather</td>\n",
              "      <td>0</td>\n",
              "      <td>int64</td>\n",
              "      <td>4</td>\n",
              "    </tr>\n",
              "    <tr>\n",
              "      <th>4</th>\n",
              "      <td>humidity</td>\n",
              "      <td>0</td>\n",
              "      <td>int64</td>\n",
              "      <td>87</td>\n",
              "    </tr>\n",
              "    <tr>\n",
              "      <th>5</th>\n",
              "      <td>windspeed</td>\n",
              "      <td>0</td>\n",
              "      <td>float64</td>\n",
              "      <td>28</td>\n",
              "    </tr>\n",
              "    <tr>\n",
              "      <th>6</th>\n",
              "      <td>pollution</td>\n",
              "      <td>0</td>\n",
              "      <td>float64</td>\n",
              "      <td>8150</td>\n",
              "    </tr>\n",
              "    <tr>\n",
              "      <th>7</th>\n",
              "      <td>traffic</td>\n",
              "      <td>0</td>\n",
              "      <td>float64</td>\n",
              "      <td>4</td>\n",
              "    </tr>\n",
              "    <tr>\n",
              "      <th>8</th>\n",
              "      <td>count</td>\n",
              "      <td>0</td>\n",
              "      <td>int64</td>\n",
              "      <td>782</td>\n",
              "    </tr>\n",
              "    <tr>\n",
              "      <th>9</th>\n",
              "      <td>ef</td>\n",
              "      <td>0</td>\n",
              "      <td>float64</td>\n",
              "      <td>250</td>\n",
              "    </tr>\n",
              "    <tr>\n",
              "      <th>10</th>\n",
              "      <td>hour_sin</td>\n",
              "      <td>0</td>\n",
              "      <td>float64</td>\n",
              "      <td>22</td>\n",
              "    </tr>\n",
              "    <tr>\n",
              "      <th>11</th>\n",
              "      <td>hour_cos</td>\n",
              "      <td>0</td>\n",
              "      <td>float64</td>\n",
              "      <td>22</td>\n",
              "    </tr>\n",
              "    <tr>\n",
              "      <th>12</th>\n",
              "      <td>day_sin</td>\n",
              "      <td>0</td>\n",
              "      <td>float64</td>\n",
              "      <td>238</td>\n",
              "    </tr>\n",
              "    <tr>\n",
              "      <th>13</th>\n",
              "      <td>day_cos</td>\n",
              "      <td>0</td>\n",
              "      <td>float64</td>\n",
              "      <td>230</td>\n",
              "    </tr>\n",
              "    <tr>\n",
              "      <th>14</th>\n",
              "      <td>day</td>\n",
              "      <td>0</td>\n",
              "      <td>int64</td>\n",
              "      <td>19</td>\n",
              "    </tr>\n",
              "    <tr>\n",
              "      <th>15</th>\n",
              "      <td>month</td>\n",
              "      <td>0</td>\n",
              "      <td>int64</td>\n",
              "      <td>12</td>\n",
              "    </tr>\n",
              "    <tr>\n",
              "      <th>16</th>\n",
              "      <td>year</td>\n",
              "      <td>0</td>\n",
              "      <td>int64</td>\n",
              "      <td>2</td>\n",
              "    </tr>\n",
              "  </tbody>\n",
              "</table>\n",
              "</div>\n",
              "      <button class=\"colab-df-convert\" onclick=\"convertToInteractive('df-6a6680d6-fa00-42d1-9090-74ee5ad45284')\"\n",
              "              title=\"Convert this dataframe to an interactive table.\"\n",
              "              style=\"display:none;\">\n",
              "        \n",
              "  <svg xmlns=\"http://www.w3.org/2000/svg\" height=\"24px\"viewBox=\"0 0 24 24\"\n",
              "       width=\"24px\">\n",
              "    <path d=\"M0 0h24v24H0V0z\" fill=\"none\"/>\n",
              "    <path d=\"M18.56 5.44l.94 2.06.94-2.06 2.06-.94-2.06-.94-.94-2.06-.94 2.06-2.06.94zm-11 1L8.5 8.5l.94-2.06 2.06-.94-2.06-.94L8.5 2.5l-.94 2.06-2.06.94zm10 10l.94 2.06.94-2.06 2.06-.94-2.06-.94-.94-2.06-.94 2.06-2.06.94z\"/><path d=\"M17.41 7.96l-1.37-1.37c-.4-.4-.92-.59-1.43-.59-.52 0-1.04.2-1.43.59L10.3 9.45l-7.72 7.72c-.78.78-.78 2.05 0 2.83L4 21.41c.39.39.9.59 1.41.59.51 0 1.02-.2 1.41-.59l7.78-7.78 2.81-2.81c.8-.78.8-2.07 0-2.86zM5.41 20L4 18.59l7.72-7.72 1.47 1.35L5.41 20z\"/>\n",
              "  </svg>\n",
              "      </button>\n",
              "      \n",
              "  <style>\n",
              "    .colab-df-container {\n",
              "      display:flex;\n",
              "      flex-wrap:wrap;\n",
              "      gap: 12px;\n",
              "    }\n",
              "\n",
              "    .colab-df-convert {\n",
              "      background-color: #E8F0FE;\n",
              "      border: none;\n",
              "      border-radius: 50%;\n",
              "      cursor: pointer;\n",
              "      display: none;\n",
              "      fill: #1967D2;\n",
              "      height: 32px;\n",
              "      padding: 0 0 0 0;\n",
              "      width: 32px;\n",
              "    }\n",
              "\n",
              "    .colab-df-convert:hover {\n",
              "      background-color: #E2EBFA;\n",
              "      box-shadow: 0px 1px 2px rgba(60, 64, 67, 0.3), 0px 1px 3px 1px rgba(60, 64, 67, 0.15);\n",
              "      fill: #174EA6;\n",
              "    }\n",
              "\n",
              "    [theme=dark] .colab-df-convert {\n",
              "      background-color: #3B4455;\n",
              "      fill: #D2E3FC;\n",
              "    }\n",
              "\n",
              "    [theme=dark] .colab-df-convert:hover {\n",
              "      background-color: #434B5C;\n",
              "      box-shadow: 0px 1px 3px 1px rgba(0, 0, 0, 0.15);\n",
              "      filter: drop-shadow(0px 1px 2px rgba(0, 0, 0, 0.3));\n",
              "      fill: #FFFFFF;\n",
              "    }\n",
              "  </style>\n",
              "\n",
              "      <script>\n",
              "        const buttonEl =\n",
              "          document.querySelector('#df-6a6680d6-fa00-42d1-9090-74ee5ad45284 button.colab-df-convert');\n",
              "        buttonEl.style.display =\n",
              "          google.colab.kernel.accessAllowed ? 'block' : 'none';\n",
              "\n",
              "        async function convertToInteractive(key) {\n",
              "          const element = document.querySelector('#df-6a6680d6-fa00-42d1-9090-74ee5ad45284');\n",
              "          const dataTable =\n",
              "            await google.colab.kernel.invokeFunction('convertToInteractive',\n",
              "                                                     [key], {});\n",
              "          if (!dataTable) return;\n",
              "\n",
              "          const docLinkHtml = 'Like what you see? Visit the ' +\n",
              "            '<a target=\"_blank\" href=https://colab.research.google.com/notebooks/data_table.ipynb>data table notebook</a>'\n",
              "            + ' to learn more about interactive tables.';\n",
              "          element.innerHTML = '';\n",
              "          dataTable['output_type'] = 'display_data';\n",
              "          await google.colab.output.renderOutput(dataTable, element);\n",
              "          const docLink = document.createElement('div');\n",
              "          docLink.innerHTML = docLinkHtml;\n",
              "          element.appendChild(docLink);\n",
              "        }\n",
              "      </script>\n",
              "    </div>\n",
              "  </div>\n",
              "  "
            ]
          },
          "metadata": {},
          "execution_count": 17
        }
      ]
    },
    {
      "cell_type": "code",
      "source": [
        "Y = df[['count']]\n",
        "X = df.drop(['count'], axis=1)\n",
        "\n",
        "X_train, X_test, Y_train, Y_test = train_test_split(X, Y, test_size=0.2, random_state=42)"
      ],
      "metadata": {
        "id": "EwGG0PZn4qsT"
      },
      "execution_count": 18,
      "outputs": []
    },
    {
      "cell_type": "markdown",
      "source": [
        "## Choosing models & parameters\n",
        "We decided to train our data on these models:\n",
        "1. Linear regression\n",
        "3. Random forest\n",
        "4. ADA Boost\n",
        "\n",
        "We will build a function for each model, and it will serve us to determine which is the best."
      ],
      "metadata": {
        "id": "ntawb_H_AnIT"
      }
    },
    {
      "cell_type": "code",
      "source": [
        "models = {'Linear regression': None,\n",
        "          'Random forest': None,\n",
        "          'ADA Boost': None}"
      ],
      "metadata": {
        "id": "T3q8oWQ9AbNl"
      },
      "execution_count": 19,
      "outputs": []
    },
    {
      "cell_type": "code",
      "source": [
        "from sklearn.linear_model import LinearRegression\n",
        "from sklearn.ensemble import RandomForestRegressor\n",
        "from sklearn.ensemble import AdaBoostRegressor\n",
        "\n",
        "from sklearn.model_selection import GridSearchCV\n",
        "from sklearn.model_selection import cross_val_score"
      ],
      "metadata": {
        "id": "25rLfG7ABPs1"
      },
      "execution_count": 20,
      "outputs": []
    },
    {
      "cell_type": "markdown",
      "metadata": {
        "id": "FYV1j_dvAW_b"
      },
      "source": [
        "### Linear regression\n",
        "We'll begin by building a linear regression function:"
      ]
    },
    {
      "cell_type": "code",
      "execution_count": 21,
      "metadata": {
        "id": "C2jL7LgiA7ks"
      },
      "outputs": [],
      "source": [
        "def run_linear_regression(x_train, y_train):\n",
        "  lr = LinearRegression()\n",
        "  lr.fit(x_train, np.ravel(y_train))\n",
        "  cv_score = cross_val_score(lr, x_train, y_train, scoring='neg_mean_squared_error', cv=3)\n",
        "  return lr, cv_score"
      ]
    },
    {
      "cell_type": "markdown",
      "source": [
        "### Random forest\n",
        "\n",
        "Let's setup a function that trains a random forest"
      ],
      "metadata": {
        "id": "u_mSjl23Bx7M"
      }
    },
    {
      "cell_type": "code",
      "execution_count": 22,
      "metadata": {
        "id": "MHenXw9v4Fwm"
      },
      "outputs": [],
      "source": [
        "def run_random_forest(x_train, y_train):\n",
        "  rf = RandomForestRegressor(n_estimators=200, random_state=42)\n",
        "  tuned_rf = GridSearchCV(estimator=rf, \n",
        "                          param_grid={'max_features': ['auto', 'sqrt', 'log2', 1/3]},\n",
        "                          scoring='neg_mean_squared_error',\n",
        "                          cv=3, \n",
        "                          verbose=3,\n",
        "                          refit=True)\n",
        "  tuned_rf.fit(x_train, y_train)\n",
        "  return tuned_rf"
      ]
    },
    {
      "cell_type": "markdown",
      "source": [
        "### ADA Boost\n",
        "\n",
        "Let's setup a function that trains a ada boost"
      ],
      "metadata": {
        "id": "3BKh_Mo6DI3c"
      }
    },
    {
      "cell_type": "code",
      "source": [
        "def run_ada_boost(x_train, y_train):\n",
        "  rf = AdaBoostRegressor(n_estimators=200, random_state=42)\n",
        "  tuned_rf = GridSearchCV(estimator=rf, \n",
        "                          param_grid={'loss': ['linear', 'square', 'exponential']},\n",
        "                          scoring='neg_mean_squared_error',\n",
        "                          cv=3, \n",
        "                          verbose=3,\n",
        "                          refit=True)\n",
        "  tuned_rf.fit(x_train, y_train)\n",
        "  return tuned_rf"
      ],
      "metadata": {
        "id": "pkooAkWtDIe1"
      },
      "execution_count": 23,
      "outputs": []
    },
    {
      "cell_type": "markdown",
      "metadata": {
        "id": "TQP3R_wcWMih"
      },
      "source": [
        "### Run all models\n",
        "Let's run all models:"
      ]
    },
    {
      "cell_type": "code",
      "execution_count": 24,
      "metadata": {
        "id": "8U0YsHVYWSnq"
      },
      "outputs": [],
      "source": [
        "def run_all_models(x, y):\n",
        "  models_dict = {}\n",
        "  models_dict['Linear regression'] = run_linear_regression(x, y)\n",
        "  models_dict['Random forest'] = run_random_forest(x, y)\n",
        "  models_dict['ADA Boost'] = run_ada_boost(x, y)\n",
        "  return models_dict\n"
      ]
    },
    {
      "cell_type": "code",
      "execution_count": 25,
      "metadata": {
        "colab": {
          "base_uri": "https://localhost:8080/"
        },
        "id": "6RSQhyl7Wp4E",
        "outputId": "396e135c-b32d-45e4-f2b5-218ce86546f1"
      },
      "outputs": [
        {
          "output_type": "stream",
          "name": "stdout",
          "text": [
            "Fitting 3 folds for each of 4 candidates, totalling 12 fits\n"
          ]
        },
        {
          "output_type": "stream",
          "name": "stderr",
          "text": [
            "/usr/local/lib/python3.7/dist-packages/sklearn/model_selection/_validation.py:680: DataConversionWarning: A column-vector y was passed when a 1d array was expected. Please change the shape of y to (n_samples,), for example using ravel().\n",
            "  estimator.fit(X_train, y_train, **fit_params)\n"
          ]
        },
        {
          "output_type": "stream",
          "name": "stdout",
          "text": [
            "[CV 1/3] END .............max_features=auto;, score=-3768.462 total time=   8.7s\n"
          ]
        },
        {
          "output_type": "stream",
          "name": "stderr",
          "text": [
            "/usr/local/lib/python3.7/dist-packages/sklearn/model_selection/_validation.py:680: DataConversionWarning: A column-vector y was passed when a 1d array was expected. Please change the shape of y to (n_samples,), for example using ravel().\n",
            "  estimator.fit(X_train, y_train, **fit_params)\n"
          ]
        },
        {
          "output_type": "stream",
          "name": "stdout",
          "text": [
            "[CV 2/3] END .............max_features=auto;, score=-3317.314 total time=   6.5s\n"
          ]
        },
        {
          "output_type": "stream",
          "name": "stderr",
          "text": [
            "/usr/local/lib/python3.7/dist-packages/sklearn/model_selection/_validation.py:680: DataConversionWarning: A column-vector y was passed when a 1d array was expected. Please change the shape of y to (n_samples,), for example using ravel().\n",
            "  estimator.fit(X_train, y_train, **fit_params)\n"
          ]
        },
        {
          "output_type": "stream",
          "name": "stdout",
          "text": [
            "[CV 3/3] END .............max_features=auto;, score=-4069.551 total time=   4.3s\n"
          ]
        },
        {
          "output_type": "stream",
          "name": "stderr",
          "text": [
            "/usr/local/lib/python3.7/dist-packages/sklearn/model_selection/_validation.py:680: DataConversionWarning: A column-vector y was passed when a 1d array was expected. Please change the shape of y to (n_samples,), for example using ravel().\n",
            "  estimator.fit(X_train, y_train, **fit_params)\n"
          ]
        },
        {
          "output_type": "stream",
          "name": "stdout",
          "text": [
            "[CV 1/3] END .............max_features=sqrt;, score=-4578.402 total time=   1.6s\n"
          ]
        },
        {
          "output_type": "stream",
          "name": "stderr",
          "text": [
            "/usr/local/lib/python3.7/dist-packages/sklearn/model_selection/_validation.py:680: DataConversionWarning: A column-vector y was passed when a 1d array was expected. Please change the shape of y to (n_samples,), for example using ravel().\n",
            "  estimator.fit(X_train, y_train, **fit_params)\n"
          ]
        },
        {
          "output_type": "stream",
          "name": "stdout",
          "text": [
            "[CV 2/3] END .............max_features=sqrt;, score=-3669.985 total time=   1.6s\n"
          ]
        },
        {
          "output_type": "stream",
          "name": "stderr",
          "text": [
            "/usr/local/lib/python3.7/dist-packages/sklearn/model_selection/_validation.py:680: DataConversionWarning: A column-vector y was passed when a 1d array was expected. Please change the shape of y to (n_samples,), for example using ravel().\n",
            "  estimator.fit(X_train, y_train, **fit_params)\n"
          ]
        },
        {
          "output_type": "stream",
          "name": "stdout",
          "text": [
            "[CV 3/3] END .............max_features=sqrt;, score=-4648.987 total time=   1.6s\n"
          ]
        },
        {
          "output_type": "stream",
          "name": "stderr",
          "text": [
            "/usr/local/lib/python3.7/dist-packages/sklearn/model_selection/_validation.py:680: DataConversionWarning: A column-vector y was passed when a 1d array was expected. Please change the shape of y to (n_samples,), for example using ravel().\n",
            "  estimator.fit(X_train, y_train, **fit_params)\n"
          ]
        },
        {
          "output_type": "stream",
          "name": "stdout",
          "text": [
            "[CV 1/3] END .............max_features=log2;, score=-4578.402 total time=   1.6s\n"
          ]
        },
        {
          "output_type": "stream",
          "name": "stderr",
          "text": [
            "/usr/local/lib/python3.7/dist-packages/sklearn/model_selection/_validation.py:680: DataConversionWarning: A column-vector y was passed when a 1d array was expected. Please change the shape of y to (n_samples,), for example using ravel().\n",
            "  estimator.fit(X_train, y_train, **fit_params)\n"
          ]
        },
        {
          "output_type": "stream",
          "name": "stdout",
          "text": [
            "[CV 2/3] END .............max_features=log2;, score=-3669.985 total time=   1.6s\n"
          ]
        },
        {
          "output_type": "stream",
          "name": "stderr",
          "text": [
            "/usr/local/lib/python3.7/dist-packages/sklearn/model_selection/_validation.py:680: DataConversionWarning: A column-vector y was passed when a 1d array was expected. Please change the shape of y to (n_samples,), for example using ravel().\n",
            "  estimator.fit(X_train, y_train, **fit_params)\n"
          ]
        },
        {
          "output_type": "stream",
          "name": "stdout",
          "text": [
            "[CV 3/3] END .............max_features=log2;, score=-4648.987 total time=   1.6s\n"
          ]
        },
        {
          "output_type": "stream",
          "name": "stderr",
          "text": [
            "/usr/local/lib/python3.7/dist-packages/sklearn/model_selection/_validation.py:680: DataConversionWarning: A column-vector y was passed when a 1d array was expected. Please change the shape of y to (n_samples,), for example using ravel().\n",
            "  estimator.fit(X_train, y_train, **fit_params)\n"
          ]
        },
        {
          "output_type": "stream",
          "name": "stdout",
          "text": [
            "[CV 1/3] END max_features=0.3333333333333333;, score=-4314.452 total time=   1.8s\n"
          ]
        },
        {
          "output_type": "stream",
          "name": "stderr",
          "text": [
            "/usr/local/lib/python3.7/dist-packages/sklearn/model_selection/_validation.py:680: DataConversionWarning: A column-vector y was passed when a 1d array was expected. Please change the shape of y to (n_samples,), for example using ravel().\n",
            "  estimator.fit(X_train, y_train, **fit_params)\n"
          ]
        },
        {
          "output_type": "stream",
          "name": "stdout",
          "text": [
            "[CV 2/3] END max_features=0.3333333333333333;, score=-3559.431 total time=   1.8s\n"
          ]
        },
        {
          "output_type": "stream",
          "name": "stderr",
          "text": [
            "/usr/local/lib/python3.7/dist-packages/sklearn/model_selection/_validation.py:680: DataConversionWarning: A column-vector y was passed when a 1d array was expected. Please change the shape of y to (n_samples,), for example using ravel().\n",
            "  estimator.fit(X_train, y_train, **fit_params)\n"
          ]
        },
        {
          "output_type": "stream",
          "name": "stdout",
          "text": [
            "[CV 3/3] END max_features=0.3333333333333333;, score=-4422.438 total time=   1.8s\n"
          ]
        },
        {
          "output_type": "stream",
          "name": "stderr",
          "text": [
            "/usr/local/lib/python3.7/dist-packages/sklearn/model_selection/_search.py:926: DataConversionWarning: A column-vector y was passed when a 1d array was expected. Please change the shape of y to (n_samples,), for example using ravel().\n",
            "  self.best_estimator_.fit(X, y, **fit_params)\n"
          ]
        },
        {
          "output_type": "stream",
          "name": "stdout",
          "text": [
            "Fitting 3 folds for each of 3 candidates, totalling 9 fits\n"
          ]
        },
        {
          "output_type": "stream",
          "name": "stderr",
          "text": [
            "/usr/local/lib/python3.7/dist-packages/sklearn/utils/validation.py:993: DataConversionWarning: A column-vector y was passed when a 1d array was expected. Please change the shape of y to (n_samples, ), for example using ravel().\n",
            "  y = column_or_1d(y, warn=True)\n"
          ]
        },
        {
          "output_type": "stream",
          "name": "stdout",
          "text": [
            "[CV 1/3] END ..................loss=linear;, score=-11369.397 total time=   1.2s\n"
          ]
        },
        {
          "output_type": "stream",
          "name": "stderr",
          "text": [
            "/usr/local/lib/python3.7/dist-packages/sklearn/utils/validation.py:993: DataConversionWarning: A column-vector y was passed when a 1d array was expected. Please change the shape of y to (n_samples, ), for example using ravel().\n",
            "  y = column_or_1d(y, warn=True)\n"
          ]
        },
        {
          "output_type": "stream",
          "name": "stdout",
          "text": [
            "[CV 2/3] END ..................loss=linear;, score=-10381.556 total time=   1.2s\n"
          ]
        },
        {
          "output_type": "stream",
          "name": "stderr",
          "text": [
            "/usr/local/lib/python3.7/dist-packages/sklearn/utils/validation.py:993: DataConversionWarning: A column-vector y was passed when a 1d array was expected. Please change the shape of y to (n_samples, ), for example using ravel().\n",
            "  y = column_or_1d(y, warn=True)\n"
          ]
        },
        {
          "output_type": "stream",
          "name": "stdout",
          "text": [
            "[CV 3/3] END ..................loss=linear;, score=-10390.036 total time=   1.2s\n"
          ]
        },
        {
          "output_type": "stream",
          "name": "stderr",
          "text": [
            "/usr/local/lib/python3.7/dist-packages/sklearn/utils/validation.py:993: DataConversionWarning: A column-vector y was passed when a 1d array was expected. Please change the shape of y to (n_samples, ), for example using ravel().\n",
            "  y = column_or_1d(y, warn=True)\n"
          ]
        },
        {
          "output_type": "stream",
          "name": "stdout",
          "text": [
            "[CV 1/3] END ...................loss=square;, score=-9255.605 total time=   1.5s\n"
          ]
        },
        {
          "output_type": "stream",
          "name": "stderr",
          "text": [
            "/usr/local/lib/python3.7/dist-packages/sklearn/utils/validation.py:993: DataConversionWarning: A column-vector y was passed when a 1d array was expected. Please change the shape of y to (n_samples, ), for example using ravel().\n",
            "  y = column_or_1d(y, warn=True)\n"
          ]
        },
        {
          "output_type": "stream",
          "name": "stdout",
          "text": [
            "[CV 2/3] END ...................loss=square;, score=-9540.202 total time=   2.2s\n"
          ]
        },
        {
          "output_type": "stream",
          "name": "stderr",
          "text": [
            "/usr/local/lib/python3.7/dist-packages/sklearn/utils/validation.py:993: DataConversionWarning: A column-vector y was passed when a 1d array was expected. Please change the shape of y to (n_samples, ), for example using ravel().\n",
            "  y = column_or_1d(y, warn=True)\n"
          ]
        },
        {
          "output_type": "stream",
          "name": "stdout",
          "text": [
            "[CV 3/3] END ...................loss=square;, score=-9048.491 total time=   2.2s\n"
          ]
        },
        {
          "output_type": "stream",
          "name": "stderr",
          "text": [
            "/usr/local/lib/python3.7/dist-packages/sklearn/utils/validation.py:993: DataConversionWarning: A column-vector y was passed when a 1d array was expected. Please change the shape of y to (n_samples, ), for example using ravel().\n",
            "  y = column_or_1d(y, warn=True)\n"
          ]
        },
        {
          "output_type": "stream",
          "name": "stdout",
          "text": [
            "[CV 1/3] END .............loss=exponential;, score=-13099.749 total time=   2.2s\n"
          ]
        },
        {
          "output_type": "stream",
          "name": "stderr",
          "text": [
            "/usr/local/lib/python3.7/dist-packages/sklearn/utils/validation.py:993: DataConversionWarning: A column-vector y was passed when a 1d array was expected. Please change the shape of y to (n_samples, ), for example using ravel().\n",
            "  y = column_or_1d(y, warn=True)\n"
          ]
        },
        {
          "output_type": "stream",
          "name": "stdout",
          "text": [
            "[CV 2/3] END .............loss=exponential;, score=-11493.256 total time=   2.3s\n"
          ]
        },
        {
          "output_type": "stream",
          "name": "stderr",
          "text": [
            "/usr/local/lib/python3.7/dist-packages/sklearn/utils/validation.py:993: DataConversionWarning: A column-vector y was passed when a 1d array was expected. Please change the shape of y to (n_samples, ), for example using ravel().\n",
            "  y = column_or_1d(y, warn=True)\n"
          ]
        },
        {
          "output_type": "stream",
          "name": "stdout",
          "text": [
            "[CV 3/3] END .............loss=exponential;, score=-11839.948 total time=   2.8s\n"
          ]
        },
        {
          "output_type": "stream",
          "name": "stderr",
          "text": [
            "/usr/local/lib/python3.7/dist-packages/sklearn/utils/validation.py:993: DataConversionWarning: A column-vector y was passed when a 1d array was expected. Please change the shape of y to (n_samples, ), for example using ravel().\n",
            "  y = column_or_1d(y, warn=True)\n"
          ]
        }
      ],
      "source": [
        "models = run_all_models(X_train, Y_train)"
      ]
    },
    {
      "cell_type": "code",
      "execution_count": 26,
      "metadata": {
        "colab": {
          "base_uri": "https://localhost:8080/"
        },
        "id": "pZsinqB4XIub",
        "outputId": "9b631e66-9bd6-49f2-8559-65fbdb5be225"
      },
      "outputs": [
        {
          "output_type": "execute_result",
          "data": {
            "text/plain": [
              "{'Linear regression': (LinearRegression(),\n",
              "  array([-13268.80634799, -11671.27427076, -13071.22832907])),\n",
              " 'Random forest': GridSearchCV(cv=3,\n",
              "              estimator=RandomForestRegressor(n_estimators=200, random_state=42),\n",
              "              param_grid={'max_features': ['auto', 'sqrt', 'log2',\n",
              "                                           0.3333333333333333]},\n",
              "              scoring='neg_mean_squared_error', verbose=3),\n",
              " 'ADA Boost': GridSearchCV(cv=3,\n",
              "              estimator=AdaBoostRegressor(n_estimators=200, random_state=42),\n",
              "              param_grid={'loss': ['linear', 'square', 'exponential']},\n",
              "              scoring='neg_mean_squared_error', verbose=3)}"
            ]
          },
          "metadata": {},
          "execution_count": 26
        }
      ],
      "source": [
        "models"
      ]
    },
    {
      "cell_type": "markdown",
      "metadata": {
        "id": "tUjXeRY8YcW8"
      },
      "source": [
        "Comparing their cross validation scores:"
      ]
    },
    {
      "cell_type": "code",
      "execution_count": 27,
      "metadata": {
        "colab": {
          "base_uri": "https://localhost:8080/"
        },
        "id": "LNLFi6w_Yb0k",
        "outputId": "5a516e00-d3a2-4b65-ea69-055e69b7f76e"
      },
      "outputs": [
        {
          "output_type": "execute_result",
          "data": {
            "text/plain": [
              "{'Linear regression': 112.56303263479774,\n",
              " 'Random forest': 60.97903276815063,\n",
              " 'ADA Boost': 96.34019030181328}"
            ]
          },
          "metadata": {},
          "execution_count": 27
        }
      ],
      "source": [
        "cv_scores = {}\n",
        "cv_scores['Linear regression'] = np.sqrt(-models['Linear regression'][1].mean())\n",
        "cv_scores['Random forest'] = np.sqrt(-models['Random forest'].best_score_)\n",
        "cv_scores['ADA Boost'] = np.sqrt(-models['ADA Boost'].best_score_)\n",
        "\n",
        "cv_scores"
      ]
    },
    {
      "cell_type": "code",
      "execution_count": 28,
      "metadata": {
        "colab": {
          "base_uri": "https://localhost:8080/",
          "height": 350
        },
        "id": "xM4GEZt4Xc8L",
        "outputId": "d511addb-9141-44b5-b532-030b36975ac6"
      },
      "outputs": [
        {
          "output_type": "execute_result",
          "data": {
            "text/plain": [
              "<matplotlib.axes._subplots.AxesSubplot at 0x7f8c23486510>"
            ]
          },
          "metadata": {},
          "execution_count": 28
        },
        {
          "output_type": "display_data",
          "data": {
            "text/plain": [
              "<Figure size 432x288 with 1 Axes>"
            ],
            "image/png": "[encoded data removed]"
          },
          "metadata": {}
        }
      ],
      "source": [
        "sns.set()\n",
        "cv_scores_df = pd.DataFrame.from_dict(cv_scores, orient='index')\n",
        "cv_scores_df.plot.bar(rot=45, legend=False)"
      ]
    },
    {
      "cell_type": "markdown",
      "metadata": {
        "id": "9Bw9U_ERZDtc"
      },
      "source": [
        "# Evaluating on test set"
      ]
    },
    {
      "cell_type": "markdown",
      "metadata": {
        "id": "Yx7dCbC8Zcer"
      },
      "source": [
        "Let's evaluate all models:"
      ]
    },
    {
      "cell_type": "code",
      "execution_count": 29,
      "metadata": {
        "id": "hfQUqyqqZNZN"
      },
      "outputs": [],
      "source": [
        "from sklearn.metrics import mean_squared_error\n",
        "\n",
        "def evaluate_single_model(x, y, model):\n",
        "  y_pred = model.predict(x)\n",
        "  return np.sqrt(mean_squared_error(y, y_pred))"
      ]
    },
    {
      "cell_type": "markdown",
      "metadata": {
        "id": "I4MpmgBYZ78E"
      },
      "source": [
        "Let's create a dictionary that includes only trained models:"
      ]
    },
    {
      "cell_type": "code",
      "execution_count": 30,
      "metadata": {
        "colab": {
          "base_uri": "https://localhost:8080/"
        },
        "id": "Bd-MUc5EaFBM",
        "outputId": "2647d270-9525-4b42-8d34-6159b3e18087"
      },
      "outputs": [
        {
          "output_type": "execute_result",
          "data": {
            "text/plain": [
              "{'Linear regression': LinearRegression(),\n",
              " 'Random forest': RandomForestRegressor(n_estimators=200, random_state=42),\n",
              " 'ADA Boost': AdaBoostRegressor(loss='square', n_estimators=200, random_state=42)}"
            ]
          },
          "metadata": {},
          "execution_count": 30
        }
      ],
      "source": [
        "trained_models_dict = {}\n",
        "trained_models_dict['Linear regression'] = models['Linear regression'][0]\n",
        "trained_models_dict['Random forest'] = models['Random forest'].best_estimator_\n",
        "trained_models_dict['ADA Boost'] = models['ADA Boost'].best_estimator_\n",
        "trained_models_dict"
      ]
    },
    {
      "cell_type": "markdown",
      "metadata": {
        "id": "W8kRL7UxanJO"
      },
      "source": [
        "And create a function that iterates over all models:"
      ]
    },
    {
      "cell_type": "code",
      "execution_count": 31,
      "metadata": {
        "id": "J0sOG19KZFv1"
      },
      "outputs": [],
      "source": [
        "def evaluate_all_models(x, y, models_dict):\n",
        "  test_set_scores = {}\n",
        "  for k, v in models_dict.items():\n",
        "    test_set_scores[k] = evaluate_single_model(x, y, v)\n",
        "  return test_set_scores"
      ]
    },
    {
      "cell_type": "markdown",
      "metadata": {
        "id": "wc14xlYKawF2"
      },
      "source": [
        "Finally, let's run our function:"
      ]
    },
    {
      "cell_type": "code",
      "execution_count": 32,
      "metadata": {
        "colab": {
          "base_uri": "https://localhost:8080/"
        },
        "id": "-L5oOKaFah_3",
        "outputId": "a8483ef3-9f8c-4240-b483-c2e95aa93be2"
      },
      "outputs": [
        {
          "output_type": "execute_result",
          "data": {
            "text/plain": [
              "{'Linear regression': 110.48314292840027,\n",
              " 'Random forest': 53.58639189895571,\n",
              " 'ADA Boost': 95.30953596801778}"
            ]
          },
          "metadata": {},
          "execution_count": 32
        }
      ],
      "source": [
        "test_set_scores = evaluate_all_models(X_test, Y_test, trained_models_dict)\n",
        "test_set_scores"
      ]
    },
    {
      "cell_type": "markdown",
      "metadata": {
        "id": "v-dUZ0sAcp9-"
      },
      "source": [
        "### Overall comparison"
      ]
    },
    {
      "cell_type": "markdown",
      "metadata": {
        "id": "PuHf2ktQcVGn"
      },
      "source": [
        "Let's combine the two dictionaries:"
      ]
    },
    {
      "cell_type": "code",
      "execution_count": 33,
      "metadata": {
        "colab": {
          "base_uri": "https://localhost:8080/"
        },
        "id": "F59TlEGHcW4v",
        "outputId": "cafe5105-5855-4629-d688-858c49019f14"
      },
      "outputs": [
        {
          "output_type": "execute_result",
          "data": {
            "text/plain": [
              "{'Linear regression': [112.56303263479774, 110.48314292840027],\n",
              " 'Random forest': [60.97903276815063, 53.58639189895571],\n",
              " 'ADA Boost': [96.34019030181328, 95.30953596801778]}"
            ]
          },
          "metadata": {},
          "execution_count": 33
        }
      ],
      "source": [
        "combined_dict = {k: [np.abs(v), test_set_scores[k]] for k, v in cv_scores.items()}\n",
        "combined_dict"
      ]
    },
    {
      "cell_type": "markdown",
      "metadata": {
        "id": "_-mLRYKNcut1"
      },
      "source": [
        "And compare the CV score to the test set score:"
      ]
    },
    {
      "cell_type": "code",
      "execution_count": 34,
      "metadata": {
        "colab": {
          "base_uri": "https://localhost:8080/",
          "height": 143
        },
        "id": "RTns2IUka9re",
        "outputId": "62c31309-abda-46f6-fc49-d4cd0decdc16"
      },
      "outputs": [
        {
          "output_type": "execute_result",
          "data": {
            "text/plain": [
              "                     CV score  Test set score\n",
              "Linear regression  112.563033      110.483143\n",
              "Random forest       60.979033       53.586392\n",
              "ADA Boost           96.340190       95.309536"
            ],
            "text/html": [
              "\n",
              "  <div id=\"df-8d428552-7cdf-4621-876b-bad055c9f0fd\">\n",
              "    <div class=\"colab-df-container\">\n",
              "      <div>\n",
              "<style scoped>\n",
              "    .dataframe tbody tr th:only-of-type {\n",
              "        vertical-align: middle;\n",
              "    }\n",
              "\n",
              "    .dataframe tbody tr th {\n",
              "        vertical-align: top;\n",
              "    }\n",
              "\n",
              "    .dataframe thead th {\n",
              "        text-align: right;\n",
              "    }\n",
              "</style>\n",
              "<table border=\"1\" class=\"dataframe\">\n",
              "  <thead>\n",
              "    <tr style=\"text-align: right;\">\n",
              "      <th></th>\n",
              "      <th>CV score</th>\n",
              "      <th>Test set score</th>\n",
              "    </tr>\n",
              "  </thead>\n",
              "  <tbody>\n",
              "    <tr>\n",
              "      <th>Linear regression</th>\n",
              "      <td>112.563033</td>\n",
              "      <td>110.483143</td>\n",
              "    </tr>\n",
              "    <tr>\n",
              "      <th>Random forest</th>\n",
              "      <td>60.979033</td>\n",
              "      <td>53.586392</td>\n",
              "    </tr>\n",
              "    <tr>\n",
              "      <th>ADA Boost</th>\n",
              "      <td>96.340190</td>\n",
              "      <td>95.309536</td>\n",
              "    </tr>\n",
              "  </tbody>\n",
              "</table>\n",
              "</div>\n",
              "      <button class=\"colab-df-convert\" onclick=\"convertToInteractive('df-8d428552-7cdf-4621-876b-bad055c9f0fd')\"\n",
              "              title=\"Convert this dataframe to an interactive table.\"\n",
              "              style=\"display:none;\">\n",
              "        \n",
              "  <svg xmlns=\"http://www.w3.org/2000/svg\" height=\"24px\"viewBox=\"0 0 24 24\"\n",
              "       width=\"24px\">\n",
              "    <path d=\"M0 0h24v24H0V0z\" fill=\"none\"/>\n",
              "    <path d=\"M18.56 5.44l.94 2.06.94-2.06 2.06-.94-2.06-.94-.94-2.06-.94 2.06-2.06.94zm-11 1L8.5 8.5l.94-2.06 2.06-.94-2.06-.94L8.5 2.5l-.94 2.06-2.06.94zm10 10l.94 2.06.94-2.06 2.06-.94-2.06-.94-.94-2.06-.94 2.06-2.06.94z\"/><path d=\"M17.41 7.96l-1.37-1.37c-.4-.4-.92-.59-1.43-.59-.52 0-1.04.2-1.43.59L10.3 9.45l-7.72 7.72c-.78.78-.78 2.05 0 2.83L4 21.41c.39.39.9.59 1.41.59.51 0 1.02-.2 1.41-.59l7.78-7.78 2.81-2.81c.8-.78.8-2.07 0-2.86zM5.41 20L4 18.59l7.72-7.72 1.47 1.35L5.41 20z\"/>\n",
              "  </svg>\n",
              "      </button>\n",
              "      \n",
              "  <style>\n",
              "    .colab-df-container {\n",
              "      display:flex;\n",
              "      flex-wrap:wrap;\n",
              "      gap: 12px;\n",
              "    }\n",
              "\n",
              "    .colab-df-convert {\n",
              "      background-color: #E8F0FE;\n",
              "      border: none;\n",
              "      border-radius: 50%;\n",
              "      cursor: pointer;\n",
              "      display: none;\n",
              "      fill: #1967D2;\n",
              "      height: 32px;\n",
              "      padding: 0 0 0 0;\n",
              "      width: 32px;\n",
              "    }\n",
              "\n",
              "    .colab-df-convert:hover {\n",
              "      background-color: #E2EBFA;\n",
              "      box-shadow: 0px 1px 2px rgba(60, 64, 67, 0.3), 0px 1px 3px 1px rgba(60, 64, 67, 0.15);\n",
              "      fill: #174EA6;\n",
              "    }\n",
              "\n",
              "    [theme=dark] .colab-df-convert {\n",
              "      background-color: #3B4455;\n",
              "      fill: #D2E3FC;\n",
              "    }\n",
              "\n",
              "    [theme=dark] .colab-df-convert:hover {\n",
              "      background-color: #434B5C;\n",
              "      box-shadow: 0px 1px 3px 1px rgba(0, 0, 0, 0.15);\n",
              "      filter: drop-shadow(0px 1px 2px rgba(0, 0, 0, 0.3));\n",
              "      fill: #FFFFFF;\n",
              "    }\n",
              "  </style>\n",
              "\n",
              "      <script>\n",
              "        const buttonEl =\n",
              "          document.querySelector('#df-8d428552-7cdf-4621-876b-bad055c9f0fd button.colab-df-convert');\n",
              "        buttonEl.style.display =\n",
              "          google.colab.kernel.accessAllowed ? 'block' : 'none';\n",
              "\n",
              "        async function convertToInteractive(key) {\n",
              "          const element = document.querySelector('#df-8d428552-7cdf-4621-876b-bad055c9f0fd');\n",
              "          const dataTable =\n",
              "            await google.colab.kernel.invokeFunction('convertToInteractive',\n",
              "                                                     [key], {});\n",
              "          if (!dataTable) return;\n",
              "\n",
              "          const docLinkHtml = 'Like what you see? Visit the ' +\n",
              "            '<a target=\"_blank\" href=https://colab.research.google.com/notebooks/data_table.ipynb>data table notebook</a>'\n",
              "            + ' to learn more about interactive tables.';\n",
              "          element.innerHTML = '';\n",
              "          dataTable['output_type'] = 'display_data';\n",
              "          await google.colab.output.renderOutput(dataTable, element);\n",
              "          const docLink = document.createElement('div');\n",
              "          docLink.innerHTML = docLinkHtml;\n",
              "          element.appendChild(docLink);\n",
              "        }\n",
              "      </script>\n",
              "    </div>\n",
              "  </div>\n",
              "  "
            ]
          },
          "metadata": {},
          "execution_count": 34
        }
      ],
      "source": [
        "scores_df = pd.DataFrame.from_dict(combined_dict, orient='index', columns=['CV score', 'Test set score'])\n",
        "scores_df"
      ]
    },
    {
      "cell_type": "markdown",
      "metadata": {
        "id": "IlOB5zvlFtQL"
      },
      "source": [
        "### Feature importance\n",
        "\n",
        "Let's find the importance of all features for each model and remove insignificant features:"
      ]
    },
    {
      "cell_type": "code",
      "execution_count": 35,
      "metadata": {
        "id": "us-fyHw-GhP-"
      },
      "outputs": [],
      "source": [
        "feature_importance_dict = {}"
      ]
    },
    {
      "cell_type": "markdown",
      "metadata": {
        "id": "jl-WQpBxG49h"
      },
      "source": [
        "#### Tree based methods"
      ]
    },
    {
      "cell_type": "markdown",
      "metadata": {
        "id": "RGXBBs4QGHZX"
      },
      "source": [
        "For tree based models we can use SKLearn's built-in methods:"
      ]
    },
    {
      "cell_type": "code",
      "execution_count": 36,
      "metadata": {
        "id": "6tLPrIAzGMYS"
      },
      "outputs": [],
      "source": [
        "def find_tree_feature_importance(model, columns):\n",
        "  importance = model.feature_importances_\n",
        "  importance *= 100 / np.max(importance)  # Normalize\n",
        "  importance = pd.DataFrame(importance, index=columns, columns=[\"Importance\"])\n",
        "  importance = importance.sort_values(by=['Importance'], ascending=False)\n",
        "  return importance"
      ]
    },
    {
      "cell_type": "code",
      "execution_count": 37,
      "metadata": {
        "id": "Y2MCkIZDGS6s"
      },
      "outputs": [],
      "source": [
        "feature_importance_dict['Random forest'] = find_tree_feature_importance(trained_models_dict['Random forest'], X_train.columns)\n",
        "feature_importance_dict['ADA Boost'] = find_tree_feature_importance(trained_models_dict['ADA Boost'], X_train.columns)"
      ]
    },
    {
      "cell_type": "markdown",
      "metadata": {
        "id": "eqYG1lEsG8Aa"
      },
      "source": [
        "#### Classical regression methods"
      ]
    },
    {
      "cell_type": "markdown",
      "metadata": {
        "id": "aIP2pF1pG_lB"
      },
      "source": [
        "One interpetation of feature importance for linear/ridge regression, is the normalized value of the estimator's coefficients:"
      ]
    },
    {
      "cell_type": "code",
      "execution_count": 38,
      "metadata": {
        "id": "-e19JailHJ39"
      },
      "outputs": [],
      "source": [
        "def find_normalized_lr_feature_importance(model, x_train):\n",
        "  coefficients = {x_train.columns[i]: np.abs(model.coef_[i]) for i in range(len(x_train.columns))}\n",
        "  coefficients_df = pd.DataFrame.from_dict(coefficients, orient='index', columns=['Importance'])\n",
        "  coefficients_df['Importance'] *=  x_train.std()\n",
        "  coefficients_df['Importance'] *= 100 / coefficients_df['Importance'].max()\n",
        "  importance = coefficients_df.sort_values(by=['Importance'], ascending=False)\n",
        "  return importance"
      ]
    },
    {
      "cell_type": "code",
      "source": [
        "X_train"
      ],
      "metadata": {
        "colab": {
          "base_uri": "https://localhost:8080/",
          "height": 522
        },
        "id": "QRaWDrKSXpwf",
        "outputId": "134b259f-cd6d-4129-e605-dc2727344f88"
      },
      "execution_count": 39,
      "outputs": [
        {
          "output_type": "execute_result",
          "data": {
            "text/plain": [
              "      season  holiday  workingday  weather  humidity  windspeed   pollution  \\\n",
              "3792       4        0           1        1        80     0.0000    0.006834   \n",
              "8157       1        0           1        2        93    15.0013    5.007903   \n",
              "6711       2        0           1        1        94     8.9981    0.042181   \n",
              "4959       4        0           0        2        87     6.0032   55.283841   \n",
              "7570       4        0           1        2        78    16.9979   15.187342   \n",
              "...      ...      ...         ...      ...       ...        ...         ...   \n",
              "5237       1        0           0        1        47    32.9975   22.658549   \n",
              "5402       3        0           1        1        78     6.0032    3.704842   \n",
              "860        4        0           1        3       100     6.0032    4.960762   \n",
              "7616       3        0           0        2        66    15.0013  133.492463   \n",
              "7283       1        0           1        1        88     8.9981   23.278940   \n",
              "\n",
              "       traffic           ef      hour_sin      hour_cos   day_sin   day_cos  \\\n",
              "3792  0.004489   348.652066  8.660254e-01  5.000000e-01 -0.478734  0.877960   \n",
              "8157  0.000242   322.834106  1.224647e-16 -1.000000e+00  0.538005  0.842942   \n",
              "6711  0.000242  1534.127441  2.588190e-01  9.659258e-01  0.717677 -0.696376   \n",
              "4959  0.000000   692.305706  5.000000e-01  8.660254e-01 -0.238673  0.971100   \n",
              "7570  0.000000  2039.233301 -9.659258e-01 -2.588190e-01 -0.984474  0.175531   \n",
              "...        ...          ...           ...           ...       ...       ...   \n",
              "5237  0.004489  1042.955341  8.660254e-01 -5.000000e-01  0.974100  0.226116   \n",
              "5402  0.000000  2250.034706  2.588190e-01  9.659258e-01 -0.559589 -0.828770   \n",
              "860   0.000000  1133.600181  5.000000e-01 -8.660254e-01 -0.401488  0.915864   \n",
              "7616  0.000000  3763.768101 -8.660254e-01 -5.000000e-01 -0.128748 -0.991677   \n",
              "7283  0.000242  1227.862546  1.000000e+00  6.123234e-17  0.977848  0.209315   \n",
              "\n",
              "      day  month  year  \n",
              "3792    2     12  2011  \n",
              "8157    2      2  2011  \n",
              "6711   16      5  2011  \n",
              "4959   16     12  2012  \n",
              "7570   11     10  2011  \n",
              "...   ...    ...   ...  \n",
              "5237   19      3  2011  \n",
              "5402    5      8  2011  \n",
              "860     7     12  2011  \n",
              "7616    8      7  2012  \n",
              "7283   19      3  2012  \n",
              "\n",
              "[6520 rows x 16 columns]"
            ],
            "text/html": [
              "\n",
              "  <div id=\"df-278bf27d-3c77-4f91-a4e2-5c48a3d819c5\">\n",
              "    <div class=\"colab-df-container\">\n",
              "      <div>\n",
              "<style scoped>\n",
              "    .dataframe tbody tr th:only-of-type {\n",
              "        vertical-align: middle;\n",
              "    }\n",
              "\n",
              "    .dataframe tbody tr th {\n",
              "        vertical-align: top;\n",
              "    }\n",
              "\n",
              "    .dataframe thead th {\n",
              "        text-align: right;\n",
              "    }\n",
              "</style>\n",
              "<table border=\"1\" class=\"dataframe\">\n",
              "  <thead>\n",
              "    <tr style=\"text-align: right;\">\n",
              "      <th></th>\n",
              "      <th>season</th>\n",
              "      <th>holiday</th>\n",
              "      <th>workingday</th>\n",
              "      <th>weather</th>\n",
              "      <th>humidity</th>\n",
              "      <th>windspeed</th>\n",
              "      <th>pollution</th>\n",
              "      <th>traffic</th>\n",
              "      <th>ef</th>\n",
              "      <th>hour_sin</th>\n",
              "      <th>hour_cos</th>\n",
              "      <th>day_sin</th>\n",
              "      <th>day_cos</th>\n",
              "      <th>day</th>\n",
              "      <th>month</th>\n",
              "      <th>year</th>\n",
              "    </tr>\n",
              "  </thead>\n",
              "  <tbody>\n",
              "    <tr>\n",
              "      <th>3792</th>\n",
              "      <td>4</td>\n",
              "      <td>0</td>\n",
              "      <td>1</td>\n",
              "      <td>1</td>\n",
              "      <td>80</td>\n",
              "      <td>0.0000</td>\n",
              "      <td>0.006834</td>\n",
              "      <td>0.004489</td>\n",
              "      <td>348.652066</td>\n",
              "      <td>8.660254e-01</td>\n",
              "      <td>5.000000e-01</td>\n",
              "      <td>-0.478734</td>\n",
              "      <td>0.877960</td>\n",
              "      <td>2</td>\n",
              "      <td>12</td>\n",
              "      <td>2011</td>\n",
              "    </tr>\n",
              "    <tr>\n",
              "      <th>8157</th>\n",
              "      <td>1</td>\n",
              "      <td>0</td>\n",
              "      <td>1</td>\n",
              "      <td>2</td>\n",
              "      <td>93</td>\n",
              "      <td>15.0013</td>\n",
              "      <td>5.007903</td>\n",
              "      <td>0.000242</td>\n",
              "      <td>322.834106</td>\n",
              "      <td>1.224647e-16</td>\n",
              "      <td>-1.000000e+00</td>\n",
              "      <td>0.538005</td>\n",
              "      <td>0.842942</td>\n",
              "      <td>2</td>\n",
              "      <td>2</td>\n",
              "      <td>2011</td>\n",
              "    </tr>\n",
              "    <tr>\n",
              "      <th>6711</th>\n",
              "      <td>2</td>\n",
              "      <td>0</td>\n",
              "      <td>1</td>\n",
              "      <td>1</td>\n",
              "      <td>94</td>\n",
              "      <td>8.9981</td>\n",
              "      <td>0.042181</td>\n",
              "      <td>0.000242</td>\n",
              "      <td>1534.127441</td>\n",
              "      <td>2.588190e-01</td>\n",
              "      <td>9.659258e-01</td>\n",
              "      <td>0.717677</td>\n",
              "      <td>-0.696376</td>\n",
              "      <td>16</td>\n",
              "      <td>5</td>\n",
              "      <td>2011</td>\n",
              "    </tr>\n",
              "    <tr>\n",
              "      <th>4959</th>\n",
              "      <td>4</td>\n",
              "      <td>0</td>\n",
              "      <td>0</td>\n",
              "      <td>2</td>\n",
              "      <td>87</td>\n",
              "      <td>6.0032</td>\n",
              "      <td>55.283841</td>\n",
              "      <td>0.000000</td>\n",
              "      <td>692.305706</td>\n",
              "      <td>5.000000e-01</td>\n",
              "      <td>8.660254e-01</td>\n",
              "      <td>-0.238673</td>\n",
              "      <td>0.971100</td>\n",
              "      <td>16</td>\n",
              "      <td>12</td>\n",
              "      <td>2012</td>\n",
              "    </tr>\n",
              "    <tr>\n",
              "      <th>7570</th>\n",
              "      <td>4</td>\n",
              "      <td>0</td>\n",
              "      <td>1</td>\n",
              "      <td>2</td>\n",
              "      <td>78</td>\n",
              "      <td>16.9979</td>\n",
              "      <td>15.187342</td>\n",
              "      <td>0.000000</td>\n",
              "      <td>2039.233301</td>\n",
              "      <td>-9.659258e-01</td>\n",
              "      <td>-2.588190e-01</td>\n",
              "      <td>-0.984474</td>\n",
              "      <td>0.175531</td>\n",
              "      <td>11</td>\n",
              "      <td>10</td>\n",
              "      <td>2011</td>\n",
              "    </tr>\n",
              "    <tr>\n",
              "      <th>...</th>\n",
              "      <td>...</td>\n",
              "      <td>...</td>\n",
              "      <td>...</td>\n",
              "      <td>...</td>\n",
              "      <td>...</td>\n",
              "      <td>...</td>\n",
              "      <td>...</td>\n",
              "      <td>...</td>\n",
              "      <td>...</td>\n",
              "      <td>...</td>\n",
              "      <td>...</td>\n",
              "      <td>...</td>\n",
              "      <td>...</td>\n",
              "      <td>...</td>\n",
              "      <td>...</td>\n",
              "      <td>...</td>\n",
              "    </tr>\n",
              "    <tr>\n",
              "      <th>5237</th>\n",
              "      <td>1</td>\n",
              "      <td>0</td>\n",
              "      <td>0</td>\n",
              "      <td>1</td>\n",
              "      <td>47</td>\n",
              "      <td>32.9975</td>\n",
              "      <td>22.658549</td>\n",
              "      <td>0.004489</td>\n",
              "      <td>1042.955341</td>\n",
              "      <td>8.660254e-01</td>\n",
              "      <td>-5.000000e-01</td>\n",
              "      <td>0.974100</td>\n",
              "      <td>0.226116</td>\n",
              "      <td>19</td>\n",
              "      <td>3</td>\n",
              "      <td>2011</td>\n",
              "    </tr>\n",
              "    <tr>\n",
              "      <th>5402</th>\n",
              "      <td>3</td>\n",
              "      <td>0</td>\n",
              "      <td>1</td>\n",
              "      <td>1</td>\n",
              "      <td>78</td>\n",
              "      <td>6.0032</td>\n",
              "      <td>3.704842</td>\n",
              "      <td>0.000000</td>\n",
              "      <td>2250.034706</td>\n",
              "      <td>2.588190e-01</td>\n",
              "      <td>9.659258e-01</td>\n",
              "      <td>-0.559589</td>\n",
              "      <td>-0.828770</td>\n",
              "      <td>5</td>\n",
              "      <td>8</td>\n",
              "      <td>2011</td>\n",
              "    </tr>\n",
              "    <tr>\n",
              "      <th>860</th>\n",
              "      <td>4</td>\n",
              "      <td>0</td>\n",
              "      <td>1</td>\n",
              "      <td>3</td>\n",
              "      <td>100</td>\n",
              "      <td>6.0032</td>\n",
              "      <td>4.960762</td>\n",
              "      <td>0.000000</td>\n",
              "      <td>1133.600181</td>\n",
              "      <td>5.000000e-01</td>\n",
              "      <td>-8.660254e-01</td>\n",
              "      <td>-0.401488</td>\n",
              "      <td>0.915864</td>\n",
              "      <td>7</td>\n",
              "      <td>12</td>\n",
              "      <td>2011</td>\n",
              "    </tr>\n",
              "    <tr>\n",
              "      <th>7616</th>\n",
              "      <td>3</td>\n",
              "      <td>0</td>\n",
              "      <td>0</td>\n",
              "      <td>2</td>\n",
              "      <td>66</td>\n",
              "      <td>15.0013</td>\n",
              "      <td>133.492463</td>\n",
              "      <td>0.000000</td>\n",
              "      <td>3763.768101</td>\n",
              "      <td>-8.660254e-01</td>\n",
              "      <td>-5.000000e-01</td>\n",
              "      <td>-0.128748</td>\n",
              "      <td>-0.991677</td>\n",
              "      <td>8</td>\n",
              "      <td>7</td>\n",
              "      <td>2012</td>\n",
              "    </tr>\n",
              "    <tr>\n",
              "      <th>7283</th>\n",
              "      <td>1</td>\n",
              "      <td>0</td>\n",
              "      <td>1</td>\n",
              "      <td>1</td>\n",
              "      <td>88</td>\n",
              "      <td>8.9981</td>\n",
              "      <td>23.278940</td>\n",
              "      <td>0.000242</td>\n",
              "      <td>1227.862546</td>\n",
              "      <td>1.000000e+00</td>\n",
              "      <td>6.123234e-17</td>\n",
              "      <td>0.977848</td>\n",
              "      <td>0.209315</td>\n",
              "      <td>19</td>\n",
              "      <td>3</td>\n",
              "      <td>2012</td>\n",
              "    </tr>\n",
              "  </tbody>\n",
              "</table>\n",
              "<p>6520 rows × 16 columns</p>\n",
              "</div>\n",
              "      <button class=\"colab-df-convert\" onclick=\"convertToInteractive('df-278bf27d-3c77-4f91-a4e2-5c48a3d819c5')\"\n",
              "              title=\"Convert this dataframe to an interactive table.\"\n",
              "              style=\"display:none;\">\n",
              "        \n",
              "  <svg xmlns=\"http://www.w3.org/2000/svg\" height=\"24px\"viewBox=\"0 0 24 24\"\n",
              "       width=\"24px\">\n",
              "    <path d=\"M0 0h24v24H0V0z\" fill=\"none\"/>\n",
              "    <path d=\"M18.56 5.44l.94 2.06.94-2.06 2.06-.94-2.06-.94-.94-2.06-.94 2.06-2.06.94zm-11 1L8.5 8.5l.94-2.06 2.06-.94-2.06-.94L8.5 2.5l-.94 2.06-2.06.94zm10 10l.94 2.06.94-2.06 2.06-.94-2.06-.94-.94-2.06-.94 2.06-2.06.94z\"/><path d=\"M17.41 7.96l-1.37-1.37c-.4-.4-.92-.59-1.43-.59-.52 0-1.04.2-1.43.59L10.3 9.45l-7.72 7.72c-.78.78-.78 2.05 0 2.83L4 21.41c.39.39.9.59 1.41.59.51 0 1.02-.2 1.41-.59l7.78-7.78 2.81-2.81c.8-.78.8-2.07 0-2.86zM5.41 20L4 18.59l7.72-7.72 1.47 1.35L5.41 20z\"/>\n",
              "  </svg>\n",
              "      </button>\n",
              "      \n",
              "  <style>\n",
              "    .colab-df-container {\n",
              "      display:flex;\n",
              "      flex-wrap:wrap;\n",
              "      gap: 12px;\n",
              "    }\n",
              "\n",
              "    .colab-df-convert {\n",
              "      background-color: #E8F0FE;\n",
              "      border: none;\n",
              "      border-radius: 50%;\n",
              "      cursor: pointer;\n",
              "      display: none;\n",
              "      fill: #1967D2;\n",
              "      height: 32px;\n",
              "      padding: 0 0 0 0;\n",
              "      width: 32px;\n",
              "    }\n",
              "\n",
              "    .colab-df-convert:hover {\n",
              "      background-color: #E2EBFA;\n",
              "      box-shadow: 0px 1px 2px rgba(60, 64, 67, 0.3), 0px 1px 3px 1px rgba(60, 64, 67, 0.15);\n",
              "      fill: #174EA6;\n",
              "    }\n",
              "\n",
              "    [theme=dark] .colab-df-convert {\n",
              "      background-color: #3B4455;\n",
              "      fill: #D2E3FC;\n",
              "    }\n",
              "\n",
              "    [theme=dark] .colab-df-convert:hover {\n",
              "      background-color: #434B5C;\n",
              "      box-shadow: 0px 1px 3px 1px rgba(0, 0, 0, 0.15);\n",
              "      filter: drop-shadow(0px 1px 2px rgba(0, 0, 0, 0.3));\n",
              "      fill: #FFFFFF;\n",
              "    }\n",
              "  </style>\n",
              "\n",
              "      <script>\n",
              "        const buttonEl =\n",
              "          document.querySelector('#df-278bf27d-3c77-4f91-a4e2-5c48a3d819c5 button.colab-df-convert');\n",
              "        buttonEl.style.display =\n",
              "          google.colab.kernel.accessAllowed ? 'block' : 'none';\n",
              "\n",
              "        async function convertToInteractive(key) {\n",
              "          const element = document.querySelector('#df-278bf27d-3c77-4f91-a4e2-5c48a3d819c5');\n",
              "          const dataTable =\n",
              "            await google.colab.kernel.invokeFunction('convertToInteractive',\n",
              "                                                     [key], {});\n",
              "          if (!dataTable) return;\n",
              "\n",
              "          const docLinkHtml = 'Like what you see? Visit the ' +\n",
              "            '<a target=\"_blank\" href=https://colab.research.google.com/notebooks/data_table.ipynb>data table notebook</a>'\n",
              "            + ' to learn more about interactive tables.';\n",
              "          element.innerHTML = '';\n",
              "          dataTable['output_type'] = 'display_data';\n",
              "          await google.colab.output.renderOutput(dataTable, element);\n",
              "          const docLink = document.createElement('div');\n",
              "          docLink.innerHTML = docLinkHtml;\n",
              "          element.appendChild(docLink);\n",
              "        }\n",
              "      </script>\n",
              "    </div>\n",
              "  </div>\n",
              "  "
            ]
          },
          "metadata": {},
          "execution_count": 39
        }
      ]
    },
    {
      "cell_type": "code",
      "execution_count": 40,
      "metadata": {
        "id": "hGrXJvRcHMRE"
      },
      "outputs": [],
      "source": [
        "feature_importance_dict['Linear regression'] = find_normalized_lr_feature_importance(trained_models_dict['Linear regression'], X_train)"
      ]
    },
    {
      "cell_type": "markdown",
      "metadata": {
        "id": "aFVaV87mICFL"
      },
      "source": [
        "#### Comparison"
      ]
    },
    {
      "cell_type": "markdown",
      "metadata": {
        "id": "m98QpfuSIEQQ"
      },
      "source": [
        "Let's visualize the different feature imprtance across the models:"
      ]
    },
    {
      "cell_type": "code",
      "execution_count": 41,
      "metadata": {
        "colab": {
          "base_uri": "https://localhost:8080/",
          "height": 736
        },
        "id": "-dynYPS0IIYz",
        "outputId": "ac6d45f7-1c61-469d-ba36-a50a0410ada4"
      },
      "outputs": [
        {
          "output_type": "execute_result",
          "data": {
            "text/plain": [
              "<matplotlib.axes._subplots.AxesSubplot at 0x7f8c236ccb90>"
            ]
          },
          "metadata": {},
          "execution_count": 41
        },
        {
          "output_type": "display_data",
          "data": {
            "text/plain": [
              "<Figure size 864x864 with 4 Axes>"
            ],
            "image/png": "[encoded data removed]"
          },
          "metadata": {}
        }
      ],
      "source": [
        "sns.set()\n",
        "\n",
        "fig, axes = plt.subplots(2, 2, figsize=(12, 12))\n",
        "feature_importance_dict['Random forest'].plot(kind='barh', ax=axes[0, 0], legend=False, title='Random forest')\n",
        "feature_importance_dict['ADA Boost'].plot(kind='barh', ax=axes[0, 1], legend=False, title='ADA Boost')\n",
        "feature_importance_dict['Linear regression'].plot(kind='barh', ax=axes[1, 0], legend=False, title='Linear regression')"
      ]
    },
    {
      "cell_type": "markdown",
      "metadata": {
        "id": "iZzTH87uLl0f"
      },
      "source": [
        "#### Removing weak features"
      ]
    },
    {
      "cell_type": "markdown",
      "metadata": {
        "id": "tmchGmPzXs96"
      },
      "source": [
        "Let's find the 3 weakest features in each model:"
      ]
    },
    {
      "cell_type": "code",
      "execution_count": 42,
      "metadata": {
        "colab": {
          "base_uri": "https://localhost:8080/"
        },
        "id": "g9HhllWFYYZl",
        "outputId": "604713e5-6800-4752-86e2-76505123ef76"
      },
      "outputs": [
        {
          "output_type": "execute_result",
          "data": {
            "text/plain": [
              "{'Random forest': ['day', 'weather', 'season', 'traffic', 'holiday'],\n",
              " 'ADA Boost': ['windspeed', 'day', 'traffic', 'season', 'holiday'],\n",
              " 'Linear regression': ['windspeed', 'traffic', 'day', 'workingday', 'holiday']}"
            ]
          },
          "metadata": {},
          "execution_count": 42
        }
      ],
      "source": [
        "weak_features_dict = {}\n",
        "for k, v in feature_importance_dict.items():\n",
        "  weak_features_dict[k] = list(v.index.values[-5:])\n",
        "weak_features_dict"
      ]
    },
    {
      "cell_type": "markdown",
      "metadata": {
        "id": "J_miQIU6Y7g2"
      },
      "source": [
        "And remove these features from each model. We create a dictionary mapping each model to X_train and X_test without the last 5 features:"
      ]
    },
    {
      "cell_type": "code",
      "execution_count": 43,
      "metadata": {
        "id": "wX5rb2L1Y-4M"
      },
      "outputs": [],
      "source": [
        "x_data_dict = {}\n",
        "for k, v in weak_features_dict.items():\n",
        "  x_data_dict[k] = (X_train.drop(v, axis=1), X_test.drop(v, axis=1))"
      ]
    },
    {
      "cell_type": "markdown",
      "metadata": {
        "id": "i9wdtxqHZkH1"
      },
      "source": [
        "Verify:"
      ]
    },
    {
      "cell_type": "code",
      "execution_count": 44,
      "metadata": {
        "colab": {
          "base_uri": "https://localhost:8080/",
          "height": 522
        },
        "id": "tEeTsVmRZe6V",
        "outputId": "7e5603c2-ca0e-408b-c1cf-c4607c5a934b"
      },
      "outputs": [
        {
          "output_type": "execute_result",
          "data": {
            "text/plain": [
              "      workingday  humidity  windspeed   pollution           ef      hour_sin  \\\n",
              "3792           1        80     0.0000    0.006834   348.652066  8.660254e-01   \n",
              "8157           1        93    15.0013    5.007903   322.834106  1.224647e-16   \n",
              "6711           1        94     8.9981    0.042181  1534.127441  2.588190e-01   \n",
              "4959           0        87     6.0032   55.283841   692.305706  5.000000e-01   \n",
              "7570           1        78    16.9979   15.187342  2039.233301 -9.659258e-01   \n",
              "...          ...       ...        ...         ...          ...           ...   \n",
              "5237           0        47    32.9975   22.658549  1042.955341  8.660254e-01   \n",
              "5402           1        78     6.0032    3.704842  2250.034706  2.588190e-01   \n",
              "860            1       100     6.0032    4.960762  1133.600181  5.000000e-01   \n",
              "7616           0        66    15.0013  133.492463  3763.768101 -8.660254e-01   \n",
              "7283           1        88     8.9981   23.278940  1227.862546  1.000000e+00   \n",
              "\n",
              "          hour_cos   day_sin   day_cos  month  year  \n",
              "3792  5.000000e-01 -0.478734  0.877960     12  2011  \n",
              "8157 -1.000000e+00  0.538005  0.842942      2  2011  \n",
              "6711  9.659258e-01  0.717677 -0.696376      5  2011  \n",
              "4959  8.660254e-01 -0.238673  0.971100     12  2012  \n",
              "7570 -2.588190e-01 -0.984474  0.175531     10  2011  \n",
              "...            ...       ...       ...    ...   ...  \n",
              "5237 -5.000000e-01  0.974100  0.226116      3  2011  \n",
              "5402  9.659258e-01 -0.559589 -0.828770      8  2011  \n",
              "860  -8.660254e-01 -0.401488  0.915864     12  2011  \n",
              "7616 -5.000000e-01 -0.128748 -0.991677      7  2012  \n",
              "7283  6.123234e-17  0.977848  0.209315      3  2012  \n",
              "\n",
              "[6520 rows x 11 columns]"
            ],
            "text/html": [
              "\n",
              "  <div id=\"df-2b307998-51f1-4633-9b50-28322ee6634c\">\n",
              "    <div class=\"colab-df-container\">\n",
              "      <div>\n",
              "<style scoped>\n",
              "    .dataframe tbody tr th:only-of-type {\n",
              "        vertical-align: middle;\n",
              "    }\n",
              "\n",
              "    .dataframe tbody tr th {\n",
              "        vertical-align: top;\n",
              "    }\n",
              "\n",
              "    .dataframe thead th {\n",
              "        text-align: right;\n",
              "    }\n",
              "</style>\n",
              "<table border=\"1\" class=\"dataframe\">\n",
              "  <thead>\n",
              "    <tr style=\"text-align: right;\">\n",
              "      <th></th>\n",
              "      <th>workingday</th>\n",
              "      <th>humidity</th>\n",
              "      <th>windspeed</th>\n",
              "      <th>pollution</th>\n",
              "      <th>ef</th>\n",
              "      <th>hour_sin</th>\n",
              "      <th>hour_cos</th>\n",
              "      <th>day_sin</th>\n",
              "      <th>day_cos</th>\n",
              "      <th>month</th>\n",
              "      <th>year</th>\n",
              "    </tr>\n",
              "  </thead>\n",
              "  <tbody>\n",
              "    <tr>\n",
              "      <th>3792</th>\n",
              "      <td>1</td>\n",
              "      <td>80</td>\n",
              "      <td>0.0000</td>\n",
              "      <td>0.006834</td>\n",
              "      <td>348.652066</td>\n",
              "      <td>8.660254e-01</td>\n",
              "      <td>5.000000e-01</td>\n",
              "      <td>-0.478734</td>\n",
              "      <td>0.877960</td>\n",
              "      <td>12</td>\n",
              "      <td>2011</td>\n",
              "    </tr>\n",
              "    <tr>\n",
              "      <th>8157</th>\n",
              "      <td>1</td>\n",
              "      <td>93</td>\n",
              "      <td>15.0013</td>\n",
              "      <td>5.007903</td>\n",
              "      <td>322.834106</td>\n",
              "      <td>1.224647e-16</td>\n",
              "      <td>-1.000000e+00</td>\n",
              "      <td>0.538005</td>\n",
              "      <td>0.842942</td>\n",
              "      <td>2</td>\n",
              "      <td>2011</td>\n",
              "    </tr>\n",
              "    <tr>\n",
              "      <th>6711</th>\n",
              "      <td>1</td>\n",
              "      <td>94</td>\n",
              "      <td>8.9981</td>\n",
              "      <td>0.042181</td>\n",
              "      <td>1534.127441</td>\n",
              "      <td>2.588190e-01</td>\n",
              "      <td>9.659258e-01</td>\n",
              "      <td>0.717677</td>\n",
              "      <td>-0.696376</td>\n",
              "      <td>5</td>\n",
              "      <td>2011</td>\n",
              "    </tr>\n",
              "    <tr>\n",
              "      <th>4959</th>\n",
              "      <td>0</td>\n",
              "      <td>87</td>\n",
              "      <td>6.0032</td>\n",
              "      <td>55.283841</td>\n",
              "      <td>692.305706</td>\n",
              "      <td>5.000000e-01</td>\n",
              "      <td>8.660254e-01</td>\n",
              "      <td>-0.238673</td>\n",
              "      <td>0.971100</td>\n",
              "      <td>12</td>\n",
              "      <td>2012</td>\n",
              "    </tr>\n",
              "    <tr>\n",
              "      <th>7570</th>\n",
              "      <td>1</td>\n",
              "      <td>78</td>\n",
              "      <td>16.9979</td>\n",
              "      <td>15.187342</td>\n",
              "      <td>2039.233301</td>\n",
              "      <td>-9.659258e-01</td>\n",
              "      <td>-2.588190e-01</td>\n",
              "      <td>-0.984474</td>\n",
              "      <td>0.175531</td>\n",
              "      <td>10</td>\n",
              "      <td>2011</td>\n",
              "    </tr>\n",
              "    <tr>\n",
              "      <th>...</th>\n",
              "      <td>...</td>\n",
              "      <td>...</td>\n",
              "      <td>...</td>\n",
              "      <td>...</td>\n",
              "      <td>...</td>\n",
              "      <td>...</td>\n",
              "      <td>...</td>\n",
              "      <td>...</td>\n",
              "      <td>...</td>\n",
              "      <td>...</td>\n",
              "      <td>...</td>\n",
              "    </tr>\n",
              "    <tr>\n",
              "      <th>5237</th>\n",
              "      <td>0</td>\n",
              "      <td>47</td>\n",
              "      <td>32.9975</td>\n",
              "      <td>22.658549</td>\n",
              "      <td>1042.955341</td>\n",
              "      <td>8.660254e-01</td>\n",
              "      <td>-5.000000e-01</td>\n",
              "      <td>0.974100</td>\n",
              "      <td>0.226116</td>\n",
              "      <td>3</td>\n",
              "      <td>2011</td>\n",
              "    </tr>\n",
              "    <tr>\n",
              "      <th>5402</th>\n",
              "      <td>1</td>\n",
              "      <td>78</td>\n",
              "      <td>6.0032</td>\n",
              "      <td>3.704842</td>\n",
              "      <td>2250.034706</td>\n",
              "      <td>2.588190e-01</td>\n",
              "      <td>9.659258e-01</td>\n",
              "      <td>-0.559589</td>\n",
              "      <td>-0.828770</td>\n",
              "      <td>8</td>\n",
              "      <td>2011</td>\n",
              "    </tr>\n",
              "    <tr>\n",
              "      <th>860</th>\n",
              "      <td>1</td>\n",
              "      <td>100</td>\n",
              "      <td>6.0032</td>\n",
              "      <td>4.960762</td>\n",
              "      <td>1133.600181</td>\n",
              "      <td>5.000000e-01</td>\n",
              "      <td>-8.660254e-01</td>\n",
              "      <td>-0.401488</td>\n",
              "      <td>0.915864</td>\n",
              "      <td>12</td>\n",
              "      <td>2011</td>\n",
              "    </tr>\n",
              "    <tr>\n",
              "      <th>7616</th>\n",
              "      <td>0</td>\n",
              "      <td>66</td>\n",
              "      <td>15.0013</td>\n",
              "      <td>133.492463</td>\n",
              "      <td>3763.768101</td>\n",
              "      <td>-8.660254e-01</td>\n",
              "      <td>-5.000000e-01</td>\n",
              "      <td>-0.128748</td>\n",
              "      <td>-0.991677</td>\n",
              "      <td>7</td>\n",
              "      <td>2012</td>\n",
              "    </tr>\n",
              "    <tr>\n",
              "      <th>7283</th>\n",
              "      <td>1</td>\n",
              "      <td>88</td>\n",
              "      <td>8.9981</td>\n",
              "      <td>23.278940</td>\n",
              "      <td>1227.862546</td>\n",
              "      <td>1.000000e+00</td>\n",
              "      <td>6.123234e-17</td>\n",
              "      <td>0.977848</td>\n",
              "      <td>0.209315</td>\n",
              "      <td>3</td>\n",
              "      <td>2012</td>\n",
              "    </tr>\n",
              "  </tbody>\n",
              "</table>\n",
              "<p>6520 rows × 11 columns</p>\n",
              "</div>\n",
              "      <button class=\"colab-df-convert\" onclick=\"convertToInteractive('df-2b307998-51f1-4633-9b50-28322ee6634c')\"\n",
              "              title=\"Convert this dataframe to an interactive table.\"\n",
              "              style=\"display:none;\">\n",
              "        \n",
              "  <svg xmlns=\"http://www.w3.org/2000/svg\" height=\"24px\"viewBox=\"0 0 24 24\"\n",
              "       width=\"24px\">\n",
              "    <path d=\"M0 0h24v24H0V0z\" fill=\"none\"/>\n",
              "    <path d=\"M18.56 5.44l.94 2.06.94-2.06 2.06-.94-2.06-.94-.94-2.06-.94 2.06-2.06.94zm-11 1L8.5 8.5l.94-2.06 2.06-.94-2.06-.94L8.5 2.5l-.94 2.06-2.06.94zm10 10l.94 2.06.94-2.06 2.06-.94-2.06-.94-.94-2.06-.94 2.06-2.06.94z\"/><path d=\"M17.41 7.96l-1.37-1.37c-.4-.4-.92-.59-1.43-.59-.52 0-1.04.2-1.43.59L10.3 9.45l-7.72 7.72c-.78.78-.78 2.05 0 2.83L4 21.41c.39.39.9.59 1.41.59.51 0 1.02-.2 1.41-.59l7.78-7.78 2.81-2.81c.8-.78.8-2.07 0-2.86zM5.41 20L4 18.59l7.72-7.72 1.47 1.35L5.41 20z\"/>\n",
              "  </svg>\n",
              "      </button>\n",
              "      \n",
              "  <style>\n",
              "    .colab-df-container {\n",
              "      display:flex;\n",
              "      flex-wrap:wrap;\n",
              "      gap: 12px;\n",
              "    }\n",
              "\n",
              "    .colab-df-convert {\n",
              "      background-color: #E8F0FE;\n",
              "      border: none;\n",
              "      border-radius: 50%;\n",
              "      cursor: pointer;\n",
              "      display: none;\n",
              "      fill: #1967D2;\n",
              "      height: 32px;\n",
              "      padding: 0 0 0 0;\n",
              "      width: 32px;\n",
              "    }\n",
              "\n",
              "    .colab-df-convert:hover {\n",
              "      background-color: #E2EBFA;\n",
              "      box-shadow: 0px 1px 2px rgba(60, 64, 67, 0.3), 0px 1px 3px 1px rgba(60, 64, 67, 0.15);\n",
              "      fill: #174EA6;\n",
              "    }\n",
              "\n",
              "    [theme=dark] .colab-df-convert {\n",
              "      background-color: #3B4455;\n",
              "      fill: #D2E3FC;\n",
              "    }\n",
              "\n",
              "    [theme=dark] .colab-df-convert:hover {\n",
              "      background-color: #434B5C;\n",
              "      box-shadow: 0px 1px 3px 1px rgba(0, 0, 0, 0.15);\n",
              "      filter: drop-shadow(0px 1px 2px rgba(0, 0, 0, 0.3));\n",
              "      fill: #FFFFFF;\n",
              "    }\n",
              "  </style>\n",
              "\n",
              "      <script>\n",
              "        const buttonEl =\n",
              "          document.querySelector('#df-2b307998-51f1-4633-9b50-28322ee6634c button.colab-df-convert');\n",
              "        buttonEl.style.display =\n",
              "          google.colab.kernel.accessAllowed ? 'block' : 'none';\n",
              "\n",
              "        async function convertToInteractive(key) {\n",
              "          const element = document.querySelector('#df-2b307998-51f1-4633-9b50-28322ee6634c');\n",
              "          const dataTable =\n",
              "            await google.colab.kernel.invokeFunction('convertToInteractive',\n",
              "                                                     [key], {});\n",
              "          if (!dataTable) return;\n",
              "\n",
              "          const docLinkHtml = 'Like what you see? Visit the ' +\n",
              "            '<a target=\"_blank\" href=https://colab.research.google.com/notebooks/data_table.ipynb>data table notebook</a>'\n",
              "            + ' to learn more about interactive tables.';\n",
              "          element.innerHTML = '';\n",
              "          dataTable['output_type'] = 'display_data';\n",
              "          await google.colab.output.renderOutput(dataTable, element);\n",
              "          const docLink = document.createElement('div');\n",
              "          docLink.innerHTML = docLinkHtml;\n",
              "          element.appendChild(docLink);\n",
              "        }\n",
              "      </script>\n",
              "    </div>\n",
              "  </div>\n",
              "  "
            ]
          },
          "metadata": {},
          "execution_count": 44
        }
      ],
      "source": [
        "x_data_dict['Random forest'][0]"
      ]
    },
    {
      "cell_type": "code",
      "execution_count": 45,
      "metadata": {
        "colab": {
          "base_uri": "https://localhost:8080/",
          "height": 488
        },
        "id": "xPiPiIPZZiYN",
        "outputId": "44ed4880-4857-4854-8bdc-909a5e4ef940"
      },
      "outputs": [
        {
          "output_type": "execute_result",
          "data": {
            "text/plain": [
              "      workingday  humidity  windspeed   pollution           ef      hour_sin  \\\n",
              "6589           1        72    12.9980    0.688616  1326.189386  7.071068e-01   \n",
              "483            0        50     8.9981  126.058492  2341.851281 -9.659258e-01   \n",
              "7617           1        94     6.0032   82.859079   956.359826 -1.000000e+00   \n",
              "3945           0        87     7.0015    3.653549   413.205746  8.660254e-01   \n",
              "7082           1        49    12.9980  114.029687  1643.981081 -8.660254e-01   \n",
              "...          ...       ...        ...         ...          ...           ...   \n",
              "7268           0        87     8.9981   50.748979   413.205746 -9.659258e-01   \n",
              "5068           1        52     7.0015   66.124272   470.819786  1.224647e-16   \n",
              "2872           1        57    11.0014    6.568203  1701.538961  0.000000e+00   \n",
              "293            1        73    19.9995   78.861540  1757.414346 -9.659258e-01   \n",
              "5969           1        63    15.0013  334.698398  1428.118601 -1.000000e+00   \n",
              "\n",
              "          hour_cos   day_sin   day_cos  month  year  \n",
              "6589  7.071068e-01  0.956235  0.292600      3  2012  \n",
              "483  -2.588190e-01  0.970064  0.242850      3  2012  \n",
              "7617 -1.836970e-16 -0.221922  0.975065     12  2012  \n",
              "3945 -5.000000e-01  0.017213  0.999852      1  2012  \n",
              "7082  5.000000e-01  0.796183 -0.605056      5  2011  \n",
              "...            ...       ...       ...    ...   ...  \n",
              "7268  2.588190e-01  0.566702  0.823923      2  2012  \n",
              "5068 -1.000000e+00 -0.321270  0.946988     12  2011  \n",
              "2872  1.000000e+00 -0.729558 -0.683919      8  2012  \n",
              "293   2.588190e-01  0.409356 -0.912375      6  2012  \n",
              "5969 -1.836970e-16 -0.432776  0.901502     12  2012  \n",
              "\n",
              "[1630 rows x 11 columns]"
            ],
            "text/html": [
              "\n",
              "  <div id=\"df-c3225545-f1ae-4b5f-a3d2-e14116c5cb95\">\n",
              "    <div class=\"colab-df-container\">\n",
              "      <div>\n",
              "<style scoped>\n",
              "    .dataframe tbody tr th:only-of-type {\n",
              "        vertical-align: middle;\n",
              "    }\n",
              "\n",
              "    .dataframe tbody tr th {\n",
              "        vertical-align: top;\n",
              "    }\n",
              "\n",
              "    .dataframe thead th {\n",
              "        text-align: right;\n",
              "    }\n",
              "</style>\n",
              "<table border=\"1\" class=\"dataframe\">\n",
              "  <thead>\n",
              "    <tr style=\"text-align: right;\">\n",
              "      <th></th>\n",
              "      <th>workingday</th>\n",
              "      <th>humidity</th>\n",
              "      <th>windspeed</th>\n",
              "      <th>pollution</th>\n",
              "      <th>ef</th>\n",
              "      <th>hour_sin</th>\n",
              "      <th>hour_cos</th>\n",
              "      <th>day_sin</th>\n",
              "      <th>day_cos</th>\n",
              "      <th>month</th>\n",
              "      <th>year</th>\n",
              "    </tr>\n",
              "  </thead>\n",
              "  <tbody>\n",
              "    <tr>\n",
              "      <th>6589</th>\n",
              "      <td>1</td>\n",
              "      <td>72</td>\n",
              "      <td>12.9980</td>\n",
              "      <td>0.688616</td>\n",
              "      <td>1326.189386</td>\n",
              "      <td>7.071068e-01</td>\n",
              "      <td>7.071068e-01</td>\n",
              "      <td>0.956235</td>\n",
              "      <td>0.292600</td>\n",
              "      <td>3</td>\n",
              "      <td>2012</td>\n",
              "    </tr>\n",
              "    <tr>\n",
              "      <th>483</th>\n",
              "      <td>0</td>\n",
              "      <td>50</td>\n",
              "      <td>8.9981</td>\n",
              "      <td>126.058492</td>\n",
              "      <td>2341.851281</td>\n",
              "      <td>-9.659258e-01</td>\n",
              "      <td>-2.588190e-01</td>\n",
              "      <td>0.970064</td>\n",
              "      <td>0.242850</td>\n",
              "      <td>3</td>\n",
              "      <td>2012</td>\n",
              "    </tr>\n",
              "    <tr>\n",
              "      <th>7617</th>\n",
              "      <td>1</td>\n",
              "      <td>94</td>\n",
              "      <td>6.0032</td>\n",
              "      <td>82.859079</td>\n",
              "      <td>956.359826</td>\n",
              "      <td>-1.000000e+00</td>\n",
              "      <td>-1.836970e-16</td>\n",
              "      <td>-0.221922</td>\n",
              "      <td>0.975065</td>\n",
              "      <td>12</td>\n",
              "      <td>2012</td>\n",
              "    </tr>\n",
              "    <tr>\n",
              "      <th>3945</th>\n",
              "      <td>0</td>\n",
              "      <td>87</td>\n",
              "      <td>7.0015</td>\n",
              "      <td>3.653549</td>\n",
              "      <td>413.205746</td>\n",
              "      <td>8.660254e-01</td>\n",
              "      <td>-5.000000e-01</td>\n",
              "      <td>0.017213</td>\n",
              "      <td>0.999852</td>\n",
              "      <td>1</td>\n",
              "      <td>2012</td>\n",
              "    </tr>\n",
              "    <tr>\n",
              "      <th>7082</th>\n",
              "      <td>1</td>\n",
              "      <td>49</td>\n",
              "      <td>12.9980</td>\n",
              "      <td>114.029687</td>\n",
              "      <td>1643.981081</td>\n",
              "      <td>-8.660254e-01</td>\n",
              "      <td>5.000000e-01</td>\n",
              "      <td>0.796183</td>\n",
              "      <td>-0.605056</td>\n",
              "      <td>5</td>\n",
              "      <td>2011</td>\n",
              "    </tr>\n",
              "    <tr>\n",
              "      <th>...</th>\n",
              "      <td>...</td>\n",
              "      <td>...</td>\n",
              "      <td>...</td>\n",
              "      <td>...</td>\n",
              "      <td>...</td>\n",
              "      <td>...</td>\n",
              "      <td>...</td>\n",
              "      <td>...</td>\n",
              "      <td>...</td>\n",
              "      <td>...</td>\n",
              "      <td>...</td>\n",
              "    </tr>\n",
              "    <tr>\n",
              "      <th>7268</th>\n",
              "      <td>0</td>\n",
              "      <td>87</td>\n",
              "      <td>8.9981</td>\n",
              "      <td>50.748979</td>\n",
              "      <td>413.205746</td>\n",
              "      <td>-9.659258e-01</td>\n",
              "      <td>2.588190e-01</td>\n",
              "      <td>0.566702</td>\n",
              "      <td>0.823923</td>\n",
              "      <td>2</td>\n",
              "      <td>2012</td>\n",
              "    </tr>\n",
              "    <tr>\n",
              "      <th>5068</th>\n",
              "      <td>1</td>\n",
              "      <td>52</td>\n",
              "      <td>7.0015</td>\n",
              "      <td>66.124272</td>\n",
              "      <td>470.819786</td>\n",
              "      <td>1.224647e-16</td>\n",
              "      <td>-1.000000e+00</td>\n",
              "      <td>-0.321270</td>\n",
              "      <td>0.946988</td>\n",
              "      <td>12</td>\n",
              "      <td>2011</td>\n",
              "    </tr>\n",
              "    <tr>\n",
              "      <th>2872</th>\n",
              "      <td>1</td>\n",
              "      <td>57</td>\n",
              "      <td>11.0014</td>\n",
              "      <td>6.568203</td>\n",
              "      <td>1701.538961</td>\n",
              "      <td>0.000000e+00</td>\n",
              "      <td>1.000000e+00</td>\n",
              "      <td>-0.729558</td>\n",
              "      <td>-0.683919</td>\n",
              "      <td>8</td>\n",
              "      <td>2012</td>\n",
              "    </tr>\n",
              "    <tr>\n",
              "      <th>293</th>\n",
              "      <td>1</td>\n",
              "      <td>73</td>\n",
              "      <td>19.9995</td>\n",
              "      <td>78.861540</td>\n",
              "      <td>1757.414346</td>\n",
              "      <td>-9.659258e-01</td>\n",
              "      <td>2.588190e-01</td>\n",
              "      <td>0.409356</td>\n",
              "      <td>-0.912375</td>\n",
              "      <td>6</td>\n",
              "      <td>2012</td>\n",
              "    </tr>\n",
              "    <tr>\n",
              "      <th>5969</th>\n",
              "      <td>1</td>\n",
              "      <td>63</td>\n",
              "      <td>15.0013</td>\n",
              "      <td>334.698398</td>\n",
              "      <td>1428.118601</td>\n",
              "      <td>-1.000000e+00</td>\n",
              "      <td>-1.836970e-16</td>\n",
              "      <td>-0.432776</td>\n",
              "      <td>0.901502</td>\n",
              "      <td>12</td>\n",
              "      <td>2012</td>\n",
              "    </tr>\n",
              "  </tbody>\n",
              "</table>\n",
              "<p>1630 rows × 11 columns</p>\n",
              "</div>\n",
              "      <button class=\"colab-df-convert\" onclick=\"convertToInteractive('df-c3225545-f1ae-4b5f-a3d2-e14116c5cb95')\"\n",
              "              title=\"Convert this dataframe to an interactive table.\"\n",
              "              style=\"display:none;\">\n",
              "        \n",
              "  <svg xmlns=\"http://www.w3.org/2000/svg\" height=\"24px\"viewBox=\"0 0 24 24\"\n",
              "       width=\"24px\">\n",
              "    <path d=\"M0 0h24v24H0V0z\" fill=\"none\"/>\n",
              "    <path d=\"M18.56 5.44l.94 2.06.94-2.06 2.06-.94-2.06-.94-.94-2.06-.94 2.06-2.06.94zm-11 1L8.5 8.5l.94-2.06 2.06-.94-2.06-.94L8.5 2.5l-.94 2.06-2.06.94zm10 10l.94 2.06.94-2.06 2.06-.94-2.06-.94-.94-2.06-.94 2.06-2.06.94z\"/><path d=\"M17.41 7.96l-1.37-1.37c-.4-.4-.92-.59-1.43-.59-.52 0-1.04.2-1.43.59L10.3 9.45l-7.72 7.72c-.78.78-.78 2.05 0 2.83L4 21.41c.39.39.9.59 1.41.59.51 0 1.02-.2 1.41-.59l7.78-7.78 2.81-2.81c.8-.78.8-2.07 0-2.86zM5.41 20L4 18.59l7.72-7.72 1.47 1.35L5.41 20z\"/>\n",
              "  </svg>\n",
              "      </button>\n",
              "      \n",
              "  <style>\n",
              "    .colab-df-container {\n",
              "      display:flex;\n",
              "      flex-wrap:wrap;\n",
              "      gap: 12px;\n",
              "    }\n",
              "\n",
              "    .colab-df-convert {\n",
              "      background-color: #E8F0FE;\n",
              "      border: none;\n",
              "      border-radius: 50%;\n",
              "      cursor: pointer;\n",
              "      display: none;\n",
              "      fill: #1967D2;\n",
              "      height: 32px;\n",
              "      padding: 0 0 0 0;\n",
              "      width: 32px;\n",
              "    }\n",
              "\n",
              "    .colab-df-convert:hover {\n",
              "      background-color: #E2EBFA;\n",
              "      box-shadow: 0px 1px 2px rgba(60, 64, 67, 0.3), 0px 1px 3px 1px rgba(60, 64, 67, 0.15);\n",
              "      fill: #174EA6;\n",
              "    }\n",
              "\n",
              "    [theme=dark] .colab-df-convert {\n",
              "      background-color: #3B4455;\n",
              "      fill: #D2E3FC;\n",
              "    }\n",
              "\n",
              "    [theme=dark] .colab-df-convert:hover {\n",
              "      background-color: #434B5C;\n",
              "      box-shadow: 0px 1px 3px 1px rgba(0, 0, 0, 0.15);\n",
              "      filter: drop-shadow(0px 1px 2px rgba(0, 0, 0, 0.3));\n",
              "      fill: #FFFFFF;\n",
              "    }\n",
              "  </style>\n",
              "\n",
              "      <script>\n",
              "        const buttonEl =\n",
              "          document.querySelector('#df-c3225545-f1ae-4b5f-a3d2-e14116c5cb95 button.colab-df-convert');\n",
              "        buttonEl.style.display =\n",
              "          google.colab.kernel.accessAllowed ? 'block' : 'none';\n",
              "\n",
              "        async function convertToInteractive(key) {\n",
              "          const element = document.querySelector('#df-c3225545-f1ae-4b5f-a3d2-e14116c5cb95');\n",
              "          const dataTable =\n",
              "            await google.colab.kernel.invokeFunction('convertToInteractive',\n",
              "                                                     [key], {});\n",
              "          if (!dataTable) return;\n",
              "\n",
              "          const docLinkHtml = 'Like what you see? Visit the ' +\n",
              "            '<a target=\"_blank\" href=https://colab.research.google.com/notebooks/data_table.ipynb>data table notebook</a>'\n",
              "            + ' to learn more about interactive tables.';\n",
              "          element.innerHTML = '';\n",
              "          dataTable['output_type'] = 'display_data';\n",
              "          await google.colab.output.renderOutput(dataTable, element);\n",
              "          const docLink = document.createElement('div');\n",
              "          docLink.innerHTML = docLinkHtml;\n",
              "          element.appendChild(docLink);\n",
              "        }\n",
              "      </script>\n",
              "    </div>\n",
              "  </div>\n",
              "  "
            ]
          },
          "metadata": {},
          "execution_count": 45
        }
      ],
      "source": [
        "x_data_dict['Random forest'][1]"
      ]
    },
    {
      "cell_type": "markdown",
      "metadata": {
        "id": "yrwj3UGlXyQS"
      },
      "source": [
        "Let's modify run_all_models to allow us to run on different datasets:"
      ]
    },
    {
      "cell_type": "code",
      "execution_count": 46,
      "metadata": {
        "id": "4gl3w0OiYrtd"
      },
      "outputs": [],
      "source": [
        "def run_all_models2(x_dict, y):\n",
        "  models_dict = {}\n",
        "  models_dict['Random forest'] = run_random_forest(x_dict['Random forest'][0], y)\n",
        "  models_dict['ADA Boost'] = run_ada_boost(x_dict['ADA Boost'][0], y)\n",
        "  models_dict['Linear regression'] = run_linear_regression(x_dict['Linear regression'][0], y)\n",
        "  return models_dict"
      ]
    },
    {
      "cell_type": "markdown",
      "metadata": {
        "id": "rYFvv_kVZrUW"
      },
      "source": [
        "And run:"
      ]
    },
    {
      "cell_type": "code",
      "source": [
        "models2 = {'Linear regression': None,\n",
        "          'Random forest': None,\n",
        "          'ADA Boost': None}"
      ],
      "metadata": {
        "id": "pDyL89ipurT-"
      },
      "execution_count": 47,
      "outputs": []
    },
    {
      "cell_type": "code",
      "execution_count": 48,
      "metadata": {
        "colab": {
          "base_uri": "https://localhost:8080/"
        },
        "id": "ba027FzGX5W7",
        "outputId": "34545e66-e2eb-41e6-af6c-093faf45e421"
      },
      "outputs": [
        {
          "output_type": "stream",
          "name": "stdout",
          "text": [
            "Fitting 3 folds for each of 4 candidates, totalling 12 fits\n",
            "[CV 1/3] END .............max_features=auto;, score=-3792.235 total time=   3.5s\n",
            "[CV 2/3] END .............max_features=auto;, score=-3299.383 total time=   3.5s\n",
            "[CV 3/3] END .............max_features=auto;, score=-4078.329 total time=   3.6s\n",
            "[CV 1/3] END .............max_features=sqrt;, score=-4390.776 total time=   1.4s\n",
            "[CV 2/3] END .............max_features=sqrt;, score=-3549.276 total time=   1.4s\n",
            "[CV 3/3] END .............max_features=sqrt;, score=-4394.814 total time=   1.4s\n",
            "[CV 1/3] END .............max_features=log2;, score=-4390.776 total time=   1.4s\n",
            "[CV 2/3] END .............max_features=log2;, score=-3549.276 total time=   1.4s\n",
            "[CV 3/3] END .............max_features=log2;, score=-4394.814 total time=   1.4s\n",
            "[CV 1/3] END max_features=0.3333333333333333;, score=-4390.776 total time=   1.4s\n",
            "[CV 2/3] END max_features=0.3333333333333333;, score=-3549.276 total time=   1.9s\n",
            "[CV 3/3] END max_features=0.3333333333333333;, score=-4394.814 total time=   2.2s\n",
            "Fitting 3 folds for each of 3 candidates, totalling 9 fits\n",
            "[CV 1/3] END ..................loss=linear;, score=-10895.805 total time=   1.0s\n",
            "[CV 2/3] END ...................loss=linear;, score=-9720.543 total time=   1.0s\n",
            "[CV 3/3] END ..................loss=linear;, score=-10404.257 total time=   0.9s\n",
            "[CV 1/3] END ...................loss=square;, score=-9383.874 total time=   0.9s\n",
            "[CV 2/3] END ...................loss=square;, score=-8225.257 total time=   0.9s\n",
            "[CV 3/3] END ...................loss=square;, score=-8944.668 total time=   0.9s\n",
            "[CV 1/3] END .............loss=exponential;, score=-11935.390 total time=   1.0s\n",
            "[CV 2/3] END .............loss=exponential;, score=-11432.800 total time=   1.0s\n",
            "[CV 3/3] END .............loss=exponential;, score=-12545.254 total time=   1.0s\n"
          ]
        },
        {
          "output_type": "execute_result",
          "data": {
            "text/plain": [
              "{'Random forest': GridSearchCV(cv=3,\n",
              "              estimator=RandomForestRegressor(n_estimators=200, random_state=42),\n",
              "              param_grid={'max_features': ['auto', 'sqrt', 'log2',\n",
              "                                           0.3333333333333333]},\n",
              "              scoring='neg_mean_squared_error', verbose=3),\n",
              " 'ADA Boost': GridSearchCV(cv=3,\n",
              "              estimator=AdaBoostRegressor(n_estimators=200, random_state=42),\n",
              "              param_grid={'loss': ['linear', 'square', 'exponential']},\n",
              "              scoring='neg_mean_squared_error', verbose=3),\n",
              " 'Linear regression': (LinearRegression(),\n",
              "  array([-13222.9514162 , -11681.89946163, -13067.72763271]))}"
            ]
          },
          "metadata": {},
          "execution_count": 48
        }
      ],
      "source": [
        "models2 = run_all_models2(x_data_dict, Y_train.values.ravel())\n",
        "models2"
      ]
    },
    {
      "cell_type": "code",
      "execution_count": 49,
      "metadata": {
        "colab": {
          "base_uri": "https://localhost:8080/"
        },
        "id": "xBEgyqfuX5W7",
        "outputId": "0c71c5bb-1877-45ab-c3fc-34e2c79545fb"
      },
      "outputs": [
        {
          "output_type": "execute_result",
          "data": {
            "text/plain": [
              "{'Random forest': 61.018979333870966,\n",
              " 'ADA Boost': 94.08116887853703,\n",
              " 'Linear regression': 112.50567172449892}"
            ]
          },
          "metadata": {},
          "execution_count": 49
        }
      ],
      "source": [
        "cv_scores = {}\n",
        "cv_scores['Random forest'] = np.sqrt(-models2['Random forest'].best_score_)\n",
        "cv_scores['ADA Boost'] = np.sqrt(-models2['ADA Boost'].best_score_)\n",
        "cv_scores['Linear regression'] = np.sqrt(-models2['Linear regression'][1].mean())\n",
        "cv_scores"
      ]
    },
    {
      "cell_type": "code",
      "execution_count": 50,
      "metadata": {
        "colab": {
          "base_uri": "https://localhost:8080/"
        },
        "id": "qHGakMIbX5W7",
        "outputId": "f02e1812-4652-4b6a-e24c-80e41ef52474"
      },
      "outputs": [
        {
          "output_type": "execute_result",
          "data": {
            "text/plain": [
              "{'Random forest': RandomForestRegressor(n_estimators=200, random_state=42),\n",
              " 'ADA Boost': AdaBoostRegressor(loss='square', n_estimators=200, random_state=42),\n",
              " 'Linear regression': LinearRegression()}"
            ]
          },
          "metadata": {},
          "execution_count": 50
        }
      ],
      "source": [
        "trained_models_dict2 = {}\n",
        "trained_models_dict2['Random forest'] = models2['Random forest'].best_estimator_\n",
        "trained_models_dict2['ADA Boost'] = models2['ADA Boost'].best_estimator_\n",
        "trained_models_dict2['Linear regression'] = models2['Linear regression'][0]\n",
        "trained_models_dict2"
      ]
    },
    {
      "cell_type": "markdown",
      "metadata": {
        "id": "VV-5k91VZwHc"
      },
      "source": [
        "We'll need to modify evaluate_all_models as well:"
      ]
    },
    {
      "cell_type": "code",
      "execution_count": 51,
      "metadata": {
        "id": "XsqLnYz-Z3a8"
      },
      "outputs": [],
      "source": [
        "def evaluate_all_models2(x_dict, y, models_dict):\n",
        "  test_set_scores = {}\n",
        "  for k, v in models_dict.items():\n",
        "    test_set_scores[k] = evaluate_single_model(x_dict[k][1], y, v)\n",
        "  return test_set_scores"
      ]
    },
    {
      "cell_type": "code",
      "execution_count": 52,
      "metadata": {
        "colab": {
          "base_uri": "https://localhost:8080/"
        },
        "id": "UZAPXsEZX5W7",
        "outputId": "5724ad89-bff0-4b73-bff3-c2853ffd3633"
      },
      "outputs": [
        {
          "output_type": "execute_result",
          "data": {
            "text/plain": [
              "{'Random forest': 55.84973450445214,\n",
              " 'ADA Boost': 93.81342398025201,\n",
              " 'Linear regression': 110.45338001430308}"
            ]
          },
          "metadata": {},
          "execution_count": 52
        }
      ],
      "source": [
        "test_set_scores = evaluate_all_models2(x_data_dict, Y_test, trained_models_dict2)\n",
        "test_set_scores"
      ]
    },
    {
      "cell_type": "code",
      "execution_count": 53,
      "metadata": {
        "colab": {
          "base_uri": "https://localhost:8080/"
        },
        "id": "6wnbFEtxX5W7",
        "outputId": "49055d67-ab20-45f1-e1a4-064466f35e8d"
      },
      "outputs": [
        {
          "output_type": "execute_result",
          "data": {
            "text/plain": [
              "{'Random forest': [61.018979333870966, 55.84973450445214],\n",
              " 'ADA Boost': [94.08116887853703, 93.81342398025201],\n",
              " 'Linear regression': [112.50567172449892, 110.45338001430308]}"
            ]
          },
          "metadata": {},
          "execution_count": 53
        }
      ],
      "source": [
        "combined_dict = {k: [np.abs(v), test_set_scores[k]] for k, v in cv_scores.items()}\n",
        "combined_dict"
      ]
    },
    {
      "cell_type": "markdown",
      "metadata": {
        "id": "I76-a460el3v"
      },
      "source": [
        "Let's look at the new:"
      ]
    },
    {
      "cell_type": "code",
      "execution_count": 54,
      "metadata": {
        "colab": {
          "base_uri": "https://localhost:8080/",
          "height": 143
        },
        "id": "r10SFNM4cPXn",
        "outputId": "360a1e89-572e-4915-892a-9877a9e7a070"
      },
      "outputs": [
        {
          "output_type": "execute_result",
          "data": {
            "text/plain": [
              "                   CV score removed features  Test set score removed features\n",
              "Random forest                      61.018979                        55.849735\n",
              "ADA Boost                          94.081169                        93.813424\n",
              "Linear regression                 112.505672                       110.453380"
            ],
            "text/html": [
              "\n",
              "  <div id=\"df-15e8565e-a9ee-4312-9818-171d089ec818\">\n",
              "    <div class=\"colab-df-container\">\n",
              "      <div>\n",
              "<style scoped>\n",
              "    .dataframe tbody tr th:only-of-type {\n",
              "        vertical-align: middle;\n",
              "    }\n",
              "\n",
              "    .dataframe tbody tr th {\n",
              "        vertical-align: top;\n",
              "    }\n",
              "\n",
              "    .dataframe thead th {\n",
              "        text-align: right;\n",
              "    }\n",
              "</style>\n",
              "<table border=\"1\" class=\"dataframe\">\n",
              "  <thead>\n",
              "    <tr style=\"text-align: right;\">\n",
              "      <th></th>\n",
              "      <th>CV score removed features</th>\n",
              "      <th>Test set score removed features</th>\n",
              "    </tr>\n",
              "  </thead>\n",
              "  <tbody>\n",
              "    <tr>\n",
              "      <th>Random forest</th>\n",
              "      <td>61.018979</td>\n",
              "      <td>55.849735</td>\n",
              "    </tr>\n",
              "    <tr>\n",
              "      <th>ADA Boost</th>\n",
              "      <td>94.081169</td>\n",
              "      <td>93.813424</td>\n",
              "    </tr>\n",
              "    <tr>\n",
              "      <th>Linear regression</th>\n",
              "      <td>112.505672</td>\n",
              "      <td>110.453380</td>\n",
              "    </tr>\n",
              "  </tbody>\n",
              "</table>\n",
              "</div>\n",
              "      <button class=\"colab-df-convert\" onclick=\"convertToInteractive('df-15e8565e-a9ee-4312-9818-171d089ec818')\"\n",
              "              title=\"Convert this dataframe to an interactive table.\"\n",
              "              style=\"display:none;\">\n",
              "        \n",
              "  <svg xmlns=\"http://www.w3.org/2000/svg\" height=\"24px\"viewBox=\"0 0 24 24\"\n",
              "       width=\"24px\">\n",
              "    <path d=\"M0 0h24v24H0V0z\" fill=\"none\"/>\n",
              "    <path d=\"M18.56 5.44l.94 2.06.94-2.06 2.06-.94-2.06-.94-.94-2.06-.94 2.06-2.06.94zm-11 1L8.5 8.5l.94-2.06 2.06-.94-2.06-.94L8.5 2.5l-.94 2.06-2.06.94zm10 10l.94 2.06.94-2.06 2.06-.94-2.06-.94-.94-2.06-.94 2.06-2.06.94z\"/><path d=\"M17.41 7.96l-1.37-1.37c-.4-.4-.92-.59-1.43-.59-.52 0-1.04.2-1.43.59L10.3 9.45l-7.72 7.72c-.78.78-.78 2.05 0 2.83L4 21.41c.39.39.9.59 1.41.59.51 0 1.02-.2 1.41-.59l7.78-7.78 2.81-2.81c.8-.78.8-2.07 0-2.86zM5.41 20L4 18.59l7.72-7.72 1.47 1.35L5.41 20z\"/>\n",
              "  </svg>\n",
              "      </button>\n",
              "      \n",
              "  <style>\n",
              "    .colab-df-container {\n",
              "      display:flex;\n",
              "      flex-wrap:wrap;\n",
              "      gap: 12px;\n",
              "    }\n",
              "\n",
              "    .colab-df-convert {\n",
              "      background-color: #E8F0FE;\n",
              "      border: none;\n",
              "      border-radius: 50%;\n",
              "      cursor: pointer;\n",
              "      display: none;\n",
              "      fill: #1967D2;\n",
              "      height: 32px;\n",
              "      padding: 0 0 0 0;\n",
              "      width: 32px;\n",
              "    }\n",
              "\n",
              "    .colab-df-convert:hover {\n",
              "      background-color: #E2EBFA;\n",
              "      box-shadow: 0px 1px 2px rgba(60, 64, 67, 0.3), 0px 1px 3px 1px rgba(60, 64, 67, 0.15);\n",
              "      fill: #174EA6;\n",
              "    }\n",
              "\n",
              "    [theme=dark] .colab-df-convert {\n",
              "      background-color: #3B4455;\n",
              "      fill: #D2E3FC;\n",
              "    }\n",
              "\n",
              "    [theme=dark] .colab-df-convert:hover {\n",
              "      background-color: #434B5C;\n",
              "      box-shadow: 0px 1px 3px 1px rgba(0, 0, 0, 0.15);\n",
              "      filter: drop-shadow(0px 1px 2px rgba(0, 0, 0, 0.3));\n",
              "      fill: #FFFFFF;\n",
              "    }\n",
              "  </style>\n",
              "\n",
              "      <script>\n",
              "        const buttonEl =\n",
              "          document.querySelector('#df-15e8565e-a9ee-4312-9818-171d089ec818 button.colab-df-convert');\n",
              "        buttonEl.style.display =\n",
              "          google.colab.kernel.accessAllowed ? 'block' : 'none';\n",
              "\n",
              "        async function convertToInteractive(key) {\n",
              "          const element = document.querySelector('#df-15e8565e-a9ee-4312-9818-171d089ec818');\n",
              "          const dataTable =\n",
              "            await google.colab.kernel.invokeFunction('convertToInteractive',\n",
              "                                                     [key], {});\n",
              "          if (!dataTable) return;\n",
              "\n",
              "          const docLinkHtml = 'Like what you see? Visit the ' +\n",
              "            '<a target=\"_blank\" href=https://colab.research.google.com/notebooks/data_table.ipynb>data table notebook</a>'\n",
              "            + ' to learn more about interactive tables.';\n",
              "          element.innerHTML = '';\n",
              "          dataTable['output_type'] = 'display_data';\n",
              "          await google.colab.output.renderOutput(dataTable, element);\n",
              "          const docLink = document.createElement('div');\n",
              "          docLink.innerHTML = docLinkHtml;\n",
              "          element.appendChild(docLink);\n",
              "        }\n",
              "      </script>\n",
              "    </div>\n",
              "  </div>\n",
              "  "
            ]
          },
          "metadata": {},
          "execution_count": 54
        }
      ],
      "source": [
        "new_scores_df = pd.DataFrame.from_dict(combined_dict, orient='index', columns=['CV score removed features', 'Test set score removed features'])\n",
        "new_scores_df"
      ]
    },
    {
      "cell_type": "markdown",
      "source": [
        "# Conclusions\n",
        "As we can see above the result with all the features are better, hence we will stay with the score from before that is: \n",
        "                    Train.      Test.\n",
        "1. Linear regression\t112.563033\t110.483143\n",
        "2. **Random forest\t60.979033\t53.586392**\n",
        "3. ADA Boost\t96.340190\t95.309536"
      ],
      "metadata": {
        "id": "e0rpzxFFHOIv"
      }
    },
    {
      "cell_type": "code",
      "source": [
        "trained_models_dict"
      ],
      "metadata": {
        "colab": {
          "base_uri": "https://localhost:8080/"
        },
        "id": "k42CK3hoH-8B",
        "outputId": "4115baf3-f486-443f-a9eb-d64aae7405dc"
      },
      "execution_count": 55,
      "outputs": [
        {
          "output_type": "execute_result",
          "data": {
            "text/plain": [
              "{'Linear regression': LinearRegression(),\n",
              " 'Random forest': RandomForestRegressor(n_estimators=200, random_state=42),\n",
              " 'ADA Boost': AdaBoostRegressor(loss='square', n_estimators=200, random_state=42)}"
            ]
          },
          "metadata": {},
          "execution_count": 55
        }
      ]
    },
    {
      "cell_type": "markdown",
      "source": [
        "# Evaluate data test"
      ],
      "metadata": {
        "id": "Ig2FE-Ogl7ep"
      }
    },
    {
      "cell_type": "code",
      "source": [
        "df_test = pd.read_csv('https://github.com/odedovadia/AdvancedMLDLCourse/blob/main/Assignments/Assignment%20I/test.csv?raw=true')"
      ],
      "metadata": {
        "id": "ANzCKUqImHbQ"
      },
      "execution_count": 56,
      "outputs": []
    },
    {
      "cell_type": "code",
      "source": [
        "df_test['ef'] = df_test['temp']**2 + df_test['atemp']**2 + df_test['sunlight']**2\n",
        "df_test = df_test.drop(['atemp'], axis=1)\n",
        "df_test = df_test.drop(['sunlight'], axis=1)\n",
        "df_test = df_test.drop(['temp'], axis=1)"
      ],
      "metadata": {
        "id": "4vT65i2pmR3F"
      },
      "execution_count": 57,
      "outputs": []
    },
    {
      "cell_type": "code",
      "source": [
        "for dt in date_types:\n",
        "    df_test[dt] = df_test['datetime'].apply(lambda x : discretize_date(x, dt))\n",
        "df_test.drop(['datetime'],axis=1,inplace=True)"
      ],
      "metadata": {
        "id": "q2F-uRPwnTjg"
      },
      "execution_count": 58,
      "outputs": []
    },
    {
      "cell_type": "code",
      "source": [
        "Y = df_test['count']\n",
        "X = df_test.drop(['count'], axis=1)"
      ],
      "metadata": {
        "id": "f2oqH_0snZ4c"
      },
      "execution_count": 59,
      "outputs": []
    },
    {
      "cell_type": "code",
      "source": [
        "test_set_scores = evaluate_all_models(X, Y, trained_models_dict)\n",
        "test_set_scores"
      ],
      "metadata": {
        "colab": {
          "base_uri": "https://localhost:8080/"
        },
        "id": "wMOICSydoLnD",
        "outputId": "59043974-bc28-421c-82db-5fa293029a63"
      },
      "execution_count": 60,
      "outputs": [
        {
          "output_type": "execute_result",
          "data": {
            "text/plain": [
              "{'Linear regression': 109.3622250072792,\n",
              " 'Random forest': 50.78858711967468,\n",
              " 'ADA Boost': 95.60797591435187}"
            ]
          },
          "metadata": {},
          "execution_count": 60
        }
      ]
    },
    {
      "cell_type": "markdown",
      "source": [
        "Let's retrieve the information from our data for the CSV file"
      ],
      "metadata": {
        "id": "t_CyO7kDITGL"
      }
    },
    {
      "cell_type": "code",
      "source": [
        "#Best params\n",
        "print(models['Random forest'].best_params_)\n",
        "print(models['ADA Boost'].best_params_)\n",
        "\n"
      ],
      "metadata": {
        "id": "6mYanyct3xgR",
        "colab": {
          "base_uri": "https://localhost:8080/"
        },
        "outputId": "965d9d64-1733-45b4-cba7-a8334a2ee70f"
      },
      "execution_count": 61,
      "outputs": [
        {
          "output_type": "stream",
          "name": "stdout",
          "text": [
            "{'max_features': 'auto'}\n",
            "{'loss': 'square'}\n"
          ]
        }
      ]
    },
    {
      "cell_type": "code",
      "source": [
        "model_list = test_set_scores.keys()\n",
        "Score_list = test_set_scores.values()"
      ],
      "metadata": {
        "id": "K3PCZjik3Fj8"
      },
      "execution_count": 62,
      "outputs": []
    },
    {
      "cell_type": "code",
      "source": [
        "X"
      ],
      "metadata": {
        "colab": {
          "base_uri": "https://localhost:8080/",
          "height": 488
        },
        "id": "5UR25CqEJyOo",
        "outputId": "6e2eca9a-b34b-4647-f8c5-e3b74c1c1af4"
      },
      "execution_count": 63,
      "outputs": [
        {
          "output_type": "execute_result",
          "data": {
            "text/plain": [
              "      season  holiday  workingday  weather  humidity  windspeed   pollution  \\\n",
              "0          3        0           1        1        59     0.0000   10.317020   \n",
              "1          1        1           0        1        54     6.0032    3.502209   \n",
              "2          4        0           0        1        48    12.9980   25.945915   \n",
              "3          3        0           1        2        62    12.9980  116.935908   \n",
              "4          2        0           1        1        53    16.9979  120.824789   \n",
              "...      ...      ...         ...      ...       ...        ...         ...   \n",
              "2717       1        0           0        1        29    27.9993   44.665581   \n",
              "2718       1        0           0        1        37    19.9995   31.090380   \n",
              "2719       3        0           1        1        74     8.9981    1.075298   \n",
              "2720       3        0           0        1        65    11.0014    2.291586   \n",
              "2721       1        0           0        1        77    19.0012    8.940201   \n",
              "\n",
              "       traffic           ef      hour_sin      hour_cos   day_sin   day_cos  \\\n",
              "0     0.015615  3872.698541  2.588190e-01 -9.659258e-01 -0.296713 -0.954967   \n",
              "1     0.004489    80.140601  1.000000e+00  6.123234e-17  0.271958  0.962309   \n",
              "2     0.000000   322.834106 -1.000000e+00 -1.836970e-16 -0.337523  0.941317   \n",
              "3     0.004489  2905.047941  5.000000e-01 -8.660254e-01 -0.705584 -0.708627   \n",
              "4     0.015615  2257.127241 -2.588190e-01  9.659258e-01  0.263665 -0.964614   \n",
              "...        ...          ...           ...           ...       ...       ...   \n",
              "2717  0.000242  1428.118601 -7.071068e-01 -7.071068e-01  0.974100  0.226116   \n",
              "2718  0.000000   956.359826 -8.660254e-01 -5.000000e-01  0.137279  0.990532   \n",
              "2719  0.015615  2429.264921  9.659258e-01  2.588190e-01 -0.162807 -0.986658   \n",
              "2720  0.004489  2429.264921  8.660254e-01 -5.000000e-01 -0.247022 -0.969010   \n",
              "2721  0.015615  1042.955341  1.224647e-16 -1.000000e+00  0.017213  0.999852   \n",
              "\n",
              "      day  month  year  \n",
              "0      19      7  2011  \n",
              "1      16      1  2012  \n",
              "2      11     12  2011  \n",
              "3      15      8  2012  \n",
              "4      15      6  2012  \n",
              "...   ...    ...   ...  \n",
              "2717   19      3  2011  \n",
              "2718    8      1  2012  \n",
              "2719   11      7  2011  \n",
              "2720   16      7  2011  \n",
              "2721    1      1  2011  \n",
              "\n",
              "[2722 rows x 16 columns]"
            ],
            "text/html": [
              "\n",
              "  <div id=\"df-96d983cf-f3b2-488b-af5e-bd6bdf2c3295\">\n",
              "    <div class=\"colab-df-container\">\n",
              "      <div>\n",
              "<style scoped>\n",
              "    .dataframe tbody tr th:only-of-type {\n",
              "        vertical-align: middle;\n",
              "    }\n",
              "\n",
              "    .dataframe tbody tr th {\n",
              "        vertical-align: top;\n",
              "    }\n",
              "\n",
              "    .dataframe thead th {\n",
              "        text-align: right;\n",
              "    }\n",
              "</style>\n",
              "<table border=\"1\" class=\"dataframe\">\n",
              "  <thead>\n",
              "    <tr style=\"text-align: right;\">\n",
              "      <th></th>\n",
              "      <th>season</th>\n",
              "      <th>holiday</th>\n",
              "      <th>workingday</th>\n",
              "      <th>weather</th>\n",
              "      <th>humidity</th>\n",
              "      <th>windspeed</th>\n",
              "      <th>pollution</th>\n",
              "      <th>traffic</th>\n",
              "      <th>ef</th>\n",
              "      <th>hour_sin</th>\n",
              "      <th>hour_cos</th>\n",
              "      <th>day_sin</th>\n",
              "      <th>day_cos</th>\n",
              "      <th>day</th>\n",
              "      <th>month</th>\n",
              "      <th>year</th>\n",
              "    </tr>\n",
              "  </thead>\n",
              "  <tbody>\n",
              "    <tr>\n",
              "      <th>0</th>\n",
              "      <td>3</td>\n",
              "      <td>0</td>\n",
              "      <td>1</td>\n",
              "      <td>1</td>\n",
              "      <td>59</td>\n",
              "      <td>0.0000</td>\n",
              "      <td>10.317020</td>\n",
              "      <td>0.015615</td>\n",
              "      <td>3872.698541</td>\n",
              "      <td>2.588190e-01</td>\n",
              "      <td>-9.659258e-01</td>\n",
              "      <td>-0.296713</td>\n",
              "      <td>-0.954967</td>\n",
              "      <td>19</td>\n",
              "      <td>7</td>\n",
              "      <td>2011</td>\n",
              "    </tr>\n",
              "    <tr>\n",
              "      <th>1</th>\n",
              "      <td>1</td>\n",
              "      <td>1</td>\n",
              "      <td>0</td>\n",
              "      <td>1</td>\n",
              "      <td>54</td>\n",
              "      <td>6.0032</td>\n",
              "      <td>3.502209</td>\n",
              "      <td>0.004489</td>\n",
              "      <td>80.140601</td>\n",
              "      <td>1.000000e+00</td>\n",
              "      <td>6.123234e-17</td>\n",
              "      <td>0.271958</td>\n",
              "      <td>0.962309</td>\n",
              "      <td>16</td>\n",
              "      <td>1</td>\n",
              "      <td>2012</td>\n",
              "    </tr>\n",
              "    <tr>\n",
              "      <th>2</th>\n",
              "      <td>4</td>\n",
              "      <td>0</td>\n",
              "      <td>0</td>\n",
              "      <td>1</td>\n",
              "      <td>48</td>\n",
              "      <td>12.9980</td>\n",
              "      <td>25.945915</td>\n",
              "      <td>0.000000</td>\n",
              "      <td>322.834106</td>\n",
              "      <td>-1.000000e+00</td>\n",
              "      <td>-1.836970e-16</td>\n",
              "      <td>-0.337523</td>\n",
              "      <td>0.941317</td>\n",
              "      <td>11</td>\n",
              "      <td>12</td>\n",
              "      <td>2011</td>\n",
              "    </tr>\n",
              "    <tr>\n",
              "      <th>3</th>\n",
              "      <td>3</td>\n",
              "      <td>0</td>\n",
              "      <td>1</td>\n",
              "      <td>2</td>\n",
              "      <td>62</td>\n",
              "      <td>12.9980</td>\n",
              "      <td>116.935908</td>\n",
              "      <td>0.004489</td>\n",
              "      <td>2905.047941</td>\n",
              "      <td>5.000000e-01</td>\n",
              "      <td>-8.660254e-01</td>\n",
              "      <td>-0.705584</td>\n",
              "      <td>-0.708627</td>\n",
              "      <td>15</td>\n",
              "      <td>8</td>\n",
              "      <td>2012</td>\n",
              "    </tr>\n",
              "    <tr>\n",
              "      <th>4</th>\n",
              "      <td>2</td>\n",
              "      <td>0</td>\n",
              "      <td>1</td>\n",
              "      <td>1</td>\n",
              "      <td>53</td>\n",
              "      <td>16.9979</td>\n",
              "      <td>120.824789</td>\n",
              "      <td>0.015615</td>\n",
              "      <td>2257.127241</td>\n",
              "      <td>-2.588190e-01</td>\n",
              "      <td>9.659258e-01</td>\n",
              "      <td>0.263665</td>\n",
              "      <td>-0.964614</td>\n",
              "      <td>15</td>\n",
              "      <td>6</td>\n",
              "      <td>2012</td>\n",
              "    </tr>\n",
              "    <tr>\n",
              "      <th>...</th>\n",
              "      <td>...</td>\n",
              "      <td>...</td>\n",
              "      <td>...</td>\n",
              "      <td>...</td>\n",
              "      <td>...</td>\n",
              "      <td>...</td>\n",
              "      <td>...</td>\n",
              "      <td>...</td>\n",
              "      <td>...</td>\n",
              "      <td>...</td>\n",
              "      <td>...</td>\n",
              "      <td>...</td>\n",
              "      <td>...</td>\n",
              "      <td>...</td>\n",
              "      <td>...</td>\n",
              "      <td>...</td>\n",
              "    </tr>\n",
              "    <tr>\n",
              "      <th>2717</th>\n",
              "      <td>1</td>\n",
              "      <td>0</td>\n",
              "      <td>0</td>\n",
              "      <td>1</td>\n",
              "      <td>29</td>\n",
              "      <td>27.9993</td>\n",
              "      <td>44.665581</td>\n",
              "      <td>0.000242</td>\n",
              "      <td>1428.118601</td>\n",
              "      <td>-7.071068e-01</td>\n",
              "      <td>-7.071068e-01</td>\n",
              "      <td>0.974100</td>\n",
              "      <td>0.226116</td>\n",
              "      <td>19</td>\n",
              "      <td>3</td>\n",
              "      <td>2011</td>\n",
              "    </tr>\n",
              "    <tr>\n",
              "      <th>2718</th>\n",
              "      <td>1</td>\n",
              "      <td>0</td>\n",
              "      <td>0</td>\n",
              "      <td>1</td>\n",
              "      <td>37</td>\n",
              "      <td>19.9995</td>\n",
              "      <td>31.090380</td>\n",
              "      <td>0.000000</td>\n",
              "      <td>956.359826</td>\n",
              "      <td>-8.660254e-01</td>\n",
              "      <td>-5.000000e-01</td>\n",
              "      <td>0.137279</td>\n",
              "      <td>0.990532</td>\n",
              "      <td>8</td>\n",
              "      <td>1</td>\n",
              "      <td>2012</td>\n",
              "    </tr>\n",
              "    <tr>\n",
              "      <th>2719</th>\n",
              "      <td>3</td>\n",
              "      <td>0</td>\n",
              "      <td>1</td>\n",
              "      <td>1</td>\n",
              "      <td>74</td>\n",
              "      <td>8.9981</td>\n",
              "      <td>1.075298</td>\n",
              "      <td>0.015615</td>\n",
              "      <td>2429.264921</td>\n",
              "      <td>9.659258e-01</td>\n",
              "      <td>2.588190e-01</td>\n",
              "      <td>-0.162807</td>\n",
              "      <td>-0.986658</td>\n",
              "      <td>11</td>\n",
              "      <td>7</td>\n",
              "      <td>2011</td>\n",
              "    </tr>\n",
              "    <tr>\n",
              "      <th>2720</th>\n",
              "      <td>3</td>\n",
              "      <td>0</td>\n",
              "      <td>0</td>\n",
              "      <td>1</td>\n",
              "      <td>65</td>\n",
              "      <td>11.0014</td>\n",
              "      <td>2.291586</td>\n",
              "      <td>0.004489</td>\n",
              "      <td>2429.264921</td>\n",
              "      <td>8.660254e-01</td>\n",
              "      <td>-5.000000e-01</td>\n",
              "      <td>-0.247022</td>\n",
              "      <td>-0.969010</td>\n",
              "      <td>16</td>\n",
              "      <td>7</td>\n",
              "      <td>2011</td>\n",
              "    </tr>\n",
              "    <tr>\n",
              "      <th>2721</th>\n",
              "      <td>1</td>\n",
              "      <td>0</td>\n",
              "      <td>0</td>\n",
              "      <td>1</td>\n",
              "      <td>77</td>\n",
              "      <td>19.0012</td>\n",
              "      <td>8.940201</td>\n",
              "      <td>0.015615</td>\n",
              "      <td>1042.955341</td>\n",
              "      <td>1.224647e-16</td>\n",
              "      <td>-1.000000e+00</td>\n",
              "      <td>0.017213</td>\n",
              "      <td>0.999852</td>\n",
              "      <td>1</td>\n",
              "      <td>1</td>\n",
              "      <td>2011</td>\n",
              "    </tr>\n",
              "  </tbody>\n",
              "</table>\n",
              "<p>2722 rows × 16 columns</p>\n",
              "</div>\n",
              "      <button class=\"colab-df-convert\" onclick=\"convertToInteractive('df-96d983cf-f3b2-488b-af5e-bd6bdf2c3295')\"\n",
              "              title=\"Convert this dataframe to an interactive table.\"\n",
              "              style=\"display:none;\">\n",
              "        \n",
              "  <svg xmlns=\"http://www.w3.org/2000/svg\" height=\"24px\"viewBox=\"0 0 24 24\"\n",
              "       width=\"24px\">\n",
              "    <path d=\"M0 0h24v24H0V0z\" fill=\"none\"/>\n",
              "    <path d=\"M18.56 5.44l.94 2.06.94-2.06 2.06-.94-2.06-.94-.94-2.06-.94 2.06-2.06.94zm-11 1L8.5 8.5l.94-2.06 2.06-.94-2.06-.94L8.5 2.5l-.94 2.06-2.06.94zm10 10l.94 2.06.94-2.06 2.06-.94-2.06-.94-.94-2.06-.94 2.06-2.06.94z\"/><path d=\"M17.41 7.96l-1.37-1.37c-.4-.4-.92-.59-1.43-.59-.52 0-1.04.2-1.43.59L10.3 9.45l-7.72 7.72c-.78.78-.78 2.05 0 2.83L4 21.41c.39.39.9.59 1.41.59.51 0 1.02-.2 1.41-.59l7.78-7.78 2.81-2.81c.8-.78.8-2.07 0-2.86zM5.41 20L4 18.59l7.72-7.72 1.47 1.35L5.41 20z\"/>\n",
              "  </svg>\n",
              "      </button>\n",
              "      \n",
              "  <style>\n",
              "    .colab-df-container {\n",
              "      display:flex;\n",
              "      flex-wrap:wrap;\n",
              "      gap: 12px;\n",
              "    }\n",
              "\n",
              "    .colab-df-convert {\n",
              "      background-color: #E8F0FE;\n",
              "      border: none;\n",
              "      border-radius: 50%;\n",
              "      cursor: pointer;\n",
              "      display: none;\n",
              "      fill: #1967D2;\n",
              "      height: 32px;\n",
              "      padding: 0 0 0 0;\n",
              "      width: 32px;\n",
              "    }\n",
              "\n",
              "    .colab-df-convert:hover {\n",
              "      background-color: #E2EBFA;\n",
              "      box-shadow: 0px 1px 2px rgba(60, 64, 67, 0.3), 0px 1px 3px 1px rgba(60, 64, 67, 0.15);\n",
              "      fill: #174EA6;\n",
              "    }\n",
              "\n",
              "    [theme=dark] .colab-df-convert {\n",
              "      background-color: #3B4455;\n",
              "      fill: #D2E3FC;\n",
              "    }\n",
              "\n",
              "    [theme=dark] .colab-df-convert:hover {\n",
              "      background-color: #434B5C;\n",
              "      box-shadow: 0px 1px 3px 1px rgba(0, 0, 0, 0.15);\n",
              "      filter: drop-shadow(0px 1px 2px rgba(0, 0, 0, 0.3));\n",
              "      fill: #FFFFFF;\n",
              "    }\n",
              "  </style>\n",
              "\n",
              "      <script>\n",
              "        const buttonEl =\n",
              "          document.querySelector('#df-96d983cf-f3b2-488b-af5e-bd6bdf2c3295 button.colab-df-convert');\n",
              "        buttonEl.style.display =\n",
              "          google.colab.kernel.accessAllowed ? 'block' : 'none';\n",
              "\n",
              "        async function convertToInteractive(key) {\n",
              "          const element = document.querySelector('#df-96d983cf-f3b2-488b-af5e-bd6bdf2c3295');\n",
              "          const dataTable =\n",
              "            await google.colab.kernel.invokeFunction('convertToInteractive',\n",
              "                                                     [key], {});\n",
              "          if (!dataTable) return;\n",
              "\n",
              "          const docLinkHtml = 'Like what you see? Visit the ' +\n",
              "            '<a target=\"_blank\" href=https://colab.research.google.com/notebooks/data_table.ipynb>data table notebook</a>'\n",
              "            + ' to learn more about interactive tables.';\n",
              "          element.innerHTML = '';\n",
              "          dataTable['output_type'] = 'display_data';\n",
              "          await google.colab.output.renderOutput(dataTable, element);\n",
              "          const docLink = document.createElement('div');\n",
              "          docLink.innerHTML = docLinkHtml;\n",
              "          element.appendChild(docLink);\n",
              "        }\n",
              "      </script>\n",
              "    </div>\n",
              "  </div>\n",
              "  "
            ]
          },
          "metadata": {},
          "execution_count": 63
        }
      ]
    },
    {
      "cell_type": "code",
      "source": [
        "df2 = pd.read_csv('https://github.com/odedovadia/AdvancedMLDLCourse/blob/main/Assignments/Assignment%20I/train.csv?raw=true')\n",
        "df2"
      ],
      "metadata": {
        "colab": {
          "base_uri": "https://localhost:8080/",
          "height": 835
        },
        "id": "YM8umtuzJ2_0",
        "outputId": "f0d3f8d0-fd42-4ed5-b745-e8d9a564a603"
      },
      "execution_count": 64,
      "outputs": [
        {
          "output_type": "execute_result",
          "data": {
            "text/plain": [
              "                 datetime  season  holiday  workingday  weather   temp  \\\n",
              "0     2011-07-11 00:00:00       3        0           1        1  28.70   \n",
              "1     2012-05-18 22:00:00       2        0           1        1  22.96   \n",
              "2     2011-04-01 23:00:00       2        0           1        1  12.30   \n",
              "3     2012-09-16 09:00:00       3        0           0        1  23.78   \n",
              "4     2011-02-01 23:00:00       1        0           1        3   8.20   \n",
              "...                   ...     ...      ...         ...      ...    ...   \n",
              "8159  2012-01-14 02:00:00       1        0           0        1   6.56   \n",
              "8160  2011-12-10 09:00:00       4        0           0        1  11.48   \n",
              "8161  2011-12-18 16:00:00       4        0           0        1  11.48   \n",
              "8162  2011-02-19 07:00:00       1        0           0        1  15.58   \n",
              "8163  2012-05-02 07:00:00       2        0           1        2  22.14   \n",
              "\n",
              "       atemp  humidity  windspeed  pollution  sunlight   traffic  count  \n",
              "0     32.575        65    12.9980   5.354100    28.701  0.000000     35  \n",
              "1     26.515        52    22.0028  85.425233    22.961  0.004489    251  \n",
              "2     15.910        61     6.0032   2.040899    12.301  0.000242     53  \n",
              "3     27.275        60     8.9981  26.682772    23.781  0.004489    296  \n",
              "4      9.850        93    12.9980   5.851754     8.201  0.000000     16  \n",
              "...      ...       ...        ...        ...       ...       ...    ...  \n",
              "8159   8.335        47    11.0014  14.953355     6.561  0.004489     38  \n",
              "8160  12.880        61    19.0012   7.977025    11.481  0.000000    149  \n",
              "8161  13.635        48    16.9979   6.916512    11.481  0.015615    234  \n",
              "8162  19.695        17    35.0008   0.095445    15.581  0.000242     22  \n",
              "8163  25.760        88    12.9980  81.965417    22.141  0.015615    358  \n",
              "\n",
              "[8164 rows x 13 columns]"
            ],
            "text/html": [
              "\n",
              "  <div id=\"df-a592a758-ddc3-44e3-b9d6-17d43d214694\">\n",
              "    <div class=\"colab-df-container\">\n",
              "      <div>\n",
              "<style scoped>\n",
              "    .dataframe tbody tr th:only-of-type {\n",
              "        vertical-align: middle;\n",
              "    }\n",
              "\n",
              "    .dataframe tbody tr th {\n",
              "        vertical-align: top;\n",
              "    }\n",
              "\n",
              "    .dataframe thead th {\n",
              "        text-align: right;\n",
              "    }\n",
              "</style>\n",
              "<table border=\"1\" class=\"dataframe\">\n",
              "  <thead>\n",
              "    <tr style=\"text-align: right;\">\n",
              "      <th></th>\n",
              "      <th>datetime</th>\n",
              "      <th>season</th>\n",
              "      <th>holiday</th>\n",
              "      <th>workingday</th>\n",
              "      <th>weather</th>\n",
              "      <th>temp</th>\n",
              "      <th>atemp</th>\n",
              "      <th>humidity</th>\n",
              "      <th>windspeed</th>\n",
              "      <th>pollution</th>\n",
              "      <th>sunlight</th>\n",
              "      <th>traffic</th>\n",
              "      <th>count</th>\n",
              "    </tr>\n",
              "  </thead>\n",
              "  <tbody>\n",
              "    <tr>\n",
              "      <th>0</th>\n",
              "      <td>2011-07-11 00:00:00</td>\n",
              "      <td>3</td>\n",
              "      <td>0</td>\n",
              "      <td>1</td>\n",
              "      <td>1</td>\n",
              "      <td>28.70</td>\n",
              "      <td>32.575</td>\n",
              "      <td>65</td>\n",
              "      <td>12.9980</td>\n",
              "      <td>5.354100</td>\n",
              "      <td>28.701</td>\n",
              "      <td>0.000000</td>\n",
              "      <td>35</td>\n",
              "    </tr>\n",
              "    <tr>\n",
              "      <th>1</th>\n",
              "      <td>2012-05-18 22:00:00</td>\n",
              "      <td>2</td>\n",
              "      <td>0</td>\n",
              "      <td>1</td>\n",
              "      <td>1</td>\n",
              "      <td>22.96</td>\n",
              "      <td>26.515</td>\n",
              "      <td>52</td>\n",
              "      <td>22.0028</td>\n",
              "      <td>85.425233</td>\n",
              "      <td>22.961</td>\n",
              "      <td>0.004489</td>\n",
              "      <td>251</td>\n",
              "    </tr>\n",
              "    <tr>\n",
              "      <th>2</th>\n",
              "      <td>2011-04-01 23:00:00</td>\n",
              "      <td>2</td>\n",
              "      <td>0</td>\n",
              "      <td>1</td>\n",
              "      <td>1</td>\n",
              "      <td>12.30</td>\n",
              "      <td>15.910</td>\n",
              "      <td>61</td>\n",
              "      <td>6.0032</td>\n",
              "      <td>2.040899</td>\n",
              "      <td>12.301</td>\n",
              "      <td>0.000242</td>\n",
              "      <td>53</td>\n",
              "    </tr>\n",
              "    <tr>\n",
              "      <th>3</th>\n",
              "      <td>2012-09-16 09:00:00</td>\n",
              "      <td>3</td>\n",
              "      <td>0</td>\n",
              "      <td>0</td>\n",
              "      <td>1</td>\n",
              "      <td>23.78</td>\n",
              "      <td>27.275</td>\n",
              "      <td>60</td>\n",
              "      <td>8.9981</td>\n",
              "      <td>26.682772</td>\n",
              "      <td>23.781</td>\n",
              "      <td>0.004489</td>\n",
              "      <td>296</td>\n",
              "    </tr>\n",
              "    <tr>\n",
              "      <th>4</th>\n",
              "      <td>2011-02-01 23:00:00</td>\n",
              "      <td>1</td>\n",
              "      <td>0</td>\n",
              "      <td>1</td>\n",
              "      <td>3</td>\n",
              "      <td>8.20</td>\n",
              "      <td>9.850</td>\n",
              "      <td>93</td>\n",
              "      <td>12.9980</td>\n",
              "      <td>5.851754</td>\n",
              "      <td>8.201</td>\n",
              "      <td>0.000000</td>\n",
              "      <td>16</td>\n",
              "    </tr>\n",
              "    <tr>\n",
              "      <th>...</th>\n",
              "      <td>...</td>\n",
              "      <td>...</td>\n",
              "      <td>...</td>\n",
              "      <td>...</td>\n",
              "      <td>...</td>\n",
              "      <td>...</td>\n",
              "      <td>...</td>\n",
              "      <td>...</td>\n",
              "      <td>...</td>\n",
              "      <td>...</td>\n",
              "      <td>...</td>\n",
              "      <td>...</td>\n",
              "      <td>...</td>\n",
              "    </tr>\n",
              "    <tr>\n",
              "      <th>8159</th>\n",
              "      <td>2012-01-14 02:00:00</td>\n",
              "      <td>1</td>\n",
              "      <td>0</td>\n",
              "      <td>0</td>\n",
              "      <td>1</td>\n",
              "      <td>6.56</td>\n",
              "      <td>8.335</td>\n",
              "      <td>47</td>\n",
              "      <td>11.0014</td>\n",
              "      <td>14.953355</td>\n",
              "      <td>6.561</td>\n",
              "      <td>0.004489</td>\n",
              "      <td>38</td>\n",
              "    </tr>\n",
              "    <tr>\n",
              "      <th>8160</th>\n",
              "      <td>2011-12-10 09:00:00</td>\n",
              "      <td>4</td>\n",
              "      <td>0</td>\n",
              "      <td>0</td>\n",
              "      <td>1</td>\n",
              "      <td>11.48</td>\n",
              "      <td>12.880</td>\n",
              "      <td>61</td>\n",
              "      <td>19.0012</td>\n",
              "      <td>7.977025</td>\n",
              "      <td>11.481</td>\n",
              "      <td>0.000000</td>\n",
              "      <td>149</td>\n",
              "    </tr>\n",
              "    <tr>\n",
              "      <th>8161</th>\n",
              "      <td>2011-12-18 16:00:00</td>\n",
              "      <td>4</td>\n",
              "      <td>0</td>\n",
              "      <td>0</td>\n",
              "      <td>1</td>\n",
              "      <td>11.48</td>\n",
              "      <td>13.635</td>\n",
              "      <td>48</td>\n",
              "      <td>16.9979</td>\n",
              "      <td>6.916512</td>\n",
              "      <td>11.481</td>\n",
              "      <td>0.015615</td>\n",
              "      <td>234</td>\n",
              "    </tr>\n",
              "    <tr>\n",
              "      <th>8162</th>\n",
              "      <td>2011-02-19 07:00:00</td>\n",
              "      <td>1</td>\n",
              "      <td>0</td>\n",
              "      <td>0</td>\n",
              "      <td>1</td>\n",
              "      <td>15.58</td>\n",
              "      <td>19.695</td>\n",
              "      <td>17</td>\n",
              "      <td>35.0008</td>\n",
              "      <td>0.095445</td>\n",
              "      <td>15.581</td>\n",
              "      <td>0.000242</td>\n",
              "      <td>22</td>\n",
              "    </tr>\n",
              "    <tr>\n",
              "      <th>8163</th>\n",
              "      <td>2012-05-02 07:00:00</td>\n",
              "      <td>2</td>\n",
              "      <td>0</td>\n",
              "      <td>1</td>\n",
              "      <td>2</td>\n",
              "      <td>22.14</td>\n",
              "      <td>25.760</td>\n",
              "      <td>88</td>\n",
              "      <td>12.9980</td>\n",
              "      <td>81.965417</td>\n",
              "      <td>22.141</td>\n",
              "      <td>0.015615</td>\n",
              "      <td>358</td>\n",
              "    </tr>\n",
              "  </tbody>\n",
              "</table>\n",
              "<p>8164 rows × 13 columns</p>\n",
              "</div>\n",
              "      <button class=\"colab-df-convert\" onclick=\"convertToInteractive('df-a592a758-ddc3-44e3-b9d6-17d43d214694')\"\n",
              "              title=\"Convert this dataframe to an interactive table.\"\n",
              "              style=\"display:none;\">\n",
              "        \n",
              "  <svg xmlns=\"http://www.w3.org/2000/svg\" height=\"24px\"viewBox=\"0 0 24 24\"\n",
              "       width=\"24px\">\n",
              "    <path d=\"M0 0h24v24H0V0z\" fill=\"none\"/>\n",
              "    <path d=\"M18.56 5.44l.94 2.06.94-2.06 2.06-.94-2.06-.94-.94-2.06-.94 2.06-2.06.94zm-11 1L8.5 8.5l.94-2.06 2.06-.94-2.06-.94L8.5 2.5l-.94 2.06-2.06.94zm10 10l.94 2.06.94-2.06 2.06-.94-2.06-.94-.94-2.06-.94 2.06-2.06.94z\"/><path d=\"M17.41 7.96l-1.37-1.37c-.4-.4-.92-.59-1.43-.59-.52 0-1.04.2-1.43.59L10.3 9.45l-7.72 7.72c-.78.78-.78 2.05 0 2.83L4 21.41c.39.39.9.59 1.41.59.51 0 1.02-.2 1.41-.59l7.78-7.78 2.81-2.81c.8-.78.8-2.07 0-2.86zM5.41 20L4 18.59l7.72-7.72 1.47 1.35L5.41 20z\"/>\n",
              "  </svg>\n",
              "      </button>\n",
              "      \n",
              "  <style>\n",
              "    .colab-df-container {\n",
              "      display:flex;\n",
              "      flex-wrap:wrap;\n",
              "      gap: 12px;\n",
              "    }\n",
              "\n",
              "    .colab-df-convert {\n",
              "      background-color: #E8F0FE;\n",
              "      border: none;\n",
              "      border-radius: 50%;\n",
              "      cursor: pointer;\n",
              "      display: none;\n",
              "      fill: #1967D2;\n",
              "      height: 32px;\n",
              "      padding: 0 0 0 0;\n",
              "      width: 32px;\n",
              "    }\n",
              "\n",
              "    .colab-df-convert:hover {\n",
              "      background-color: #E2EBFA;\n",
              "      box-shadow: 0px 1px 2px rgba(60, 64, 67, 0.3), 0px 1px 3px 1px rgba(60, 64, 67, 0.15);\n",
              "      fill: #174EA6;\n",
              "    }\n",
              "\n",
              "    [theme=dark] .colab-df-convert {\n",
              "      background-color: #3B4455;\n",
              "      fill: #D2E3FC;\n",
              "    }\n",
              "\n",
              "    [theme=dark] .colab-df-convert:hover {\n",
              "      background-color: #434B5C;\n",
              "      box-shadow: 0px 1px 3px 1px rgba(0, 0, 0, 0.15);\n",
              "      filter: drop-shadow(0px 1px 2px rgba(0, 0, 0, 0.3));\n",
              "      fill: #FFFFFF;\n",
              "    }\n",
              "  </style>\n",
              "\n",
              "      <script>\n",
              "        const buttonEl =\n",
              "          document.querySelector('#df-a592a758-ddc3-44e3-b9d6-17d43d214694 button.colab-df-convert');\n",
              "        buttonEl.style.display =\n",
              "          google.colab.kernel.accessAllowed ? 'block' : 'none';\n",
              "\n",
              "        async function convertToInteractive(key) {\n",
              "          const element = document.querySelector('#df-a592a758-ddc3-44e3-b9d6-17d43d214694');\n",
              "          const dataTable =\n",
              "            await google.colab.kernel.invokeFunction('convertToInteractive',\n",
              "                                                     [key], {});\n",
              "          if (!dataTable) return;\n",
              "\n",
              "          const docLinkHtml = 'Like what you see? Visit the ' +\n",
              "            '<a target=\"_blank\" href=https://colab.research.google.com/notebooks/data_table.ipynb>data table notebook</a>'\n",
              "            + ' to learn more about interactive tables.';\n",
              "          element.innerHTML = '';\n",
              "          dataTable['output_type'] = 'display_data';\n",
              "          await google.colab.output.renderOutput(dataTable, element);\n",
              "          const docLink = document.createElement('div');\n",
              "          docLink.innerHTML = docLinkHtml;\n",
              "          element.appendChild(docLink);\n",
              "        }\n",
              "      </script>\n",
              "    </div>\n",
              "  </div>\n",
              "  "
            ]
          },
          "metadata": {},
          "execution_count": 64
        }
      ]
    },
    {
      "cell_type": "code",
      "source": [
        "results = {'model': model_list,\n",
        "           'Score (RMSE)': Score_list,\n",
        "           'Hyperparams used': [ ['None'], ['max_features: auto'], ['loss : square'] ],\n",
        "           'Features dropped': [['datetime','temp','atemp','sunlight','traffic'], ['datetime','temp','atemp','sunlight','traffic'], ['datetime','temp','atemp','sunlight','traffic']],\n",
        "           'New features created': [['hour_sin','hour_cos','day_sin','day_cos','day','month','year','ef'], ['hour_sin','hour_cos','day_sin','day_cos','day','month','year','ef'], ['hour_sin','hour_cos','day_sin','day_cos','day','month','year','ef']],\n",
        "           'Runtime trainining + inference (seconds)': [47, 47, 47],\n",
        "           'Hardware used (GPU/CPU/TPU)': ['GPU', 'GPU', 'GPU'],\n",
        "           'Explainability (top 3 features)': [['hour_sin','hour_cos','pollution'], ['hour_sin','hour_cos','pollution'], ['hour_sin','hour_cos','pollution']]\n",
        "           }\n",
        "\n",
        "df = pd.DataFrame(results)\n",
        "df"
      ],
      "metadata": {
        "id": "CaKyB8Rx29-I",
        "colab": {
          "base_uri": "https://localhost:8080/",
          "height": 448
        },
        "outputId": "4ff79fea-dfc2-4da9-8ae6-d8571b8f1d6f"
      },
      "execution_count": 65,
      "outputs": [
        {
          "output_type": "execute_result",
          "data": {
            "text/plain": [
              "               model  Score (RMSE)      Hyperparams used  \\\n",
              "0  Linear regression    109.362225                [None]   \n",
              "1      Random forest     50.788587  [max_features: auto]   \n",
              "2          ADA Boost     95.607976       [loss : square]   \n",
              "\n",
              "                             Features dropped  \\\n",
              "0  [datetime, temp, atemp, sunlight, traffic]   \n",
              "1  [datetime, temp, atemp, sunlight, traffic]   \n",
              "2  [datetime, temp, atemp, sunlight, traffic]   \n",
              "\n",
              "                                New features created  \\\n",
              "0  [hour_sin, hour_cos, day_sin, day_cos, day, mo...   \n",
              "1  [hour_sin, hour_cos, day_sin, day_cos, day, mo...   \n",
              "2  [hour_sin, hour_cos, day_sin, day_cos, day, mo...   \n",
              "\n",
              "   Runtime trainining + inference (seconds) Hardware used (GPU/CPU/TPU)  \\\n",
              "0                                        47                         GPU   \n",
              "1                                        47                         GPU   \n",
              "2                                        47                         GPU   \n",
              "\n",
              "   Explainability (top 3 features)  \n",
              "0  [hour_sin, hour_cos, pollution]  \n",
              "1  [hour_sin, hour_cos, pollution]  \n",
              "2  [hour_sin, hour_cos, pollution]  "
            ],
            "text/html": [
              "\n",
              "  <div id=\"df-4fd312d9-37cf-4cf7-aaa4-7ebe2b881f12\">\n",
              "    <div class=\"colab-df-container\">\n",
              "      <div>\n",
              "<style scoped>\n",
              "    .dataframe tbody tr th:only-of-type {\n",
              "        vertical-align: middle;\n",
              "    }\n",
              "\n",
              "    .dataframe tbody tr th {\n",
              "        vertical-align: top;\n",
              "    }\n",
              "\n",
              "    .dataframe thead th {\n",
              "        text-align: right;\n",
              "    }\n",
              "</style>\n",
              "<table border=\"1\" class=\"dataframe\">\n",
              "  <thead>\n",
              "    <tr style=\"text-align: right;\">\n",
              "      <th></th>\n",
              "      <th>model</th>\n",
              "      <th>Score (RMSE)</th>\n",
              "      <th>Hyperparams used</th>\n",
              "      <th>Features dropped</th>\n",
              "      <th>New features created</th>\n",
              "      <th>Runtime trainining + inference (seconds)</th>\n",
              "      <th>Hardware used (GPU/CPU/TPU)</th>\n",
              "      <th>Explainability (top 3 features)</th>\n",
              "    </tr>\n",
              "  </thead>\n",
              "  <tbody>\n",
              "    <tr>\n",
              "      <th>0</th>\n",
              "      <td>Linear regression</td>\n",
              "      <td>109.362225</td>\n",
              "      <td>[None]</td>\n",
              "      <td>[datetime, temp, atemp, sunlight, traffic]</td>\n",
              "      <td>[hour_sin, hour_cos, day_sin, day_cos, day, mo...</td>\n",
              "      <td>47</td>\n",
              "      <td>GPU</td>\n",
              "      <td>[hour_sin, hour_cos, pollution]</td>\n",
              "    </tr>\n",
              "    <tr>\n",
              "      <th>1</th>\n",
              "      <td>Random forest</td>\n",
              "      <td>50.788587</td>\n",
              "      <td>[max_features: auto]</td>\n",
              "      <td>[datetime, temp, atemp, sunlight, traffic]</td>\n",
              "      <td>[hour_sin, hour_cos, day_sin, day_cos, day, mo...</td>\n",
              "      <td>47</td>\n",
              "      <td>GPU</td>\n",
              "      <td>[hour_sin, hour_cos, pollution]</td>\n",
              "    </tr>\n",
              "    <tr>\n",
              "      <th>2</th>\n",
              "      <td>ADA Boost</td>\n",
              "      <td>95.607976</td>\n",
              "      <td>[loss : square]</td>\n",
              "      <td>[datetime, temp, atemp, sunlight, traffic]</td>\n",
              "      <td>[hour_sin, hour_cos, day_sin, day_cos, day, mo...</td>\n",
              "      <td>47</td>\n",
              "      <td>GPU</td>\n",
              "      <td>[hour_sin, hour_cos, pollution]</td>\n",
              "    </tr>\n",
              "  </tbody>\n",
              "</table>\n",
              "</div>\n",
              "      <button class=\"colab-df-convert\" onclick=\"convertToInteractive('df-4fd312d9-37cf-4cf7-aaa4-7ebe2b881f12')\"\n",
              "              title=\"Convert this dataframe to an interactive table.\"\n",
              "              style=\"display:none;\">\n",
              "        \n",
              "  <svg xmlns=\"http://www.w3.org/2000/svg\" height=\"24px\"viewBox=\"0 0 24 24\"\n",
              "       width=\"24px\">\n",
              "    <path d=\"M0 0h24v24H0V0z\" fill=\"none\"/>\n",
              "    <path d=\"M18.56 5.44l.94 2.06.94-2.06 2.06-.94-2.06-.94-.94-2.06-.94 2.06-2.06.94zm-11 1L8.5 8.5l.94-2.06 2.06-.94-2.06-.94L8.5 2.5l-.94 2.06-2.06.94zm10 10l.94 2.06.94-2.06 2.06-.94-2.06-.94-.94-2.06-.94 2.06-2.06.94z\"/><path d=\"M17.41 7.96l-1.37-1.37c-.4-.4-.92-.59-1.43-.59-.52 0-1.04.2-1.43.59L10.3 9.45l-7.72 7.72c-.78.78-.78 2.05 0 2.83L4 21.41c.39.39.9.59 1.41.59.51 0 1.02-.2 1.41-.59l7.78-7.78 2.81-2.81c.8-.78.8-2.07 0-2.86zM5.41 20L4 18.59l7.72-7.72 1.47 1.35L5.41 20z\"/>\n",
              "  </svg>\n",
              "      </button>\n",
              "      \n",
              "  <style>\n",
              "    .colab-df-container {\n",
              "      display:flex;\n",
              "      flex-wrap:wrap;\n",
              "      gap: 12px;\n",
              "    }\n",
              "\n",
              "    .colab-df-convert {\n",
              "      background-color: #E8F0FE;\n",
              "      border: none;\n",
              "      border-radius: 50%;\n",
              "      cursor: pointer;\n",
              "      display: none;\n",
              "      fill: #1967D2;\n",
              "      height: 32px;\n",
              "      padding: 0 0 0 0;\n",
              "      width: 32px;\n",
              "    }\n",
              "\n",
              "    .colab-df-convert:hover {\n",
              "      background-color: #E2EBFA;\n",
              "      box-shadow: 0px 1px 2px rgba(60, 64, 67, 0.3), 0px 1px 3px 1px rgba(60, 64, 67, 0.15);\n",
              "      fill: #174EA6;\n",
              "    }\n",
              "\n",
              "    [theme=dark] .colab-df-convert {\n",
              "      background-color: #3B4455;\n",
              "      fill: #D2E3FC;\n",
              "    }\n",
              "\n",
              "    [theme=dark] .colab-df-convert:hover {\n",
              "      background-color: #434B5C;\n",
              "      box-shadow: 0px 1px 3px 1px rgba(0, 0, 0, 0.15);\n",
              "      filter: drop-shadow(0px 1px 2px rgba(0, 0, 0, 0.3));\n",
              "      fill: #FFFFFF;\n",
              "    }\n",
              "  </style>\n",
              "\n",
              "      <script>\n",
              "        const buttonEl =\n",
              "          document.querySelector('#df-4fd312d9-37cf-4cf7-aaa4-7ebe2b881f12 button.colab-df-convert');\n",
              "        buttonEl.style.display =\n",
              "          google.colab.kernel.accessAllowed ? 'block' : 'none';\n",
              "\n",
              "        async function convertToInteractive(key) {\n",
              "          const element = document.querySelector('#df-4fd312d9-37cf-4cf7-aaa4-7ebe2b881f12');\n",
              "          const dataTable =\n",
              "            await google.colab.kernel.invokeFunction('convertToInteractive',\n",
              "                                                     [key], {});\n",
              "          if (!dataTable) return;\n",
              "\n",
              "          const docLinkHtml = 'Like what you see? Visit the ' +\n",
              "            '<a target=\"_blank\" href=https://colab.research.google.com/notebooks/data_table.ipynb>data table notebook</a>'\n",
              "            + ' to learn more about interactive tables.';\n",
              "          element.innerHTML = '';\n",
              "          dataTable['output_type'] = 'display_data';\n",
              "          await google.colab.output.renderOutput(dataTable, element);\n",
              "          const docLink = document.createElement('div');\n",
              "          docLink.innerHTML = docLinkHtml;\n",
              "          element.appendChild(docLink);\n",
              "        }\n",
              "      </script>\n",
              "    </div>\n",
              "  </div>\n",
              "  "
            ]
          },
          "metadata": {},
          "execution_count": 65
        }
      ]
    },
    {
      "cell_type": "code",
      "source": [
        "import os\n",
        "df.to_csv(os.path.join(os.getcwd(), 'SOMI.csv'))"
      ],
      "metadata": {
        "id": "9z5oMiP82-mC"
      },
      "execution_count": 66,
      "outputs": []
    }
  ]
}